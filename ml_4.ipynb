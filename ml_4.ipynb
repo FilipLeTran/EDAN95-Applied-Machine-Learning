{
  "cells": [
    {
      "cell_type": "markdown",
      "metadata": {
        "id": "DIaZ_3teLjvE"
      },
      "source": [
        "# Classification: Language Detection\n",
        "\n",
        "Authors: Pierre Nugues and Marcus Klang"
      ]
    },
    {
      "cell_type": "markdown",
      "source": [],
      "metadata": {
        "id": "81nb88dQWpZX"
      }
    },
    {
      "cell_type": "markdown",
      "metadata": {
        "id": "FqzkkrzaLjvH"
      },
      "source": [
        "In this programming assignment, you will design and train a classifier to predict the language of a text. More concretely, you will reimplement Google's _Compact language detector_ (CLD3) from a high-level description. Read the description here: https://github.com/google/cld3"
      ]
    },
    {
      "cell_type": "markdown",
      "metadata": {
        "id": "Wnzu2oXKLjvI"
      },
      "source": [
        "## Overview"
      ]
    },
    {
      "cell_type": "markdown",
      "metadata": {
        "id": "FWeZB1XTLjvJ"
      },
      "source": [
        "Your classifier will read a short text, typically a few words or a sentence, and output the probability for all languages observed during training. The text will have a variable length and will be encoded as a Unicode string.\n",
        "\n",
        "As dataset to train your models, you will use [Tatoeba](https://tatoeba.org/sv/), a collaborative, open, and free collection of sentences and translations."
      ]
    },
    {
      "cell_type": "markdown",
      "metadata": {
        "id": "6bCcsmqmLjvJ"
      },
      "source": [
        "You will break down the task into four steps:\n",
        "    \n",
        "  1. Data processing, converting the data into a machine-learnable representation\n",
        "  2. Try and evaluate a simple model, logistic regression. This will be your baseline.\n",
        "  3. Try and evaluate a deeper model inspired by Google's compact language detector, CLD3.\n",
        "  4. CLD3 includes an embedding vectorization. This last part is left as an optional exercise."
      ]
    },
    {
      "cell_type": "markdown",
      "metadata": {
        "id": "oZ2s4btOLjvK"
      },
      "source": [
        "### The Model: CLD3"
      ]
    },
    {
      "cell_type": "markdown",
      "metadata": {
        "id": "GVVNgAISLjvL"
      },
      "source": [
        "CLD3 has three major characteristics:\n",
        "\n",
        "   * It uses **$n$-grams** and splits an input text like _banana_ into three feature vectors that include:\n",
        "       + Each unique character, unigrams ($n=1$)\n",
        "       + Each unique pair of characters obtained from a sliding window of size 2, bigrams ($n=2$)\n",
        "       + Each unique triple of characters obtained from a sliding window of size 3, trigrams ($n=3$)\n",
        "       + These feature sets map to a set of indices (integer value).\n",
        "   \n",
        "   * It **hashes each symbol** i.e. it encrypts the $n$-gram into a fixed range integer.\n",
        "       + This way of mapping features to indices is called feature hashing or the *hashing trick*\n",
        "       + It reduces the number of symbols.\n",
        "       + Constant memory requirements, depends on the hash function -- commonly only a few constants.\n",
        "       + It is an approximate method as collisions can and will occur. Adjusting the size of the feature space i.e. the number of features to hash to, the collision probability can be reduced.\n",
        "   \n",
        "   * For each value of $n$, 1, 2, and 3, CLD3 computes the relative frequencies of the $n$-grams and **use them as weights**. See the figure below.\n",
        "       + The model can map the input indices to embedding vectors (this part is optional)\n",
        "       + It then computes the **weighted average** of the embeddings (this part is optional)\n",
        "       + The model learns the embeddings during training (also optional)\n",
        "       \n",
        "The figure below shows the final architecture."
      ]
    },
    {
      "cell_type": "markdown",
      "metadata": {
        "id": "W4Hmemu4LjvM"
      },
      "source": [
        "![Model overview](https://raw.githubusercontent.com/google/cld3/master/model.png)\n",
        "Image source: https://github.com/google/cld3"
      ]
    },
    {
      "cell_type": "markdown",
      "metadata": {
        "id": "wSGSXZnzLjvN"
      },
      "source": [
        "## Dataset: Tatoeba"
      ]
    },
    {
      "cell_type": "markdown",
      "metadata": {
        "id": "mKF44MfjLjvO"
      },
      "source": [
        "Your instructors have downsampled Tatoeba to reduce training times and guarantee that all the students have the same datasets.\n",
        "* Link to datasets: https://github.com/pnugues/edan96/tree/main/classification%20lab\n",
        "* Link to preprocessing notebook: https://github.com/pnugues/edan96/blob/main/programs/5-tatoeba_eda_select.ipynb\n",
        "\n",
        "You are only required to process the small dataset. The larger one may take take and be difficult to process on small computers."
      ]
    },
    {
      "cell_type": "markdown",
      "metadata": {
        "id": "Zu9AuVGdLjvP"
      },
      "source": [
        "## Preliminaries"
      ]
    },
    {
      "cell_type": "code",
      "execution_count": null,
      "metadata": {
        "id": "nIlU2arMLjvQ"
      },
      "outputs": [],
      "source": [
        "import random\n",
        "import hashlib\n",
        "from collections import Counter\n",
        "from tqdm import tqdm\n",
        "\n",
        "import torch\n",
        "from torch import nn\n",
        "from torch.utils.data import TensorDataset, DataLoader\n",
        "\n",
        "from sklearn.metrics import classification_report, confusion_matrix"
      ]
    },
    {
      "cell_type": "markdown",
      "metadata": {
        "id": "iETbMZHELjvR"
      },
      "source": [
        "Uncomment these lines the first time run the notebook to download the dataset"
      ]
    },
    {
      "cell_type": "code",
      "execution_count": null,
      "metadata": {
        "id": "bIFmC4aCLjvS"
      },
      "outputs": [],
      "source": [
        "# !wget https://github.com/pnugues/edan96/raw/main/classification%20lab/small_dataset.zip\n",
        "# !wget https://github.com/pnugues/edan96/raw/main/classification%20lab/large_dataset.zip\n",
        "# !unzip -o small_dataset.zip\n",
        "# !unzip -o large_dataset.zip"
      ]
    },
    {
      "cell_type": "code",
      "execution_count": null,
      "metadata": {
        "colab": {
          "base_uri": "https://localhost:8080/"
        },
        "id": "o9YCqjPOLjvS",
        "outputId": "61ea3c2e-5b50-4509-b257-d0cf9b41ecee"
      },
      "outputs": [
        {
          "output_type": "execute_result",
          "data": {
            "text/plain": [
              "<torch._C.Generator at 0x7f9d42badc50>"
            ]
          },
          "metadata": {},
          "execution_count": 3
        }
      ],
      "source": [
        "random.seed(4321)\n",
        "torch.manual_seed(4321)"
      ]
    },
    {
      "cell_type": "markdown",
      "metadata": {
        "id": "xshPmDpjLjvU"
      },
      "source": [
        "## Reading the Dataset"
      ]
    },
    {
      "cell_type": "code",
      "execution_count": null,
      "metadata": {
        "id": "MRw5HjNKLjvU"
      },
      "outputs": [],
      "source": [
        "FILENAME_TRAIN = 'train.tsv'\n",
        "FILENAME_VAL = 'val.tsv'\n",
        "FILENAME_TEST = 'test.tsv'"
      ]
    },
    {
      "cell_type": "code",
      "execution_count": null,
      "metadata": {
        "id": "2UwuuEq9LjvV"
      },
      "outputs": [],
      "source": [
        "SMALL_DATASET_PATH = 'small_dataset'\n",
        "LARGE_DATASET_PATH = 'large_dataset'"
      ]
    },
    {
      "cell_type": "markdown",
      "metadata": {
        "id": "taxyaE-yLjvV"
      },
      "source": [
        "## Settings\n",
        "You have here the most significant settings"
      ]
    },
    {
      "cell_type": "code",
      "execution_count": null,
      "metadata": {
        "id": "sKvAXzZoLjvW"
      },
      "outputs": [],
      "source": [
        "LARGE_DATASET = False # Use the small or large dataset\n",
        "REL_FREQ = True # How we represent the n-grams in the input vector: with their relative frequency or with a 1"
      ]
    },
    {
      "cell_type": "code",
      "execution_count": null,
      "metadata": {
        "id": "IB_VodmnLjvW"
      },
      "outputs": [],
      "source": [
        "HIDDEN_LAYER = True  # Neural network with one hidden layer or logistic regression\n",
        "HIDDEN_DIM = 512 # Number of hidden dimensions of the neural network\n",
        "EPOCHS = 10 # Number of epochs\n",
        "BATCH_SIZE = 32 # How many examples we will use for an update in the gradient descent"
      ]
    },
    {
      "cell_type": "code",
      "execution_count": null,
      "metadata": {
        "id": "2KIF5_lTLjvX"
      },
      "outputs": [],
      "source": [
        "if LARGE_DATASET:\n",
        "    dataset_path = LARGE_DATASET_PATH\n",
        "else:\n",
        "    dataset_path = SMALL_DATASET_PATH\n",
        "    \n",
        "# FILE_TRAIN = dataset_path + '/' + FILENAME_TRAIN\n",
        "# FILE_VAL = dataset_path + '/' + FILENAME_VAL\n",
        "# FILE_TEST = dataset_path + '/' + FILENAME_TEST\n",
        "\n",
        "FILE_TRAIN = FILENAME_TRAIN\n",
        "FILE_VAL = FILENAME_VAL\n",
        "FILE_TEST = FILENAME_TEST"
      ]
    },
    {
      "cell_type": "markdown",
      "metadata": {
        "id": "TR0_uF5qLjvX"
      },
      "source": [
        "We create a generator to read the datasets"
      ]
    },
    {
      "cell_type": "code",
      "execution_count": null,
      "metadata": {
        "id": "RTzmk0KmLjvY"
      },
      "outputs": [],
      "source": [
        "def file_reader(file):\n",
        "    with open(file, encoding='utf8', errors='ignore') as f:\n",
        "        for line in f:\n",
        "            row = line.strip()\n",
        "            yield tuple(row.split('\\t'))"
      ]
    },
    {
      "cell_type": "code",
      "execution_count": null,
      "metadata": {
        "id": "EpgF4T9QLjvY"
      },
      "outputs": [],
      "source": [
        "line_generator = file_reader(FILE_TRAIN)"
      ]
    },
    {
      "cell_type": "code",
      "source": [
        "def file_reader_2(file):\n",
        "    dataset = []\n",
        "    with open(file, encoding='utf8', errors='ignore') as f:\n",
        "        for line in f:\n",
        "            entry = []\n",
        "            row = line.strip()\n",
        "            split = row.split('\\t')\n",
        "            dataset.append(split)\n",
        "    return dataset\n",
        "\n",
        "dataset = file_reader_2(FILE_TRAIN)"
      ],
      "metadata": {
        "id": "vkkJx_IiaLxr"
      },
      "execution_count": null,
      "outputs": []
    },
    {
      "cell_type": "code",
      "source": [
        "len(dataset)"
      ],
      "metadata": {
        "colab": {
          "base_uri": "https://localhost:8080/"
        },
        "id": "U010OyxyceLV",
        "outputId": "52144315-34a8-432e-d000-c2b373ff472d"
      },
      "execution_count": null,
      "outputs": [
        {
          "output_type": "execute_result",
          "data": {
            "text/plain": [
              "31376"
            ]
          },
          "metadata": {},
          "execution_count": 12
        }
      ]
    },
    {
      "cell_type": "code",
      "source": [
        "languages = [entry[1] for entry in dataset]\n",
        "\n",
        "language_frequencies = [[lan, languages.count(lan)] for lan in set(languages)]\n",
        "\n",
        "def getValue(entry):\n",
        "  return entry[1]\n",
        "\n",
        "language_frequencies.sort(key=getValue, reverse=True)\n",
        "language_frequencies = dict([(lan[0], lan[1]) for lan in language_frequencies])\n",
        "\n",
        "average_entries = sum([language_frequencies[lan] for lan in language_frequencies.keys()]) / len(language_frequencies)\n",
        "#print(average_entries)"
      ],
      "metadata": {
        "id": "k9cx-llneg92"
      },
      "execution_count": null,
      "outputs": []
    },
    {
      "cell_type": "code",
      "source": [
        "language_frequencies = [[lan, languages.count(lan)] for lan in set(languages)]\n",
        "language_frequencies.sort(key=getValue, reverse=True)\n",
        "language_frequencies[len(language_frequencies) // 2]\n",
        "\n",
        "mean_freq = sum([lan[1] for lan in language_frequencies]) / len(language_frequencies)\n",
        "mean_freq"
      ],
      "metadata": {
        "colab": {
          "base_uri": "https://localhost:8080/"
        },
        "id": "Ny1xC0ST4bzI",
        "outputId": "97a8b936-e043-4c7f-8f57-cc500ff50ed6"
      },
      "execution_count": null,
      "outputs": [
        {
          "output_type": "execute_result",
          "data": {
            "text/plain": [
              "804.5128205128206"
            ]
          },
          "metadata": {},
          "execution_count": 14
        }
      ]
    },
    {
      "cell_type": "code",
      "source": [
        "sentences = [entry[2] for entry in dataset if len(entry) > 2]\n",
        "sentence_lengths = [len(s.split(\" \")) for s in sentences]\n",
        "\n",
        "average_sentence_length = sum(sentence_lengths) / len(sentence_lengths)\n",
        "#print(average_sentence_length)\n",
        "\n",
        "sentence_lengths.sort()\n",
        "\n",
        "median_length = sentence_lengths[len(sentence_lengths) // 2]\n",
        "median_length"
      ],
      "metadata": {
        "colab": {
          "base_uri": "https://localhost:8080/"
        },
        "id": "4qkPtqoNxWvP",
        "outputId": "247884c4-db2f-474d-aba5-85c4d2b75519"
      },
      "execution_count": null,
      "outputs": [
        {
          "output_type": "execute_result",
          "data": {
            "text/plain": [
              "5"
            ]
          },
          "metadata": {},
          "execution_count": 15
        }
      ]
    },
    {
      "cell_type": "markdown",
      "metadata": {
        "id": "an1xnaL-LjvZ"
      },
      "source": [
        "And we count the sentences per language"
      ]
    },
    {
      "cell_type": "code",
      "execution_count": null,
      "metadata": {
        "id": "38_oJB_sLjvZ"
      },
      "outputs": [],
      "source": [
        "lang_freqs = Counter(map(lambda x: x[1], line_generator))"
      ]
    },
    {
      "cell_type": "code",
      "execution_count": null,
      "metadata": {
        "colab": {
          "base_uri": "https://localhost:8080/"
        },
        "id": "ugCFelVMLjva",
        "outputId": "9eacd160-e5df-48d6-e9fb-af2290ba6228"
      },
      "outputs": [
        {
          "output_type": "execute_result",
          "data": {
            "text/plain": [
              "[('rus', 886),\n",
              " ('mkd', 876),\n",
              " ('eng', 873),\n",
              " ('lat', 854),\n",
              " ('swc', 847),\n",
              " ('tur', 844),\n",
              " ('tlh', 843),\n",
              " ('hun', 838),\n",
              " ('vie', 832),\n",
              " ('epo', 830),\n",
              " ('jpn', 830),\n",
              " ('nld', 826),\n",
              " ('lfn', 824),\n",
              " ('deu', 821),\n",
              " ('ces', 814)]"
            ]
          },
          "metadata": {},
          "execution_count": 17
        }
      ],
      "source": [
        "lang_freqs.most_common(15)"
      ]
    },
    {
      "cell_type": "code",
      "execution_count": null,
      "metadata": {
        "colab": {
          "base_uri": "https://localhost:8080/"
        },
        "id": "BPSaQe_OLjvb",
        "outputId": "151c62e2-7bee-475c-d091-092c9a29393f"
      },
      "outputs": [
        {
          "output_type": "execute_result",
          "data": {
            "text/plain": [
              "['ara', 'ber', 'bul', 'ces', 'cmn', 'dan', 'deu', 'ell', 'eng', 'epo']"
            ]
          },
          "metadata": {},
          "execution_count": 18
        }
      ],
      "source": [
        "langs = sorted(list(set(lang_freqs.keys())))\n",
        "langs[:10]"
      ]
    },
    {
      "cell_type": "code",
      "source": [
        "langs[len(langs) - 10:]"
      ],
      "metadata": {
        "colab": {
          "base_uri": "https://localhost:8080/"
        },
        "id": "CxHhuUNAgTYL",
        "outputId": "5481819f-3c72-4130-d004-5c2033b3ed15"
      },
      "execution_count": null,
      "outputs": [
        {
          "output_type": "execute_result",
          "data": {
            "text/plain": [
              "['rus', 'spa', 'srp', 'swc', 'swe', 'tlh', 'tok', 'tur', 'ukr', 'vie']"
            ]
          },
          "metadata": {},
          "execution_count": 70
        }
      ]
    },
    {
      "cell_type": "code",
      "source": [
        "lang_freqs.most_common()"
      ],
      "metadata": {
        "colab": {
          "base_uri": "https://localhost:8080/"
        },
        "id": "15HdKznDhfE5",
        "outputId": "b0b02ca8-46df-4b9f-951a-0a2a06c564e2"
      },
      "execution_count": null,
      "outputs": [
        {
          "output_type": "execute_result",
          "data": {
            "text/plain": [
              "[('rus', 886),\n",
              " ('mkd', 876),\n",
              " ('eng', 873),\n",
              " ('lat', 854),\n",
              " ('swc', 847),\n",
              " ('tur', 844),\n",
              " ('tlh', 843),\n",
              " ('hun', 838),\n",
              " ('vie', 832),\n",
              " ('epo', 830),\n",
              " ('jpn', 830),\n",
              " ('nld', 826),\n",
              " ('lfn', 824),\n",
              " ('deu', 821),\n",
              " ('ces', 814),\n",
              " ('kab', 813),\n",
              " ('tok', 805),\n",
              " ('pes', 797),\n",
              " ('swe', 795),\n",
              " ('pol', 793),\n",
              " ('srp', 793),\n",
              " ('heb', 791),\n",
              " ('ina', 785),\n",
              " ('spa', 785),\n",
              " ('lit', 782),\n",
              " ('dan', 781),\n",
              " ('fin', 780),\n",
              " ('ber', 779),\n",
              " ('ell', 778),\n",
              " ('bul', 778),\n",
              " ('mar', 778),\n",
              " ('ron', 776),\n",
              " ('hau', 776),\n",
              " ('ara', 772),\n",
              " ('fra', 771),\n",
              " ('cmn', 767),\n",
              " ('ita', 760),\n",
              " ('ukr', 759),\n",
              " ('por', 744)]"
            ]
          },
          "metadata": {},
          "execution_count": 72
        }
      ]
    },
    {
      "cell_type": "markdown",
      "metadata": {
        "id": "rqdQGqluLjvb"
      },
      "source": [
        "You will create an index of the languages of your dataset: Assign a number to each language. You will call it `idx2lang` and its type will be a dictionary."
      ]
    },
    {
      "cell_type": "code",
      "execution_count": null,
      "metadata": {
        "id": "jDvttC-SLjvc"
      },
      "outputs": [],
      "source": [
        "# Write your code\n",
        "idx2lang = dict([(idx, key) for idx, key in enumerate(sorted(lang_freqs.keys()))])"
      ]
    },
    {
      "cell_type": "code",
      "execution_count": null,
      "metadata": {
        "colab": {
          "base_uri": "https://localhost:8080/"
        },
        "id": "wan83a00Ljvc",
        "outputId": "b32ded0b-9fbe-416d-e342-7a03ccd907f2"
      },
      "outputs": [
        {
          "output_type": "execute_result",
          "data": {
            "text/plain": [
              "{0: 'ara',\n",
              " 1: 'ber',\n",
              " 2: 'bul',\n",
              " 3: 'ces',\n",
              " 4: 'cmn',\n",
              " 5: 'dan',\n",
              " 6: 'deu',\n",
              " 7: 'ell',\n",
              " 8: 'eng',\n",
              " 9: 'epo',\n",
              " 10: 'fin',\n",
              " 11: 'fra',\n",
              " 12: 'hau',\n",
              " 13: 'heb',\n",
              " 14: 'hun',\n",
              " 15: 'ina',\n",
              " 16: 'ita',\n",
              " 17: 'jpn',\n",
              " 18: 'kab',\n",
              " 19: 'lat',\n",
              " 20: 'lfn',\n",
              " 21: 'lit',\n",
              " 22: 'mar',\n",
              " 23: 'mkd',\n",
              " 24: 'nld',\n",
              " 25: 'pes',\n",
              " 26: 'pol',\n",
              " 27: 'por',\n",
              " 28: 'ron',\n",
              " 29: 'rus',\n",
              " 30: 'spa',\n",
              " 31: 'srp',\n",
              " 32: 'swc',\n",
              " 33: 'swe',\n",
              " 34: 'tlh',\n",
              " 35: 'tok',\n",
              " 36: 'tur',\n",
              " 37: 'ukr',\n",
              " 38: 'vie'}"
            ]
          },
          "metadata": {},
          "execution_count": 20
        }
      ],
      "source": [
        "idx2lang"
      ]
    },
    {
      "cell_type": "markdown",
      "metadata": {
        "id": "lgSUtY6VLjvc"
      },
      "source": [
        "Write the reverted `lang2idx` index to convert languages to indices. It is also a dictionary"
      ]
    },
    {
      "cell_type": "code",
      "execution_count": null,
      "metadata": {
        "id": "DCh8c5VtLjvd"
      },
      "outputs": [],
      "source": [
        "# Write your code\n",
        "lang2idx = dict([(key, idx) for idx, key in enumerate(sorted(lang_freqs.keys()))])"
      ]
    },
    {
      "cell_type": "code",
      "execution_count": null,
      "metadata": {
        "colab": {
          "base_uri": "https://localhost:8080/"
        },
        "id": "9qvqJju9Ljvd",
        "outputId": "bdca32b2-c2fb-4c0d-9cb5-b84497e99a98"
      },
      "outputs": [
        {
          "output_type": "execute_result",
          "data": {
            "text/plain": [
              "{'ara': 0,\n",
              " 'ber': 1,\n",
              " 'bul': 2,\n",
              " 'ces': 3,\n",
              " 'cmn': 4,\n",
              " 'dan': 5,\n",
              " 'deu': 6,\n",
              " 'ell': 7,\n",
              " 'eng': 8,\n",
              " 'epo': 9,\n",
              " 'fin': 10,\n",
              " 'fra': 11,\n",
              " 'hau': 12,\n",
              " 'heb': 13,\n",
              " 'hun': 14,\n",
              " 'ina': 15,\n",
              " 'ita': 16,\n",
              " 'jpn': 17,\n",
              " 'kab': 18,\n",
              " 'lat': 19,\n",
              " 'lfn': 20,\n",
              " 'lit': 21,\n",
              " 'mar': 22,\n",
              " 'mkd': 23,\n",
              " 'nld': 24,\n",
              " 'pes': 25,\n",
              " 'pol': 26,\n",
              " 'por': 27,\n",
              " 'ron': 28,\n",
              " 'rus': 29,\n",
              " 'spa': 30,\n",
              " 'srp': 31,\n",
              " 'swc': 32,\n",
              " 'swe': 33,\n",
              " 'tlh': 34,\n",
              " 'tok': 35,\n",
              " 'tur': 36,\n",
              " 'ukr': 37,\n",
              " 'vie': 38}"
            ]
          },
          "metadata": {},
          "execution_count": 22
        }
      ],
      "source": [
        "lang2idx"
      ]
    },
    {
      "cell_type": "markdown",
      "metadata": {
        "id": "nQ5KR9vKLjve"
      },
      "source": [
        "## Data processing — convert the sentences into feature vectors"
      ]
    },
    {
      "cell_type": "markdown",
      "metadata": {
        "id": "3URJ-PNALjve"
      },
      "source": [
        "For the context of this program, a feature is a string of 1 to 3 characters. \n",
        "In natural language processing, they are called $n$-grams as they can have a varying size and are created from a sliding window.\n",
        "\n",
        "Common sizes of $n$ have names unigrams ($n$=1), bigrams ($n$=2), and trigrams ($n$=3))\n",
        "\n",
        "To serve as input, we have to convert these $n$-grams to numbers. There are two common ways to encode features into indices:\n",
        " * Mapping each symbol to an index\n",
        "    + Exact and precise\n",
        "    + Can have high memory requirements with vast feature spaces as each known feature must be stored and be assigned a unique index.\n",
        "    + Slow, you need to precompute your feature space, convert the incoming data to an index and retain the mapping in memory at all times.\n",
        " * Hashing trick: hash the feature into a index\n",
        "    + Supports an arbitrary number of features with the caveat of collisions.\n",
        "    + Constant memory requirements\n",
        "    + Fast, any feature even an unknown one can be converted into a feature index\n",
        "    + However, if the feature space is too small, features will have many collisions. You have then to choose a good hash function and a feature space that is big enough\n",
        "    \n",
        "We will use the [hashing trick](https://en.wikipedia.org/wiki/Feature_hashing). In Python, `hash` is a function that converts any supported object into a number (hash code) but it is not reproducible across the sessions - it changes each time the interpreter is started.\n",
        "We have therefore provided a new function `reproducible_hash` that hashes a string but in a reproducible way.\n",
        "\n",
        "The number returned by `reproducible_hash` is big and needs to be converted into a limited space. This can be done with the use of the remainder of an integer division, the [modulo](https://en.wikipedia.org/wiki/Modulo_operation)."
      ]
    },
    {
      "cell_type": "markdown",
      "metadata": {
        "id": "GsrD2Q8wLjvf"
      },
      "source": [
        "### Extracting $n$-grams"
      ]
    },
    {
      "cell_type": "markdown",
      "metadata": {
        "id": "D6EavbxSLjvg"
      },
      "source": [
        "Create an $n$-gram function that returns the $n$-grams of a string. The $n$ value will be passed as an argument. You will optionally set the string in lower case (`lc` argument)."
      ]
    },
    {
      "cell_type": "code",
      "execution_count": null,
      "metadata": {
        "id": "CVzh6LdWLjvg"
      },
      "outputs": [],
      "source": [
        "# Write your code here\n",
        "def ngrams(sentence, n=1, lc=True):\n",
        "    ngram_l = []\n",
        "    for idx, char in enumerate(sentence):\n",
        "      if (idx + n) <= len(sentence):\n",
        "        if len(sentence[idx:(idx+n)]) == n:\n",
        "          ngram_l.append(sentence[idx:(idx+n)])\n",
        "    return ngram_l"
      ]
    },
    {
      "cell_type": "code",
      "execution_count": null,
      "metadata": {
        "id": "y-xzedmNLjvg"
      },
      "outputs": [],
      "source": [
        "def all_ngrams(sentence, max_ngram=3, lc=True):\n",
        "    all_ngram_list = []\n",
        "    for i in range(1, max_ngram + 1):\n",
        "        all_ngram_list += [ngrams(sentence, n=i, lc=lc)]\n",
        "    return all_ngram_list"
      ]
    },
    {
      "cell_type": "code",
      "execution_count": null,
      "metadata": {
        "colab": {
          "base_uri": "https://localhost:8080/"
        },
        "id": "_NJ6zt4bLjvh",
        "outputId": "27fffcc8-99ae-4291-89b1-7f4d25fe9168"
      },
      "outputs": [
        {
          "output_type": "execute_result",
          "data": {
            "text/plain": [
              "[['b', 'a', 'n', 'a', 'n', 'a'],\n",
              " ['ba', 'an', 'na', 'an', 'na'],\n",
              " ['ban', 'ana', 'nan', 'ana']]"
            ]
          },
          "metadata": {},
          "execution_count": 25
        }
      ],
      "source": [
        "all_ngrams('banana')"
      ]
    },
    {
      "cell_type": "markdown",
      "metadata": {
        "id": "6_QzqXptLjvh"
      },
      "source": [
        "### Limiting the $n$-grams numbers"
      ]
    },
    {
      "cell_type": "markdown",
      "metadata": {
        "id": "1dmXDDY-Ljvi"
      },
      "source": [
        "We set the modulos"
      ]
    },
    {
      "cell_type": "code",
      "execution_count": null,
      "metadata": {
        "id": "Er28HMWjLjvi"
      },
      "outputs": [],
      "source": [
        "if LARGE_DATASET:\n",
        "    MAX_CHARS = 2053\n",
        "    MAX_BIGRAMS = 4099\n",
        "    MAX_TRIGRAMS = 4099  #8192\n",
        "else:\n",
        "    MAX_CHARS = 521\n",
        "    MAX_BIGRAMS = 1031\n",
        "    MAX_TRIGRAMS = 1031 "
      ]
    },
    {
      "cell_type": "code",
      "execution_count": null,
      "metadata": {
        "colab": {
          "base_uri": "https://localhost:8080/"
        },
        "id": "EH1dc-eZLjvi",
        "outputId": "e72a6fa8-f529-4991-9301-0aad7103e62c"
      },
      "outputs": [
        {
          "output_type": "execute_result",
          "data": {
            "text/plain": [
              "2583"
            ]
          },
          "metadata": {},
          "execution_count": 27
        }
      ],
      "source": [
        "NUM_FEATURES = MAX_CHARS + MAX_BIGRAMS + MAX_TRIGRAMS\n",
        "NUM_FEATURES"
      ]
    },
    {
      "cell_type": "markdown",
      "metadata": {
        "id": "vDo1RIjsLjvj"
      },
      "source": [
        "### Hash Codes"
      ]
    },
    {
      "cell_type": "code",
      "execution_count": null,
      "metadata": {
        "id": "iInImmANLjvj"
      },
      "outputs": [],
      "source": [
        "def reproducible_hash(string):\n",
        "    \"\"\"\n",
        "    reproducible hash on any string\n",
        "    \n",
        "    Arguments:\n",
        "       string: python string object\n",
        "    \n",
        "    Returns:\n",
        "       signed int64\n",
        "    \"\"\"\n",
        "    \n",
        "    # We are using MD5 for speed not security.\n",
        "    # h = hashlib.md5(string.encode(\"utf-8\"))\n",
        "    h = hashlib.new(\"md5\", string.encode(\"utf-8\"), usedforsecurity=False)\n",
        "    return int.from_bytes(h.digest()[0:8], 'big', signed=True)"
      ]
    },
    {
      "cell_type": "code",
      "execution_count": null,
      "metadata": {
        "colab": {
          "base_uri": "https://localhost:8080/"
        },
        "id": "SR58KeTjLjvk",
        "outputId": "499f2803-802f-4301-c074-b91563627251"
      },
      "outputs": [
        {
          "output_type": "execute_result",
          "data": {
            "text/plain": [
              "[487, 876, 246, 876]"
            ]
          },
          "metadata": {},
          "execution_count": 29
        }
      ],
      "source": [
        "[reproducible_hash(x) % MAX_TRIGRAMS for x in all_ngrams('banana')[2]]"
      ]
    },
    {
      "cell_type": "code",
      "execution_count": null,
      "metadata": {
        "id": "y4S5bBkkLjvk"
      },
      "outputs": [],
      "source": [
        "MAXES = [MAX_CHARS, MAX_BIGRAMS, MAX_TRIGRAMS]"
      ]
    },
    {
      "cell_type": "markdown",
      "metadata": {
        "id": "RmNe4fU7Ljvl"
      },
      "source": [
        "Create a `hash_ngrams` function that creates a list of hash codes from a list of $n$-grams. As arguments, you will have the list of $n$-grams as well as the list of dividers (`MAXES`). See the example below"
      ]
    },
    {
      "cell_type": "code",
      "execution_count": null,
      "metadata": {
        "id": "fd09NzoFLjvl"
      },
      "outputs": [],
      "source": [
        "# Write your code\n",
        "def hash_ngrams(ngrams, modulos):\n",
        "    hash_codes = []\n",
        "    for idx, modulo in enumerate(modulos):\n",
        "      hash_codes.append([reproducible_hash(ngram) % modulo for ngram in ngrams[idx]])\n",
        "      # hash_code = []\n",
        "      # for ngram in ngrams:\n",
        "        # hash_code.append([reproducible_hash(string) % modulo for string in ngram])\n",
        "      # hash_codes.append(hash_codes)\n",
        "    return hash_codes"
      ]
    },
    {
      "cell_type": "code",
      "execution_count": null,
      "metadata": {
        "colab": {
          "base_uri": "https://localhost:8080/"
        },
        "id": "paGAMNIBLjvl",
        "outputId": "a37d09b7-7a27-4370-ee67-d3cda3c9e98d"
      },
      "outputs": [
        {
          "output_type": "execute_result",
          "data": {
            "text/plain": [
              "[[25, 234, 310, 234, 310, 234],\n",
              " [994, 649, 808, 649, 808],\n",
              " [487, 876, 246, 876]]"
            ]
          },
          "metadata": {},
          "execution_count": 32
        }
      ],
      "source": [
        "hash_banana = hash_ngrams(all_ngrams('banana'), MAXES)\n",
        "hash_banana"
      ]
    },
    {
      "cell_type": "markdown",
      "metadata": {
        "id": "uZLfmg2KLjvm"
      },
      "source": [
        "### Hash codes relative frequencies\n",
        "CLD3 associates the $n$-gram hash codes with their relative frequencies in the text. See the example in Google CLD3 page.\n",
        "\n",
        "Create a `rel_freqs` function that computes the frequencies from lists of hash codes. The input will be a list of three lists of hash codes, for the unigrams, bigrams, and trigrams. The output will be a list of a three dictionaries, where the keys will be the $n$-gram hash codes and the values, the relative frequency. See example. "
      ]
    },
    {
      "cell_type": "code",
      "execution_count": null,
      "metadata": {
        "id": "UAfvMrbFLjvn"
      },
      "outputs": [],
      "source": [
        "# Write your code\n",
        "def rel_freqs(lst):\n",
        "    # unigrams = lst[0], bigrams = lst[1], trigrams = lst[2];\n",
        "    temp = {}\n",
        "    for gram in lst:\n",
        "      # rel_freq = len(lst[i][lst == gram]) / len(lst[i])\n",
        "      rel_freq = lst.count(gram) / len(lst)\n",
        "      temp[gram] = rel_freq\n",
        "    return temp"
      ]
    },
    {
      "cell_type": "code",
      "execution_count": null,
      "metadata": {
        "colab": {
          "base_uri": "https://localhost:8080/"
        },
        "id": "TKyldaltLjvn",
        "outputId": "6900e85c-1c64-4d9e-fb91-a3ba74aac1aa"
      },
      "outputs": [
        {
          "output_type": "execute_result",
          "data": {
            "text/plain": [
              "[{25: 0.16666666666666666, 234: 0.5, 310: 0.3333333333333333},\n",
              " {994: 0.2, 649: 0.4, 808: 0.4},\n",
              " {487: 0.25, 876: 0.5, 246: 0.25}]"
            ]
          },
          "metadata": {},
          "execution_count": 34
        }
      ],
      "source": [
        "freqs_banana = [rel_freqs(x) for x in hash_banana]\n",
        "freqs_banana"
      ]
    },
    {
      "cell_type": "markdown",
      "metadata": {
        "id": "zYjnFgxVLjvo"
      },
      "source": [
        "## Multihot vectors"
      ]
    },
    {
      "cell_type": "markdown",
      "metadata": {
        "id": "BGSUt0-dLjvo"
      },
      "source": [
        "Write a `multihot` function that creates a torch vector of 0.0 and 1.0 from a dictionary of indices and frequencies. You will pass the size of the vector as an argument. All the indices in the dictionary will be set to 1.0 and the rest will be set to 0.0"
      ]
    },
    {
      "cell_type": "code",
      "execution_count": null,
      "metadata": {
        "id": "TndFBsNyLjvp"
      },
      "outputs": [],
      "source": [
        "# Write your code here\n",
        "def multihot(idx_freq, max):\n",
        "    feat_vector = torch.zeros(max)\n",
        "    for idx in idx_freq:\n",
        "      feat_vector[idx] = 1\n",
        "    \n",
        "    return feat_vector"
      ]
    },
    {
      "cell_type": "code",
      "execution_count": null,
      "metadata": {
        "colab": {
          "base_uri": "https://localhost:8080/"
        },
        "id": "i8uIp9k5Ljvp",
        "outputId": "bd0b26f2-265e-46cd-f394-1524706604e3"
      },
      "outputs": [
        {
          "output_type": "execute_result",
          "data": {
            "text/plain": [
              "tensor([0., 0., 0., 0., 0., 0., 0., 0., 0., 0., 0., 0., 0., 0., 0., 0., 0., 0.,\n",
              "        0., 0., 0., 0., 0., 0., 0., 1., 0., 0., 0., 0., 0., 0., 0., 0., 0., 0.,\n",
              "        0., 0., 0., 0., 0., 0., 0., 0., 0., 0., 0., 0., 0., 0., 0., 0., 0., 0.,\n",
              "        0., 0., 0., 0., 0., 0., 0., 0., 0., 0., 0., 0., 0., 0., 0., 0., 0., 0.,\n",
              "        0., 0., 0., 0., 0., 0., 0., 0., 0., 0., 0., 0., 0., 0., 0., 0., 0., 0.,\n",
              "        0., 0., 0., 0., 0., 0., 0., 0., 0., 0., 0., 0., 0., 0., 0., 0., 0., 0.,\n",
              "        0., 0., 0., 0., 0., 0., 0., 0., 0., 0., 0., 0., 0., 0., 0., 0., 0., 0.,\n",
              "        0., 0., 0., 0., 0., 0., 0., 0., 0., 0., 0., 0., 0., 0., 0., 0., 0., 0.,\n",
              "        0., 0., 0., 0., 0., 0., 0., 0., 0., 0., 0., 0., 0., 0., 0., 0., 0., 0.,\n",
              "        0., 0., 0., 0., 0., 0., 0., 0., 0., 0., 0., 0., 0., 0., 0., 0., 0., 0.,\n",
              "        0., 0., 0., 0., 0., 0., 0., 0., 0., 0., 0., 0., 0., 0., 0., 0., 0., 0.,\n",
              "        0., 0., 0., 0., 0., 0., 0., 0., 0., 0., 0., 0., 0., 0., 0., 0., 0., 0.,\n",
              "        0., 0., 0., 0., 0., 0., 0., 0., 0., 0., 0., 0., 0., 0., 0., 0., 0., 0.,\n",
              "        1., 0., 0., 0., 0., 0., 0., 0., 0., 0., 0., 0., 0., 0., 0., 0., 0., 0.,\n",
              "        0., 0., 0., 0., 0., 0., 0., 0., 0., 0., 0., 0., 0., 0., 0., 0., 0., 0.,\n",
              "        0., 0., 0., 0., 0., 0., 0., 0., 0., 0., 0., 0., 0., 0., 0., 0., 0., 0.,\n",
              "        0., 0., 0., 0., 0., 0., 0., 0., 0., 0., 0., 0., 0., 0., 0., 0., 0., 0.,\n",
              "        0., 0., 0., 0., 1., 0., 0., 0., 0., 0., 0., 0., 0., 0., 0., 0., 0., 0.,\n",
              "        0., 0., 0., 0., 0., 0., 0., 0., 0., 0., 0., 0., 0., 0., 0., 0., 0., 0.,\n",
              "        0., 0., 0., 0., 0., 0., 0., 0., 0., 0., 0., 0., 0., 0., 0., 0., 0., 0.,\n",
              "        0., 0., 0., 0., 0., 0., 0., 0., 0., 0., 0., 0., 0., 0., 0., 0., 0., 0.,\n",
              "        0., 0., 0., 0., 0., 0., 0., 0., 0., 0., 0., 0., 0., 0., 0., 0., 0., 0.,\n",
              "        0., 0., 0., 0., 0., 0., 0., 0., 0., 0., 0., 0., 0., 0., 0., 0., 0., 0.,\n",
              "        0., 0., 0., 0., 0., 0., 0., 0., 0., 0., 0., 0., 0., 0., 0., 0., 0., 0.,\n",
              "        0., 0., 0., 0., 0., 0., 0., 0., 0., 0., 0., 0., 0., 0., 0., 0., 0., 0.,\n",
              "        0., 0., 0., 0., 0., 0., 0., 0., 0., 0., 0., 0., 0., 0., 0., 0., 0., 0.,\n",
              "        0., 0., 0., 0., 0., 0., 0., 0., 0., 0., 0., 0., 0., 0., 0., 0., 0., 0.,\n",
              "        0., 0., 0., 0., 0., 0., 0., 0., 0., 0., 0., 0., 0., 0., 0., 0., 0., 0.,\n",
              "        0., 0., 0., 0., 0., 0., 0., 0., 0., 0., 0., 0., 0., 0., 0., 0., 0.])"
            ]
          },
          "metadata": {},
          "execution_count": 36
        }
      ],
      "source": [
        "mhot_char_banana = multihot(freqs_banana[0], MAX_CHARS)\n",
        "mhot_char_banana"
      ]
    },
    {
      "cell_type": "code",
      "execution_count": null,
      "metadata": {
        "colab": {
          "base_uri": "https://localhost:8080/"
        },
        "id": "OaRfFbTMLjvq",
        "outputId": "3517e146-dfa5-46e4-8b0e-4ad7db74cff0"
      },
      "outputs": [
        {
          "output_type": "execute_result",
          "data": {
            "text/plain": [
              "tensor([[ 25],\n",
              "        [234],\n",
              "        [310]])"
            ]
          },
          "metadata": {},
          "execution_count": 37
        }
      ],
      "source": [
        "torch.nonzero(mhot_char_banana)"
      ]
    },
    {
      "cell_type": "code",
      "execution_count": null,
      "metadata": {
        "colab": {
          "base_uri": "https://localhost:8080/"
        },
        "id": "fCTADTRvLjvq",
        "outputId": "743fc760-bbcc-4db5-9994-7ee58478a15e"
      },
      "outputs": [
        {
          "output_type": "execute_result",
          "data": {
            "text/plain": [
              "tensor([0., 0., 0.,  ..., 0., 0., 0.])"
            ]
          },
          "metadata": {},
          "execution_count": 38
        }
      ],
      "source": [
        "mhot_bigram_banana = multihot(freqs_banana[1], MAX_BIGRAMS)\n",
        "mhot_bigram_banana"
      ]
    },
    {
      "cell_type": "code",
      "execution_count": null,
      "metadata": {
        "colab": {
          "base_uri": "https://localhost:8080/"
        },
        "id": "W698OoCSLjvr",
        "outputId": "89d3d493-3137-475a-adc7-35d0dcbf2636"
      },
      "outputs": [
        {
          "output_type": "execute_result",
          "data": {
            "text/plain": [
              "tensor([[649],\n",
              "        [808],\n",
              "        [994]])"
            ]
          },
          "metadata": {},
          "execution_count": 39
        }
      ],
      "source": [
        "torch.nonzero(mhot_bigram_banana)"
      ]
    },
    {
      "cell_type": "code",
      "execution_count": null,
      "metadata": {
        "colab": {
          "base_uri": "https://localhost:8080/"
        },
        "id": "sql0qJ9cLjvr",
        "outputId": "471fab7f-00ac-4e6b-bec0-2b99df562447"
      },
      "outputs": [
        {
          "output_type": "execute_result",
          "data": {
            "text/plain": [
              "tensor([0., 0., 0.,  ..., 0., 0., 0.])"
            ]
          },
          "metadata": {},
          "execution_count": 40
        }
      ],
      "source": [
        "mhot_trigram_banana = multihot(freqs_banana[2], MAX_TRIGRAMS)\n",
        "mhot_trigram_banana"
      ]
    },
    {
      "cell_type": "code",
      "execution_count": null,
      "metadata": {
        "colab": {
          "base_uri": "https://localhost:8080/"
        },
        "id": "t46ZTjkYLjvs",
        "outputId": "186d3ea9-da91-49ed-c248-98575ad3ffd3"
      },
      "outputs": [
        {
          "output_type": "execute_result",
          "data": {
            "text/plain": [
              "tensor([[246],\n",
              "        [487],\n",
              "        [876]])"
            ]
          },
          "metadata": {},
          "execution_count": 41
        }
      ],
      "source": [
        "torch.nonzero(mhot_trigram_banana)"
      ]
    },
    {
      "cell_type": "markdown",
      "metadata": {
        "id": "S8a-VhdsLjvs"
      },
      "source": [
        "## Replacing Booleans with frequencies"
      ]
    },
    {
      "cell_type": "markdown",
      "metadata": {
        "id": "Fl0p8ZBDLjvt"
      },
      "source": [
        "Write a `multihot_freq` function that creates a torch vector of frequencies from a dictionary of indices and frequencies. You will pass the size of the vector as an argument. All the indices in the dictionary will be set to the dictionary values (the relative frequencies) and the rest will be set to 0.0"
      ]
    },
    {
      "cell_type": "code",
      "execution_count": null,
      "metadata": {
        "id": "Opcs8YuXLjvt"
      },
      "outputs": [],
      "source": [
        "# Write your code\n",
        "def multihot_freq(idx_freq, max):\n",
        "    feat_vector = torch.zeros(max)\n",
        "    for idx in idx_freq:\n",
        "      feat_vector[idx] = idx_freq[idx]\n",
        "    return feat_vector"
      ]
    },
    {
      "cell_type": "code",
      "execution_count": null,
      "metadata": {
        "colab": {
          "base_uri": "https://localhost:8080/"
        },
        "id": "ohwmcIdbLjvu",
        "outputId": "00059715-2e57-4f1d-bda9-24e819743cad"
      },
      "outputs": [
        {
          "output_type": "execute_result",
          "data": {
            "text/plain": [
              "tensor([0.0000, 0.0000, 0.0000, 0.0000, 0.0000, 0.0000, 0.0000, 0.0000, 0.0000,\n",
              "        0.0000, 0.0000, 0.0000, 0.0000, 0.0000, 0.0000, 0.0000, 0.0000, 0.0000,\n",
              "        0.0000, 0.0000, 0.0000, 0.0000, 0.0000, 0.0000, 0.0000, 0.1667, 0.0000,\n",
              "        0.0000, 0.0000, 0.0000, 0.0000, 0.0000, 0.0000, 0.0000, 0.0000, 0.0000,\n",
              "        0.0000, 0.0000, 0.0000, 0.0000, 0.0000, 0.0000, 0.0000, 0.0000, 0.0000,\n",
              "        0.0000, 0.0000, 0.0000, 0.0000, 0.0000, 0.0000, 0.0000, 0.0000, 0.0000,\n",
              "        0.0000, 0.0000, 0.0000, 0.0000, 0.0000, 0.0000, 0.0000, 0.0000, 0.0000,\n",
              "        0.0000, 0.0000, 0.0000, 0.0000, 0.0000, 0.0000, 0.0000, 0.0000, 0.0000,\n",
              "        0.0000, 0.0000, 0.0000, 0.0000, 0.0000, 0.0000, 0.0000, 0.0000, 0.0000,\n",
              "        0.0000, 0.0000, 0.0000, 0.0000, 0.0000, 0.0000, 0.0000, 0.0000, 0.0000,\n",
              "        0.0000, 0.0000, 0.0000, 0.0000, 0.0000, 0.0000, 0.0000, 0.0000, 0.0000,\n",
              "        0.0000, 0.0000, 0.0000, 0.0000, 0.0000, 0.0000, 0.0000, 0.0000, 0.0000,\n",
              "        0.0000, 0.0000, 0.0000, 0.0000, 0.0000, 0.0000, 0.0000, 0.0000, 0.0000,\n",
              "        0.0000, 0.0000, 0.0000, 0.0000, 0.0000, 0.0000, 0.0000, 0.0000, 0.0000,\n",
              "        0.0000, 0.0000, 0.0000, 0.0000, 0.0000, 0.0000, 0.0000, 0.0000, 0.0000,\n",
              "        0.0000, 0.0000, 0.0000, 0.0000, 0.0000, 0.0000, 0.0000, 0.0000, 0.0000,\n",
              "        0.0000, 0.0000, 0.0000, 0.0000, 0.0000, 0.0000, 0.0000, 0.0000, 0.0000,\n",
              "        0.0000, 0.0000, 0.0000, 0.0000, 0.0000, 0.0000, 0.0000, 0.0000, 0.0000,\n",
              "        0.0000, 0.0000, 0.0000, 0.0000, 0.0000, 0.0000, 0.0000, 0.0000, 0.0000,\n",
              "        0.0000, 0.0000, 0.0000, 0.0000, 0.0000, 0.0000, 0.0000, 0.0000, 0.0000,\n",
              "        0.0000, 0.0000, 0.0000, 0.0000, 0.0000, 0.0000, 0.0000, 0.0000, 0.0000,\n",
              "        0.0000, 0.0000, 0.0000, 0.0000, 0.0000, 0.0000, 0.0000, 0.0000, 0.0000,\n",
              "        0.0000, 0.0000, 0.0000, 0.0000, 0.0000, 0.0000, 0.0000, 0.0000, 0.0000,\n",
              "        0.0000, 0.0000, 0.0000, 0.0000, 0.0000, 0.0000, 0.0000, 0.0000, 0.0000,\n",
              "        0.0000, 0.0000, 0.0000, 0.0000, 0.0000, 0.0000, 0.0000, 0.0000, 0.0000,\n",
              "        0.0000, 0.0000, 0.0000, 0.0000, 0.0000, 0.0000, 0.0000, 0.0000, 0.0000,\n",
              "        0.5000, 0.0000, 0.0000, 0.0000, 0.0000, 0.0000, 0.0000, 0.0000, 0.0000,\n",
              "        0.0000, 0.0000, 0.0000, 0.0000, 0.0000, 0.0000, 0.0000, 0.0000, 0.0000,\n",
              "        0.0000, 0.0000, 0.0000, 0.0000, 0.0000, 0.0000, 0.0000, 0.0000, 0.0000,\n",
              "        0.0000, 0.0000, 0.0000, 0.0000, 0.0000, 0.0000, 0.0000, 0.0000, 0.0000,\n",
              "        0.0000, 0.0000, 0.0000, 0.0000, 0.0000, 0.0000, 0.0000, 0.0000, 0.0000,\n",
              "        0.0000, 0.0000, 0.0000, 0.0000, 0.0000, 0.0000, 0.0000, 0.0000, 0.0000,\n",
              "        0.0000, 0.0000, 0.0000, 0.0000, 0.0000, 0.0000, 0.0000, 0.0000, 0.0000,\n",
              "        0.0000, 0.0000, 0.0000, 0.0000, 0.0000, 0.0000, 0.0000, 0.0000, 0.0000,\n",
              "        0.0000, 0.0000, 0.0000, 0.0000, 0.3333, 0.0000, 0.0000, 0.0000, 0.0000,\n",
              "        0.0000, 0.0000, 0.0000, 0.0000, 0.0000, 0.0000, 0.0000, 0.0000, 0.0000,\n",
              "        0.0000, 0.0000, 0.0000, 0.0000, 0.0000, 0.0000, 0.0000, 0.0000, 0.0000,\n",
              "        0.0000, 0.0000, 0.0000, 0.0000, 0.0000, 0.0000, 0.0000, 0.0000, 0.0000,\n",
              "        0.0000, 0.0000, 0.0000, 0.0000, 0.0000, 0.0000, 0.0000, 0.0000, 0.0000,\n",
              "        0.0000, 0.0000, 0.0000, 0.0000, 0.0000, 0.0000, 0.0000, 0.0000, 0.0000,\n",
              "        0.0000, 0.0000, 0.0000, 0.0000, 0.0000, 0.0000, 0.0000, 0.0000, 0.0000,\n",
              "        0.0000, 0.0000, 0.0000, 0.0000, 0.0000, 0.0000, 0.0000, 0.0000, 0.0000,\n",
              "        0.0000, 0.0000, 0.0000, 0.0000, 0.0000, 0.0000, 0.0000, 0.0000, 0.0000,\n",
              "        0.0000, 0.0000, 0.0000, 0.0000, 0.0000, 0.0000, 0.0000, 0.0000, 0.0000,\n",
              "        0.0000, 0.0000, 0.0000, 0.0000, 0.0000, 0.0000, 0.0000, 0.0000, 0.0000,\n",
              "        0.0000, 0.0000, 0.0000, 0.0000, 0.0000, 0.0000, 0.0000, 0.0000, 0.0000,\n",
              "        0.0000, 0.0000, 0.0000, 0.0000, 0.0000, 0.0000, 0.0000, 0.0000, 0.0000,\n",
              "        0.0000, 0.0000, 0.0000, 0.0000, 0.0000, 0.0000, 0.0000, 0.0000, 0.0000,\n",
              "        0.0000, 0.0000, 0.0000, 0.0000, 0.0000, 0.0000, 0.0000, 0.0000, 0.0000,\n",
              "        0.0000, 0.0000, 0.0000, 0.0000, 0.0000, 0.0000, 0.0000, 0.0000, 0.0000,\n",
              "        0.0000, 0.0000, 0.0000, 0.0000, 0.0000, 0.0000, 0.0000, 0.0000, 0.0000,\n",
              "        0.0000, 0.0000, 0.0000, 0.0000, 0.0000, 0.0000, 0.0000, 0.0000, 0.0000,\n",
              "        0.0000, 0.0000, 0.0000, 0.0000, 0.0000, 0.0000, 0.0000, 0.0000, 0.0000,\n",
              "        0.0000, 0.0000, 0.0000, 0.0000, 0.0000, 0.0000, 0.0000, 0.0000, 0.0000,\n",
              "        0.0000, 0.0000, 0.0000, 0.0000, 0.0000, 0.0000, 0.0000, 0.0000, 0.0000,\n",
              "        0.0000, 0.0000, 0.0000, 0.0000, 0.0000, 0.0000, 0.0000, 0.0000, 0.0000,\n",
              "        0.0000, 0.0000, 0.0000, 0.0000, 0.0000, 0.0000, 0.0000, 0.0000, 0.0000,\n",
              "        0.0000, 0.0000, 0.0000, 0.0000, 0.0000, 0.0000, 0.0000, 0.0000])"
            ]
          },
          "metadata": {},
          "execution_count": 43
        }
      ],
      "source": [
        "freq_char_banana = multihot_freq(freqs_banana[0], MAX_CHARS)\n",
        "freq_char_banana"
      ]
    },
    {
      "cell_type": "code",
      "execution_count": null,
      "metadata": {
        "colab": {
          "base_uri": "https://localhost:8080/"
        },
        "id": "io5F9u6wLjvu",
        "outputId": "901af3bb-bcce-4627-80d2-686dec62c0ed"
      },
      "outputs": [
        {
          "output_type": "execute_result",
          "data": {
            "text/plain": [
              "tensor([[ 25, 234, 310]])"
            ]
          },
          "metadata": {},
          "execution_count": 44
        }
      ],
      "source": [
        "torch.nonzero(freq_char_banana).T"
      ]
    },
    {
      "cell_type": "code",
      "execution_count": null,
      "metadata": {
        "colab": {
          "base_uri": "https://localhost:8080/"
        },
        "id": "HUgYsXoaLjvv",
        "outputId": "edbf5678-bd97-4ad8-9d9f-caf36f5177d0"
      },
      "outputs": [
        {
          "output_type": "execute_result",
          "data": {
            "text/plain": [
              "tensor([[0.1667, 0.5000, 0.3333]])"
            ]
          },
          "metadata": {},
          "execution_count": 45
        }
      ],
      "source": [
        "freq_char_banana[torch.nonzero(freq_char_banana)].T"
      ]
    },
    {
      "cell_type": "markdown",
      "metadata": {
        "id": "Yx43rCRYLjvv"
      },
      "source": [
        "## Creating $X$ and $\\mathbf{y}$ tensors"
      ]
    },
    {
      "cell_type": "markdown",
      "metadata": {
        "id": "RStM9Av7Ljvw"
      },
      "source": [
        "We create a function to read the files and return the language and the sentence. We create the $X$ and $\\mathbf{y}$ tensors from them."
      ]
    },
    {
      "cell_type": "code",
      "execution_count": null,
      "metadata": {
        "id": "ZuiStnrcLjvw"
      },
      "outputs": [],
      "source": [
        "def read_sent_lang(file):\n",
        "    with open(file, encoding='utf8', errors='ignore') as f:\n",
        "        for line in f:\n",
        "            row = line.strip()\n",
        "            lang_tuple = tuple(row.split('\\t'))\n",
        "            yield lang_tuple[2], lang_tuple[1]   "
      ]
    },
    {
      "cell_type": "markdown",
      "metadata": {
        "id": "cM-1dnH2Ljvw"
      },
      "source": [
        "The code below creates a $X$ and $\\mathbf{y}$ tensors. Note that $X$ is a matrix and $\\mathbf{y}$, a vector."
      ]
    },
    {
      "cell_type": "code",
      "execution_count": null,
      "metadata": {
        "id": "RrPeXIu9Ljvx"
      },
      "outputs": [],
      "source": [
        "def create_Xy(file, multihot_func, lang2idx):\n",
        "    X_l = []\n",
        "    y_symb = []\n",
        "    line_cnt = 0\n",
        "    for sentence, lang in read_sent_lang(file):\n",
        "        line_cnt += 1\n",
        "    X = torch.empty((line_cnt, NUM_FEATURES))\n",
        "    for i, (sentence, lang) in tqdm(enumerate(read_sent_lang(file))):\n",
        "        hashes = hash_ngrams(all_ngrams(sentence), MAXES)\n",
        "        hash_freq_l = map(rel_freqs, hashes)\n",
        "        x_row_l = []\n",
        "        for hash_freq_dict, max in zip(hash_freq_l, MAXES):\n",
        "            x_row_l += [multihot_func(hash_freq_dict, max)]\n",
        "        X[i, :] = torch.cat(x_row_l, -1)\n",
        "        y_symb += [lang]\n",
        "    y = torch.LongTensor(list(map(lang2idx.get, y_symb)))\n",
        "    return X, y"
      ]
    },
    {
      "cell_type": "code",
      "execution_count": null,
      "metadata": {
        "colab": {
          "base_uri": "https://localhost:8080/"
        },
        "id": "RkKp3Go3Ljvx",
        "outputId": "5cf4956f-333e-4afe-8313-72044fc60911"
      },
      "outputs": [
        {
          "output_type": "stream",
          "name": "stderr",
          "text": [
            "31376it [00:36, 862.58it/s] \n",
            "3922it [00:05, 777.55it/s]\n",
            "3923it [00:02, 1316.60it/s]\n"
          ]
        }
      ],
      "source": [
        "if REL_FREQ:\n",
        "    X_train, y_train =  create_Xy(FILE_TRAIN, multihot_freq, lang2idx)\n",
        "    X_val, y_val =  create_Xy(FILE_VAL, multihot_freq, lang2idx)\n",
        "    X_test, y_test =  create_Xy(FILE_TEST, multihot_freq, lang2idx)\n",
        "else:\n",
        "    X_train, y_train =  create_Xy(FILE_TRAIN, multihot, lang2idx)\n",
        "    X_val, y_val =  create_Xy(FILE_VAL, multihot, lang2idx)\n",
        "    X_test, y_test =  create_Xy(FILE_TEST, multihot, lang2idx)"
      ]
    },
    {
      "cell_type": "code",
      "execution_count": null,
      "metadata": {
        "id": "2rTTfyL5Ljvy",
        "colab": {
          "base_uri": "https://localhost:8080/"
        },
        "outputId": "5f5d0640-5c2b-4608-e7ba-c7a408cea8ef"
      },
      "outputs": [
        {
          "output_type": "execute_result",
          "data": {
            "text/plain": [
              "torch.Size([31376, 2583])"
            ]
          },
          "metadata": {},
          "execution_count": 49
        }
      ],
      "source": [
        "X_train.size()"
      ]
    },
    {
      "cell_type": "code",
      "source": [
        "FILE_TRAIN[0]"
      ],
      "metadata": {
        "id": "4lFMA_gAZZID",
        "colab": {
          "base_uri": "https://localhost:8080/",
          "height": 36
        },
        "outputId": "9951b310-2576-49af-aafe-54355e48093b"
      },
      "execution_count": null,
      "outputs": [
        {
          "output_type": "execute_result",
          "data": {
            "text/plain": [
              "'t'"
            ],
            "application/vnd.google.colaboratory.intrinsic+json": {
              "type": "string"
            }
          },
          "metadata": {},
          "execution_count": 50
        }
      ]
    },
    {
      "cell_type": "code",
      "execution_count": null,
      "metadata": {
        "id": "U-HLaMFvLjvy",
        "colab": {
          "base_uri": "https://localhost:8080/"
        },
        "outputId": "26a5a330-d9c6-42ee-d9c5-a65604a11048"
      },
      "outputs": [
        {
          "output_type": "execute_result",
          "data": {
            "text/plain": [
              "tensor([37, 28, 25, 21, 15, 24,  9, 38, 21, 16])"
            ]
          },
          "metadata": {},
          "execution_count": 51
        }
      ],
      "source": [
        "y_train[:10]"
      ]
    },
    {
      "cell_type": "markdown",
      "metadata": {
        "id": "rkZtGJS7Ljvz"
      },
      "source": [
        "## Building a Classifier"
      ]
    },
    {
      "cell_type": "markdown",
      "metadata": {
        "id": "n1XVnsBVLjvz"
      },
      "source": [
        "We create the classifier"
      ]
    },
    {
      "cell_type": "code",
      "execution_count": null,
      "metadata": {
        "id": "isrhQSi3Ljvz",
        "colab": {
          "base_uri": "https://localhost:8080/"
        },
        "outputId": "5e82e0e2-cdea-4ec2-e352-c04e125f22ef"
      },
      "outputs": [
        {
          "output_type": "execute_result",
          "data": {
            "text/plain": [
              "2583"
            ]
          },
          "metadata": {},
          "execution_count": 52
        }
      ],
      "source": [
        "input_dim = X_train.size()[1]\n",
        "input_dim"
      ]
    },
    {
      "cell_type": "markdown",
      "metadata": {
        "id": "buWtA_rNLjv0"
      },
      "source": [
        "Write two model architectures using `nn.Sequential`. One corresponding to logistic regression and the other with one hidden layer."
      ]
    },
    {
      "cell_type": "code",
      "execution_count": null,
      "metadata": {
        "id": "_peHwkQgLjv0"
      },
      "outputs": [],
      "source": [
        "# Write your code here\n",
        "if HIDDEN_LAYER:\n",
        "    model = nn.Sequential(\n",
        "        #linear\n",
        "        nn.Linear(input_dim, HIDDEN_DIM),\n",
        "        #rlu\n",
        "        nn.ReLU(),\n",
        "        #linear\n",
        "        # nn.Linear(len(lang2idx), input_dim)\n",
        "        nn.Linear(HIDDEN_DIM, len(lang2idx))\n",
        "        )\n",
        "else:\n",
        "    model = nn.Sequential(nn.Linear(input_dim, len(lang2idx)))"
      ]
    },
    {
      "cell_type": "code",
      "source": [
        "model"
      ],
      "metadata": {
        "id": "tQ_MskNwAzOD",
        "colab": {
          "base_uri": "https://localhost:8080/"
        },
        "outputId": "3b6d1096-5240-4c57-d148-029277514f6f"
      },
      "execution_count": null,
      "outputs": [
        {
          "output_type": "execute_result",
          "data": {
            "text/plain": [
              "Sequential(\n",
              "  (0): Linear(in_features=2583, out_features=512, bias=True)\n",
              "  (1): ReLU()\n",
              "  (2): Linear(in_features=512, out_features=39, bias=True)\n",
              ")"
            ]
          },
          "metadata": {},
          "execution_count": 54
        }
      ]
    },
    {
      "cell_type": "code",
      "execution_count": null,
      "metadata": {
        "id": "X622VaXjLjv0",
        "colab": {
          "base_uri": "https://localhost:8080/"
        },
        "outputId": "686c77e2-c4d0-4906-e75b-13e5e5708fea"
      },
      "outputs": [
        {
          "output_type": "execute_result",
          "data": {
            "text/plain": [
              "Sequential(\n",
              "  (0): Linear(in_features=2583, out_features=512, bias=True)\n",
              "  (1): ReLU()\n",
              "  (2): Linear(in_features=512, out_features=39, bias=True)\n",
              ")"
            ]
          },
          "metadata": {},
          "execution_count": 55
        }
      ],
      "source": [
        "model"
      ]
    },
    {
      "cell_type": "markdown",
      "metadata": {
        "id": "odRL281zLjv1"
      },
      "source": [
        "We set the loss and the optimizer"
      ]
    },
    {
      "cell_type": "code",
      "execution_count": null,
      "metadata": {
        "id": "IokI-vGoLjv1"
      },
      "outputs": [],
      "source": [
        "loss_fn = nn.CrossEntropyLoss()    # cross entropy loss\n",
        "optimizer = torch.optim.NAdam(model.parameters(), lr=0.01)"
      ]
    },
    {
      "cell_type": "markdown",
      "metadata": {
        "id": "wsIyMTxWLjv2"
      },
      "source": [
        "## Loading the dataset\n",
        "We use a data loader to supply the training loop with batches"
      ]
    },
    {
      "cell_type": "code",
      "execution_count": null,
      "metadata": {
        "id": "8FaZMdsXLjv2"
      },
      "outputs": [],
      "source": [
        "dataset = TensorDataset(X_train, y_train)\n",
        "dataloader = DataLoader(dataset, batch_size=BATCH_SIZE, shuffle=True)"
      ]
    },
    {
      "cell_type": "markdown",
      "metadata": {
        "id": "bYh_YyI8Ljv2"
      },
      "source": [
        "## Training the classifier\n",
        "We have a classifier. We now train it on the dataset"
      ]
    },
    {
      "cell_type": "markdown",
      "metadata": {
        "id": "0w6FWJpoLjv2"
      },
      "source": [
        "Write the training loop"
      ]
    },
    {
      "cell_type": "code",
      "execution_count": null,
      "metadata": {
        "id": "EN3scU_tLjv3",
        "colab": {
          "base_uri": "https://localhost:8080/"
        },
        "outputId": "9e84e803-a654-4908-ebe3-8642ddf1bf8d"
      },
      "outputs": [
        {
          "output_type": "stream",
          "name": "stderr",
          "text": [
            "100%|██████████| 10/10 [03:14<00:00, 19.49s/it]\n"
          ]
        }
      ],
      "source": [
        "# Write your code here\n",
        "loss_train_history = []\n",
        "acc_train_history = []\n",
        "loss_val_history = []\n",
        "acc_val_history = []\n",
        "for epoch in tqdm(range(EPOCHS)):\n",
        "    loss_train = 0\n",
        "    y_pred = []\n",
        "    for X_batch, y_batch in dataloader:\n",
        "      y_pred = model(X_batch)\n",
        "    #  y_pred = torch.argmax(y_pred, dim=1)\n",
        "      loss = loss_fn(y_pred, y_batch)\n",
        "      optimizer.zero_grad()\n",
        "      loss.backward()\n",
        "      optimizer.step()\n",
        "      loss += loss.item()\n",
        "\n",
        "\n",
        "    loss_train_history += [BATCH_SIZE * loss_train/len(y_train)]\n",
        "   # acc_val_history.append(sum([i == j for i,j in zip(y_val_pred, y_val)]) / len(y_val))\n",
        "\n",
        "    y_val_pred = model(X_val)\n",
        "    y_val_pred = torch.argmax(y_val_pred, dim=1) \n",
        "    acc_val_history.append(sum(y_val_pred == y_val) / len(y_val))\n"
      ]
    },
    {
      "cell_type": "code",
      "source": [
        "acc_val_history"
      ],
      "metadata": {
        "id": "Q9E3zXVeSX5I",
        "colab": {
          "base_uri": "https://localhost:8080/"
        },
        "outputId": "d2e994fb-c9de-4763-8315-c86ac51df254"
      },
      "execution_count": null,
      "outputs": [
        {
          "output_type": "execute_result",
          "data": {
            "text/plain": [
              "[tensor(0.9286),\n",
              " tensor(0.9240),\n",
              " tensor(0.9350),\n",
              " tensor(0.9240),\n",
              " tensor(0.9304),\n",
              " tensor(0.9222),\n",
              " tensor(0.9291),\n",
              " tensor(0.9347),\n",
              " tensor(0.9301),\n",
              " tensor(0.9301)]"
            ]
          },
          "metadata": {},
          "execution_count": 59
        }
      ]
    },
    {
      "cell_type": "markdown",
      "metadata": {
        "id": "M_4mYuJsLjv3"
      },
      "source": [
        "We plot the loss"
      ]
    },
    {
      "cell_type": "code",
      "execution_count": null,
      "metadata": {
        "id": "wHaG7bn6Ljv4",
        "colab": {
          "base_uri": "https://localhost:8080/",
          "height": 281
        },
        "outputId": "64df4e4c-4003-4b80-9390-c36ec3f000d9"
      },
      "outputs": [
        {
          "output_type": "display_data",
          "data": {
            "text/plain": [
              "<Figure size 432x288 with 1 Axes>"
            ],
            "image/png": "[encoded data removed]"
          },
          "metadata": {
            "needs_background": "light"
          }
        }
      ],
      "source": [
        "import matplotlib.pyplot as plt\n",
        "\n",
        "epochs = range(1, len(acc_val_history) + 1)\n",
        "plt.plot(epochs, acc_val_history, 'bo', label='Validation accuracy')\n",
        "plt.title('Validation accuracy')\n",
        "plt.legend()\n",
        "plt.show()"
      ]
    },
    {
      "cell_type": "markdown",
      "metadata": {
        "id": "re2TUgbgLjv4"
      },
      "source": [
        "## Predicting the test set\n",
        "Predict the whole test set. Call the resulting vector `y_test_pred`."
      ]
    },
    {
      "cell_type": "code",
      "execution_count": null,
      "metadata": {
        "id": "CxVlvHYHLjv4"
      },
      "outputs": [],
      "source": [
        "# Write your code\n",
        "y_test_pred = model(X_test)\n",
        "y_test_pred = torch.argmax(y_test_pred, dim=1)\n",
        "y_val_pred = model(X_val)\n",
        "y_val_pred = torch.argmax(y_val_pred, dim=1)"
      ]
    },
    {
      "cell_type": "code",
      "execution_count": null,
      "metadata": {
        "id": "oGLRFCliLjv5",
        "colab": {
          "base_uri": "https://localhost:8080/"
        },
        "outputId": "a5663eb9-6a37-4aa4-e23e-91d7a35b7384"
      },
      "outputs": [
        {
          "output_type": "execute_result",
          "data": {
            "text/plain": [
              "tensor([32,  1, 18, 37, 19, 35, 32, 23, 12, 16])"
            ]
          },
          "metadata": {},
          "execution_count": 62
        }
      ],
      "source": [
        "y_test_pred[:10]"
      ]
    },
    {
      "cell_type": "code",
      "execution_count": null,
      "metadata": {
        "id": "KZ8F5cEdLjv5",
        "colab": {
          "base_uri": "https://localhost:8080/"
        },
        "outputId": "ad561a18-2c92-45a4-eaa2-d243c6ecd3e7"
      },
      "outputs": [
        {
          "output_type": "stream",
          "name": "stdout",
          "text": [
            "              precision    recall  f1-score   support\n",
            "\n",
            "         ara     0.9565    1.0000    0.9778        88\n",
            "         ber     0.7143    0.6633    0.6878        98\n",
            "         bul     0.8350    0.8600    0.8473       100\n",
            "         ces     0.8980    0.9670    0.9312        91\n",
            "         cmn     0.9798    0.9327    0.9557       104\n",
            "         dan     0.9423    0.8829    0.9116       111\n",
            "         deu     0.9889    0.9889    0.9889        90\n",
            "         ell     1.0000    1.0000    1.0000       106\n",
            "         eng     0.9057    0.9897    0.9458        97\n",
            "         epo     0.9535    0.9425    0.9480        87\n",
            "         fin     0.8852    0.9908    0.9351       109\n",
            "         fra     0.9271    0.9674    0.9468        92\n",
            "         hau     0.9684    0.9583    0.9634        96\n",
            "         heb     1.0000    1.0000    1.0000        99\n",
            "         hun     0.9588    0.9394    0.9490        99\n",
            "         ina     0.9271    0.8476    0.8856       105\n",
            "         ita     0.8080    0.9619    0.8783       105\n",
            "         jpn     1.0000    0.9785    0.9891        93\n",
            "         kab     0.7009    0.7282    0.7143       103\n",
            "         lat     0.9853    0.8171    0.8933        82\n",
            "         lfn     0.8913    0.9425    0.9162        87\n",
            "         lit     0.9255    0.9667    0.9457        90\n",
            "         mar     1.0000    0.9912    0.9956       114\n",
            "         mkd     0.8316    0.8495    0.8404        93\n",
            "         nld     0.9608    0.9800    0.9703       100\n",
            "         pes     1.0000    0.9688    0.9841        96\n",
            "         pol     0.9826    1.0000    0.9912       113\n",
            "         por     0.9727    0.8992    0.9345       119\n",
            "         ron     0.9439    0.9182    0.9309       110\n",
            "         rus     0.9314    0.8796    0.9048       108\n",
            "         spa     0.9143    0.9057    0.9100       106\n",
            "         srp     0.8991    0.8235    0.8596       119\n",
            "         swc     0.9583    0.9485    0.9534        97\n",
            "         swe     0.9151    0.9151    0.9151       106\n",
            "         tlh     0.9900    0.9802    0.9851       101\n",
            "         tok     1.0000    1.0000    1.0000       111\n",
            "         tur     0.9655    0.9655    0.9655        87\n",
            "         ukr     0.9113    0.9417    0.9262       120\n",
            "         vie     1.0000    1.0000    1.0000        91\n",
            "\n",
            "    accuracy                         0.9299      3923\n",
            "   macro avg     0.9315    0.9306    0.9302      3923\n",
            "weighted avg     0.9312    0.9299    0.9297      3923\n",
            "\n"
          ]
        }
      ],
      "source": [
        "print(classification_report(y_test, y_test_pred, target_names=langs, digits=4))"
      ]
    },
    {
      "cell_type": "code",
      "source": [
        "print(confusion_matrix(y_test, y_test_pred))"
      ],
      "metadata": {
        "colab": {
          "base_uri": "https://localhost:8080/"
        },
        "id": "n1nBibg_QaTW",
        "outputId": "76299037-6493-49bc-d8a5-56c8b9725848"
      },
      "execution_count": null,
      "outputs": [
        {
          "output_type": "stream",
          "name": "stdout",
          "text": [
            "[[ 88   0   0 ...   0   0   0]\n",
            " [  0  65   0 ...   0   0   0]\n",
            " [  0   0  86 ...   0   1   0]\n",
            " ...\n",
            " [  0   0   0 ...  84   0   0]\n",
            " [  0   0   1 ...   0 113   0]\n",
            " [  0   0   0 ...   0   0  91]]\n"
          ]
        }
      ]
    },
    {
      "cell_type": "code",
      "source": [
        "cM = confusion_matrix(y_test, y_test_pred)"
      ],
      "metadata": {
        "id": "C2_g4VJrUWEI"
      },
      "execution_count": null,
      "outputs": []
    },
    {
      "cell_type": "code",
      "source": [
        "cM[1]\n",
        "langs[1]\n",
        "\n",
        "def confusions(lang):\n",
        "  mainLangIdx = langs.index(lang)\n",
        "  for idx, lang in enumerate(langs):\n",
        "    print(lang + ': ' + str(cM[mainLangIdx][idx]))"
      ],
      "metadata": {
        "id": "vea-6wlUUtah"
      },
      "execution_count": null,
      "outputs": []
    },
    {
      "cell_type": "code",
      "source": [
        "cM[0][5]"
      ],
      "metadata": {
        "colab": {
          "base_uri": "https://localhost:8080/"
        },
        "id": "ODiZ6gYmW9Rr",
        "outputId": "cf70e663-99c1-4b5d-9f09-f3e578c6c481"
      },
      "execution_count": null,
      "outputs": [
        {
          "output_type": "execute_result",
          "data": {
            "text/plain": [
              "0"
            ]
          },
          "metadata": {},
          "execution_count": 67
        }
      ]
    },
    {
      "cell_type": "code",
      "source": [
        "confusions(\"ber\")"
      ],
      "metadata": {
        "colab": {
          "base_uri": "https://localhost:8080/"
        },
        "id": "BEO2lae1WJf3",
        "outputId": "0448b64e-2274-4339-bb8a-017a72910a01"
      },
      "execution_count": null,
      "outputs": [
        {
          "output_type": "stream",
          "name": "stdout",
          "text": [
            "ara: 0\n",
            "ber: 65\n",
            "bul: 0\n",
            "ces: 0\n",
            "cmn: 0\n",
            "dan: 0\n",
            "deu: 0\n",
            "ell: 0\n",
            "eng: 1\n",
            "epo: 0\n",
            "fin: 0\n",
            "fra: 0\n",
            "hau: 1\n",
            "heb: 0\n",
            "hun: 0\n",
            "ina: 0\n",
            "ita: 0\n",
            "jpn: 0\n",
            "kab: 30\n",
            "lat: 0\n",
            "lfn: 0\n",
            "lit: 0\n",
            "mar: 0\n",
            "mkd: 0\n",
            "nld: 0\n",
            "pes: 0\n",
            "pol: 0\n",
            "por: 0\n",
            "ron: 1\n",
            "rus: 0\n",
            "spa: 0\n",
            "srp: 0\n",
            "swc: 0\n",
            "swe: 0\n",
            "tlh: 0\n",
            "tok: 0\n",
            "tur: 0\n",
            "ukr: 0\n",
            "vie: 0\n"
          ]
        }
      ]
    },
    {
      "cell_type": "code",
      "source": [
        "langs[cM.index(\"ber\")]"
      ],
      "metadata": {
        "colab": {
          "base_uri": "https://localhost:8080/",
          "height": 165
        },
        "id": "HrCkuaa_V34a",
        "outputId": "e516290c-b10b-4635-dff5-f6f9a2a35ca0"
      },
      "execution_count": null,
      "outputs": [
        {
          "output_type": "error",
          "ename": "AttributeError",
          "evalue": "ignored",
          "traceback": [
            "\u001b[0;31m---------------------------------------------------------------------------\u001b[0m",
            "\u001b[0;31mAttributeError\u001b[0m                            Traceback (most recent call last)",
            "\u001b[0;32m<ipython-input-69-5a29fb852d3e>\u001b[0m in \u001b[0;36m<module>\u001b[0;34m\u001b[0m\n\u001b[0;32m----> 1\u001b[0;31m \u001b[0mlangs\u001b[0m\u001b[0;34m[\u001b[0m\u001b[0mcM\u001b[0m\u001b[0;34m.\u001b[0m\u001b[0mindex\u001b[0m\u001b[0;34m(\u001b[0m\u001b[0;34m\"ber\"\u001b[0m\u001b[0;34m)\u001b[0m\u001b[0;34m]\u001b[0m\u001b[0;34m\u001b[0m\u001b[0;34m\u001b[0m\u001b[0m\n\u001b[0m",
            "\u001b[0;31mAttributeError\u001b[0m: 'numpy.ndarray' object has no attribute 'index'"
          ]
        }
      ]
    },
    {
      "cell_type": "code",
      "source": [
        "confusions(\"ber\")"
      ],
      "metadata": {
        "id": "RHREq13YVZQU"
      },
      "execution_count": null,
      "outputs": []
    },
    {
      "cell_type": "markdown",
      "metadata": {
        "id": "a5cNLwN9Ljv6"
      },
      "source": [
        "## Applying the Detector"
      ]
    },
    {
      "cell_type": "code",
      "execution_count": null,
      "metadata": {
        "id": "N7clhXDwLjv7"
      },
      "outputs": [],
      "source": [
        "def encode(text, multihot_func, MAXES):\n",
        "    hashes = hash_ngrams(all_ngrams(text), MAXES)\n",
        "    hash_freq_l = map(rel_freqs, hashes)\n",
        "    x_row = torch.empty((0,))\n",
        "    for hash_freq_dict, max in zip(hash_freq_l, MAXES):\n",
        "        x_row = torch.hstack((x_row, multihot_func(hash_freq_dict, max)))\n",
        "    return x_row"
      ]
    },
    {
      "cell_type": "code",
      "execution_count": null,
      "metadata": {
        "id": "rEzzcUTzLjv7"
      },
      "outputs": [],
      "source": [
        "test_sents = ['Hi guys and girls!',\n",
        "'Hur mår du nu?', \n",
        "'Allt bra idag?', \n",
        "'Salut tout le monde !']"
      ]
    },
    {
      "cell_type": "code",
      "execution_count": null,
      "metadata": {
        "id": "I30CuwxtLjv8"
      },
      "outputs": [],
      "source": [
        "for sent in test_sents:\n",
        "    if REL_FREQ:\n",
        "        row = encode(sent, multihot_freq, MAXES)\n",
        "    else:\n",
        "        row = encode(sent, multihot, MAXES)\n",
        "    print(sent, idx2lang[torch.argmax(model(row), dim=-1).item()])"
      ]
    },
    {
      "cell_type": "markdown",
      "metadata": {
        "id": "0K5F43X6Ljv9"
      },
      "source": [
        "## Checking Values\n",
        "Your instructor used this piece of code to test his program\n",
        "\n",
        "line 30316 of training set: _Stanna!_\n",
        "\n",
        "The extracted values should match the vector"
      ]
    },
    {
      "cell_type": "code",
      "execution_count": null,
      "metadata": {
        "id": "tHQF5dqELjv9"
      },
      "outputs": [],
      "source": [
        "list(map(rel_freqs, hash_ngrams(all_ngrams('Stanna!'), MAXES)))"
      ]
    },
    {
      "cell_type": "code",
      "execution_count": null,
      "metadata": {
        "id": "ZD_fFCDQLjv-"
      },
      "outputs": [],
      "source": [
        "torch.nonzero(X_train[30316]).T"
      ]
    },
    {
      "cell_type": "code",
      "execution_count": null,
      "metadata": {
        "id": "AEp-R1N_Ljv-"
      },
      "outputs": [],
      "source": [
        "X_train[30316, torch.nonzero(X_train[30316])].T"
      ]
    },
    {
      "cell_type": "code",
      "source": [],
      "metadata": {
        "id": "8VQhI6_r9BHM"
      },
      "execution_count": null,
      "outputs": []
    },
    {
      "cell_type": "markdown",
      "metadata": {
        "id": "-L2o9TsLLjv-"
      },
      "source": [
        "## Results\n",
        "\n",
        "You will report your results for the different methods you tried. You are only required to process the small dataset.\n",
        "\n",
        "\n",
        "| Method   |      Corpus      |  Encoding | Macro F1: Val. set| Macro F1: Test set|\n",
        "|----------|:-------------|:------|------:|------:|\n",
        "| Logistic regression |  Small | Booleans |0.9377|0.9362|\n",
        "| Logistic regression |    Large   |   Booleans |0.9739|0.9734|\n",
        "| Logistic regression |  Small |    Frequencies |0.9527|0.9535|\n",
        "| Logistic regression |  Large |    Frequencies |0.9792|0.9784|\n",
        "| Neural network |  Small | Booleans |0.9202  |0.9229|\n",
        "| Neural network |    Large   |   Booleans |xx|xx|\n",
        "| Neural network |  Small |    Frequencies |0.9318|0.9302|\n",
        "| Neural network |  Large |    Frequencies |xx|xx|\n",
        "    "
      ]
    },
    {
      "cell_type": "markdown",
      "metadata": {
        "id": "GV3EyoYFLjv_"
      },
      "source": []
    },
    {
      "cell_type": "markdown",
      "source": [
        "## Results without security\n",
        "\n",
        "You will report your results for the different methods you tried. You are only required to process the small dataset.\n",
        "\n",
        "\n",
        "| Method   |      Corpus      |  Encoding | Macro F1: Val. set| Macro F1: Test set|\n",
        "|----------|:-------------|:------|------:|------:|\n",
        "| Logistic regression |  Small | Booleans |0.9474 |0.9310|\n",
        "| Logistic regression |    Large   |   Booleans |xx|xx|\n",
        "| Logistic regression |  Small |    Frequencies |0.9453 |0.9299|\n",
        "| Logistic regression |  Large |    Frequencies |xx|xx|\n",
        "| Neural network |  Small | Booleans | 0.9532|0.9324|\n",
        "| Neural network |    Large   |   Booleans |xx|xx|\n",
        "| Neural network |  Small |    Frequencies |0.9553|0.9261|\n",
        "| Neural network |  Large |    Frequencies |xx|xx|"
      ],
      "metadata": {
        "id": "OO9Ffd5_Mjmq"
      }
    }
  ],
  "metadata": {
    "kernelspec": {
      "display_name": "Python 3.9.13 ('base')",
      "language": "python",
      "name": "python3"
    },
    "language_info": {
      "codemirror_mode": {
        "name": "ipython",
        "version": 3
      },
      "file_extension": ".py",
      "mimetype": "text/x-python",
      "name": "python",
      "nbconvert_exporter": "python",
      "pygments_lexer": "ipython3",
      "version": "3.9.15"
    },
    "orig_nbformat": 4,
    "vscode": {
      "interpreter": {
        "hash": "b97b11a820675205aae8f1d7f2a3f22bbd3a2c30189f44042310baf5b4cd1987"
      }
    },
    "colab": {
      "provenance": [],
      "collapsed_sections": [
        "xshPmDpjLjvU",
        "nQ5KR9vKLjve",
        "zYjnFgxVLjvo",
        "S8a-VhdsLjvs",
        "Yx43rCRYLjvv",
        "rkZtGJS7Ljvz",
        "wsIyMTxWLjv2",
        "0K5F43X6Ljv9",
        "-L2o9TsLLjv-",
        "OO9Ffd5_Mjmq"
      ]
    }
  },
  "nbformat": 4,
  "nbformat_minor": 0
}