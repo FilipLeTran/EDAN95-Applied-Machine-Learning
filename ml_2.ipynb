{
  "cells": [
    {
      "cell_type": "markdown",
      "metadata": {
        "id": "P-DuCZehO0jF"
      },
      "source": [
        "# Lab Session - Probability Distributions and Basic ML Concepts\n",
        "---\n",
        "\n",
        "In this lab session, we are going to consider various probability distributions, conjugacy, Maximum Likelihood and overfitting, as covered in lecture 2 and 3.\n",
        "\n",
        "__Note__: You can complete the lab entering code only in the  __# EXPECTED SPACE FOR STUDENT CODE__-blocks as well as the empty cells."
      ]
    },
    {
      "cell_type": "code",
      "source": [
        "!pip install numpy scipy pandas matplotlib ipympl"
      ],
      "metadata": {
        "id": "ZbcUqcXAO9FS"
      },
      "execution_count": null,
      "outputs": []
    },
    {
      "cell_type": "code",
      "execution_count": null,
      "metadata": {
        "id": "hWOuYJ-3O0jK"
      },
      "outputs": [],
      "source": [
        "# Imports\n",
        "# Can be installed through \"pip install numpy scipy pandas matplotlib ipympl\" or \"pip install -r requirements.txt\"\n",
        "import time\n",
        "from functools import partial\n",
        "import numpy as np\n",
        "from scipy.stats import norm, beta as beta_dist, gamma as gamma_dist, poisson as poisson_dist, nbinom as nbinom_dist\n",
        "from scipy.linalg import det, inv, pinv\n",
        "from scipy.optimize import minimize\n",
        "import pandas as pd\n",
        "import math\n",
        "import matplotlib.pyplot as plt\n",
        "from utils import plot_gaussian, show_images, show_marginals"
      ]
    },
    {
      "cell_type": "markdown",
      "metadata": {
        "id": "n0qMSd7gO0jL"
      },
      "source": [
        "\n",
        "# Exercise 1: Gaussian Distributions\n",
        "\n",
        "We will start by considering the most prevalent distribution - the Gaussian. As stated in Lecture 2 (Section on Gaussians) the Gaussian has several appealing properties that makes it easy to work with. In the following tasks, we will highlight some of these.\n",
        "\n",
        "**Note:** For the following tasks, the purpose is to understand the properties of Gaussian distributions. As such, any readly-made distributions (scipy.stats.norm etc.) are disallowed. Using NumPy or SciPy for Linear Algebra is permitted.\n",
        "\n",
        "Below, you see an implementation of a Gaussian distribution. We will use this highlight and implement properties that are typical of the Gaussian distribution. Please read through, and note the dunder (double under, \\_\\_methodname_\\__) methods that are implemented. These allow us to add and subtract one Gaussian with another."
      ]
    },
    {
      "cell_type": "code",
      "execution_count": null,
      "metadata": {
        "id": "VOZ_yeRtO0jM"
      },
      "outputs": [],
      "source": [
        "class GaussianDistribution:\n",
        "    \n",
        "    def __init__(self, mean, cov):\n",
        "        \"\"\"\n",
        "        A Gaussian Distribution in arbitrary number of dimensions\n",
        "\n",
        "        Args:\n",
        "            mean (np.ndarray): Mean of the distribution.\n",
        "            cov (np.ndarray): Covariance of the distribution.\n",
        "        \"\"\"\n",
        "        self.mean = np.array(mean).reshape(1, -1)\n",
        "        self.cov = np.array(cov)\n",
        "        self.dims = self.mean.shape[1]\n",
        "        \n",
        "    def __str__(self):\n",
        "        \"\"\"\n",
        "        Generates a string representation of the object, used for plotting\n",
        "        and printing\n",
        "\n",
        "        Returns:\n",
        "            str: String representation of the object\n",
        "        \"\"\"        \n",
        "        if self.dims == 2:\n",
        "            string = f'Gaussian, Dim: {self.dims}    Mean: {self.mean}    Covariance: {self.cov[0, :]}{self.cov[1, :]}'\n",
        "            \n",
        "        else:\n",
        "            string = f'Gaussian, Dim: {self.dims}    Mean: {np.round(self.mean[0, 0], 6)}    Covariance: {self.cov}'\n",
        "        return string.replace('][', '     ').replace('[', '  ').replace(']', '  ')\n",
        "        \n",
        "    \n",
        "    def __add__(self, other):\n",
        "        \"\"\"\n",
        "        Adds two GaussianDistributions (or GaussianDistribution + scalar)\n",
        "        together, assuming zero cross-covariance.\n",
        "\n",
        "        Args:\n",
        "            other (GaussianDistribution): Another GaussianDistribution\n",
        "            of the same dimensionality\n",
        "\n",
        "        Returns:\n",
        "            GaussianDistribution: The resulting distribution\n",
        "        \"\"\"\n",
        "        if not isinstance(other, type(self)):\n",
        "            other = np.array(other)\n",
        "            mean = self.mean + other\n",
        "            cov = self.cov\n",
        "        \n",
        "        else:\n",
        "            mean = self.mean + other.mean\n",
        "            cov = self.cov + other.cov\n",
        "        \n",
        "        return GaussianDistribution(mean, cov)\n",
        "              \n",
        "    def __sub__(self, other):\n",
        "        \"\"\"\n",
        "        Subtracts two GaussianDistributions (or GaussianDistribution + scalar)\n",
        "        together, assuming zero cross-covariance.\n",
        "\n",
        "        Args:\n",
        "            other (GaussianDistribution): Another GaussianDistribution\n",
        "            of the same dimensionality\n",
        "\n",
        "        Returns:\n",
        "            GaussianDistribution: The resulting distribution\n",
        "        \"\"\"\n",
        "        if not isinstance(other, type(self)):\n",
        "            other = np.array(other)\n",
        "            mean = self.mean - other\n",
        "            cov = self.cov\n",
        "            \n",
        "        else:\n",
        "            mean = self.mean - other.mean\n",
        "            cov = self.cov + other.cov\n",
        "        \n",
        "        return GaussianDistribution(mean, cov)  \n",
        "           \n",
        "    # sampling is a bit intricate - thus, we cheat a little bit here\n",
        "    def sample(self, n_samples=1):\n",
        "        \"\"\"\n",
        "        Samples from the distribution.\n",
        "\n",
        "        Args:\n",
        "            n_samples (int, optional): The number of samples to generate.\n",
        "            Defaults to 1.\n",
        "\n",
        "        Returns:\n",
        "            np.ndarray: A numpy array of the sampled points.\n",
        "        \"\"\"        \n",
        "        return norm(self.mean, self.cov).rvs(n_samples)\n",
        "            \n",
        "    # probability density function - general form\n",
        "    def pdf(self, points):\n",
        "        '''\n",
        "        Evaluates the probability density function of the distribution.\n",
        "\n",
        "        Args:\n",
        "            points (np.ndarray): the points we want the probability density of,\n",
        "            can come in either a list, np.array([dims]) or np.array([samples, dims])\n",
        "            format\n",
        "        \n",
        "        Returns: \n",
        "            np.ndarray: A numpy array of probability densities\n",
        "        '''\n",
        "\n",
        "        points = np.array(points)\n",
        "        if len(points.shape) == 1:\n",
        "            points = points.reshape(1, -1)\n",
        "            \n",
        "        offset = points - self.mean\n",
        "        if self.dims == 1:\n",
        "            norm_const = 1.0 / (np.power(2*np.pi, float(self.dims)/2) * np.sqrt(self.cov))\n",
        "            exponent = np.exp(-0.5 * np.power(offset, 2) / self.cov)\n",
        "            return norm_const * exponent\n",
        "            \n",
        "        else:\n",
        "            norm_const = 1.0 / (np.power(2*np.pi, float(self.dims)/2) * np.sqrt(det(self.cov)))\n",
        "            exponent = np.exp(-0.5 * offset.dot((inv(self.cov)).dot(offset.T)))\n",
        "            return np.diag(exponent * norm_const)\n",
        "    \n",
        "    \n",
        "    def get_conditional(self, dim, value):\n",
        "        '''\n",
        "        Computes the conditional distribution on the remaining dimensions given\n",
        "        the conditioned value in dimension dim.\n",
        "\n",
        "        Args:\n",
        "            dim: int - the dimension (assume only one) which we condition on\n",
        "            value: float - the value of the conditioned dimension\n",
        "            \n",
        "        Returns: \n",
        "            GaussianDistribution: a new distribution of dimension dim - 1\n",
        "        '''\n",
        "            \n",
        "        # EXPECTED SPACE FOR STUDENT CODE - START\n",
        "        \n",
        "        # some hints to help:\n",
        "        \n",
        "        non_cond_dims = np.arange(self.dims) != dim # t.ex. [True, False, True, True], True på samma index som dem värden som ska finnas i non_cond_dims\n",
        "        cond_dims = np.arange(self.dims) == dim \n",
        "\n",
        "        Zyx = self.cov[non_cond_dims, cond_dims][np.newaxis, :]\n",
        "        Zxy = self.cov[cond_dims, non_cond_dims][np.newaxis, :]\n",
        "        Zxx = self.cov[non_cond_dims, non_cond_dims][np.newaxis, :]\n",
        "        Zyy = self.cov[cond_dims, cond_dims][np.newaxis, :]\n",
        "\n",
        "        conditional_mean = self.mean[non_cond_dims[np.newaxis, :]] + (Zxy @ np.linalg.inv(Zyy)) * (value - self.mean[cond_dims[np.newaxis, :]])\n",
        "        conditional_cov = Zxx - np.matmul(np.matmul(Zxy, np.linalg.inv(Zyy)), Zyx)\n",
        "\n",
        "        # EXPECTED SPACE FOR STUDENT CODE - END\n",
        "        \n",
        "        return GaussianDistribution(conditional_mean, conditional_cov)\n",
        "\n",
        "    def marginalize(self, dim):\n",
        "        '''\n",
        "        Computes the marginal distribution on the remaining dimensions when having\n",
        "        marginalized out dimension dim.\n",
        "        \n",
        "        Args:\n",
        "            dim: int - the dimension (assume only one) which we marginalize\n",
        "            \n",
        "        Returns: \n",
        "            GaussianDistribution: a new distribution of dimension dim - 1\n",
        "        '''\n",
        "            \n",
        "        # EXPECTED SPACE FOR STUDENT CODE - START\n",
        "\n",
        "        non_marg_dims = np.arange(self.dims) != dim\n",
        "        marg_dims = np.arange(self.dims) == dim \n",
        "        \n",
        "        marginal_mean = self.mean[non_marg_dims[np.newaxis, :]]\n",
        "        marginal_cov = self.cov[non_marg_dims, non_marg_dims]\n",
        "        \n",
        "        # EXPECTED SPACE FOR STUDENT CODE - END\n",
        "        \n",
        "        return GaussianDistribution(marginal_mean, marginal_cov)\n"
      ]
    },
    {
      "cell_type": "code",
      "source": [
        "dim = 1\n",
        "value = 2\n",
        "\n",
        "c = GaussianDistribution(mean=np.array([1, 0]), cov=np.array([[1, 0.9], [0.9, 2]]))\n",
        "\n",
        "non_cond_dims = np.arange(c.dims) != dim # t.ex. [True, False, True, True], True på samma index som dem värden som ska finnas i non_cond_dims\n",
        "cond_dims = np.arange(c.dims) == dim \n",
        "\n",
        "Zyx = c.cov[non_cond_dims, cond_dims][np.newaxis, :]\n",
        "Zxy = c.cov[cond_dims, non_cond_dims][np.newaxis, :]\n",
        "Zxx = c.cov[non_cond_dims, non_cond_dims][np.newaxis, :]\n",
        "Zyy = c.cov[cond_dims, cond_dims][np.newaxis, :]\n",
        "\n",
        "conditional_mean = c.mean[non_cond_dims[np.newaxis, :]] + (Zxy @ np.linalg.inv(Zyy)) * (c.mean[cond_dims[np.newaxis, :]] - value)\n",
        "conditional_cov = Zxx - np.matmul(np.matmul(Zxy, np.linalg.inv(Zyy)), Zyx)\n"
      ],
      "metadata": {
        "id": "GBIxa47C_ikO"
      },
      "execution_count": null,
      "outputs": []
    },
    {
      "cell_type": "markdown",
      "metadata": {
        "id": "ojcqK1ckO0jN"
      },
      "source": [
        "### Exercise 1.1\n",
        "We first want to demonstrate how a Gaussian looks and how it is expected to behave - particularly its linear properties. __Throughout this task, we assume that the random variables we work with are independent of one another__ (e.g. __A__ is independent of __B__). Create four Gaussians:\n",
        "\n",
        "__A__: $\\mu = 1, \\sigma^2 = 2$\n",
        "\n",
        "__B__: $\\mu = -2, \\sigma^2 = 0.1$\n",
        "\n",
        "__C__: $\\mu = \\begin{bmatrix}\n",
        "1 & 0\n",
        "\\end{bmatrix}, \\quad\\Sigma^2 = \\begin{bmatrix}\n",
        "1 & 0.9\\\\\n",
        "0.9 & 2\n",
        "\\end{bmatrix}$\n",
        "\n",
        "__D__: $\\mu = \\begin{bmatrix}\n",
        "-1 & 2\n",
        "\\end{bmatrix}, \\quad\\Sigma^2 = \\begin{bmatrix}\n",
        "1 & -0.7\\\\\n",
        "-0.7 & 1\n",
        "\\end{bmatrix}$\n",
        "\n",
        "Visualize, through the provided plotting function below, _plot_gaussian_:\n",
        "\n",
        "a. __A__\n",
        "\n",
        "b. __B__\n",
        "\n",
        "c. __A__ + __B__\n",
        "\n",
        "d. __C__\n",
        "\n",
        "e. __D__\n",
        "\n",
        "f. __C__ - __D__\n",
        "\n",
        "__Questions__:\n",
        "\n",
        "1. What is meant by \"The Gaussian distribution is fully characterized by its mean and covariance\"?\n",
        "2. If two Gaussians are added, can the (co-)variance ever decrease?"
      ]
    },
    {
      "cell_type": "markdown",
      "metadata": {
        "id": "61xplSqwO0jO"
      },
      "source": [
        "__Answers__:\n",
        "\n",
        "1. For any values of the mean and the covariance, there is a unique Gaussian distribution equivalent to the combination of those values. It is computationally convenient. \n",
        "2. The sum of two Gaussians causes the covariance to be the sum of the two variances of their respective Gaussian distribution. Hence, since the variance is always zero or a positive number, the covariance cannot decrease. //kolla på detta igen"
      ]
    },
    {
      "cell_type": "code",
      "source": [
        "gaussian_E = gaussian_C + gaussian_D\n",
        "\n",
        "gaussian_E.cov"
      ],
      "metadata": {
        "id": "5xPOyrn76C61"
      },
      "execution_count": null,
      "outputs": []
    },
    {
      "cell_type": "code",
      "execution_count": null,
      "metadata": {
        "id": "7xICeSXZO0jO",
        "colab": {
          "base_uri": "https://localhost:8080/",
          "height": 1000
        },
        "outputId": "e3752150-2245-418a-e87b-cb89bd32f91d"
      },
      "outputs": [
        {
          "output_type": "display_data",
          "data": {
            "text/plain": [
              "<Figure size 720x432 with 1 Axes>"
            ],
            "image/png": "[encoded data removed]"
          },
          "metadata": {
            "needs_background": "light"
          }
        },
        {
          "output_type": "display_data",
          "data": {
            "text/plain": [
              "<Figure size 720x432 with 1 Axes>"
            ],
            "image/png": "[encoded data removed]"
          },
          "metadata": {
            "needs_background": "light"
          }
        },
        {
          "output_type": "display_data",
          "data": {
            "text/plain": [
              "<Figure size 720x432 with 1 Axes>"
            ],
            "image/png": "[encoded data removed]"
          },
          "metadata": {
            "needs_background": "light"
          }
        },
        {
          "output_type": "display_data",
          "data": {
            "text/plain": [
              "<Figure size 720x432 with 1 Axes>"
            ],
            "image/png": "[encoded data removed]"
          },
          "metadata": {
            "needs_background": "light"
          }
        },
        {
          "output_type": "display_data",
          "data": {
            "text/plain": [
              "<Figure size 720x432 with 1 Axes>"
            ],
            "image/png": "[encoded data removed]"
          },
          "metadata": {
            "needs_background": "light"
          }
        },
        {
          "output_type": "display_data",
          "data": {
            "text/plain": [
              "<Figure size 720x432 with 1 Axes>"
            ],
            "image/png": "[encoded data removed]"
          },
          "metadata": {
            "needs_background": "light"
          }
        }
      ],
      "source": [
        "# # EXPECTED SPACE FOR STUDENT CODE - START\n",
        "gaussian_A = GaussianDistribution(mean=np.array([1]), cov=np.array([2]))\n",
        "plot_gaussian(gaussian_A)\n",
        "\n",
        "gaussian_B = GaussianDistribution(mean=np.array([-2]), cov=np.array([0.1]))\n",
        "plot_gaussian(gaussian_B)\n",
        "\n",
        "plot_gaussian(gaussian_A + gaussian_B)\n",
        "\n",
        "# # cov matrix: [var(x) cov(x,y)]\n",
        "# #             [cov(x,y) var(y)]\n",
        "\n",
        "gaussian_C = GaussianDistribution(mean=np.array([1, 0]), cov=np.array([[1, 0.9], [0.9, 2]]))\n",
        "plot_gaussian(gaussian_C)\n",
        "\n",
        "gaussian_D = GaussianDistribution(mean=np.array([-1, 2]), cov=np.array([[1, -0.7], [-0.7, 1]]))\n",
        "plot_gaussian(gaussian_D)\n",
        "\n",
        "plot_gaussian(gaussian_C - gaussian_D)\n",
        "\n",
        "# # EXPECTED SPACE FOR STUDENT CODE - END"
      ]
    },
    {
      "cell_type": "markdown",
      "metadata": {
        "id": "HopEPrg7O0jO"
      },
      "source": [
        "### Exercise 1.2\n",
        "__Task__: Implement the `marginalize` function of the class GaussianDistribution. Test, for __C__, that your resulting Gaussian looks like the one in the plot. Plot the resulting distribution for __C__ when marginalizing on $y$, and on __D__ when marginalizing on $x$.\n",
        "\n",
        "__Question__: What does one effectively do when marginalizing a variable of a distribution?"
      ]
    },
    {
      "cell_type": "markdown",
      "metadata": {
        "id": "JqVpfdJ9O0jP"
      },
      "source": [
        "__Answer__: You get the probability of the variable without reference to other variables. It is a contrast to conditional distribution where you get the probabilty of a variable in reference to other variables i.e. dependent on other variables. \n"
      ]
    },
    {
      "cell_type": "code",
      "execution_count": null,
      "metadata": {
        "id": "8LLyG_rDO0jP",
        "colab": {
          "base_uri": "https://localhost:8080/",
          "height": 323
        },
        "outputId": "5922aa3f-04dd-4722-b7b0-22e72eb62396"
      },
      "outputs": [
        {
          "output_type": "error",
          "ename": "FileNotFoundError",
          "evalue": "ignored",
          "traceback": [
            "\u001b[0;31m---------------------------------------------------------------------------\u001b[0m",
            "\u001b[0;31mFileNotFoundError\u001b[0m                         Traceback (most recent call last)",
            "\u001b[0;32m<ipython-input-67-370c54b7b38d>\u001b[0m in \u001b[0;36m<module>\u001b[0;34m\u001b[0m\n\u001b[0;32m----> 1\u001b[0;31m \u001b[0mshow_marginals\u001b[0m\u001b[0;34m(\u001b[0m\u001b[0;34m)\u001b[0m\u001b[0;34m\u001b[0m\u001b[0;34m\u001b[0m\u001b[0m\n\u001b[0m",
            "\u001b[0;32m/content/utils.py\u001b[0m in \u001b[0;36mshow_marginals\u001b[0;34m()\u001b[0m\n\u001b[1;32m     80\u001b[0m \u001b[0;34m\u001b[0m\u001b[0m\n\u001b[1;32m     81\u001b[0m     \u001b[0;31m# read images\u001b[0m\u001b[0;34m\u001b[0m\u001b[0;34m\u001b[0m\u001b[0;34m\u001b[0m\u001b[0m\n\u001b[0;32m---> 82\u001b[0;31m     \u001b[0mimg_A\u001b[0m \u001b[0;34m=\u001b[0m \u001b[0mmpimg\u001b[0m\u001b[0;34m.\u001b[0m\u001b[0mimread\u001b[0m\u001b[0;34m(\u001b[0m\u001b[0mos\u001b[0m\u001b[0;34m.\u001b[0m\u001b[0mpath\u001b[0m\u001b[0;34m.\u001b[0m\u001b[0mjoin\u001b[0m\u001b[0;34m(\u001b[0m\u001b[0mos\u001b[0m\u001b[0;34m.\u001b[0m\u001b[0mgetcwd\u001b[0m\u001b[0;34m(\u001b[0m\u001b[0;34m)\u001b[0m\u001b[0;34m,\u001b[0m \u001b[0;34m'img/marg_y.png'\u001b[0m\u001b[0;34m)\u001b[0m\u001b[0;34m)\u001b[0m\u001b[0;34m\u001b[0m\u001b[0;34m\u001b[0m\u001b[0m\n\u001b[0m\u001b[1;32m     83\u001b[0m     \u001b[0mimg_B\u001b[0m \u001b[0;34m=\u001b[0m \u001b[0mmpimg\u001b[0m\u001b[0;34m.\u001b[0m\u001b[0mimread\u001b[0m\u001b[0;34m(\u001b[0m\u001b[0mos\u001b[0m\u001b[0;34m.\u001b[0m\u001b[0mpath\u001b[0m\u001b[0;34m.\u001b[0m\u001b[0mjoin\u001b[0m\u001b[0;34m(\u001b[0m\u001b[0mos\u001b[0m\u001b[0;34m.\u001b[0m\u001b[0mgetcwd\u001b[0m\u001b[0;34m(\u001b[0m\u001b[0;34m)\u001b[0m\u001b[0;34m,\u001b[0m \u001b[0;34m'img/marg_x.png'\u001b[0m\u001b[0;34m)\u001b[0m\u001b[0;34m)\u001b[0m\u001b[0;34m\u001b[0m\u001b[0;34m\u001b[0m\u001b[0m\n\u001b[1;32m     84\u001b[0m \u001b[0;34m\u001b[0m\u001b[0m\n",
            "\u001b[0;32m/usr/local/lib/python3.7/dist-packages/matplotlib/image.py\u001b[0m in \u001b[0;36mimread\u001b[0;34m(fname, format)\u001b[0m\n\u001b[1;32m   1472\u001b[0m \u001b[0;32mdef\u001b[0m \u001b[0mimread\u001b[0m\u001b[0;34m(\u001b[0m\u001b[0mfname\u001b[0m\u001b[0;34m,\u001b[0m \u001b[0mformat\u001b[0m\u001b[0;34m=\u001b[0m\u001b[0;32mNone\u001b[0m\u001b[0;34m)\u001b[0m\u001b[0;34m:\u001b[0m\u001b[0;34m\u001b[0m\u001b[0;34m\u001b[0m\u001b[0m\n\u001b[1;32m   1473\u001b[0m     \"\"\"\n\u001b[0;32m-> 1474\u001b[0;31m     \u001b[0mRead\u001b[0m \u001b[0man\u001b[0m \u001b[0mimage\u001b[0m \u001b[0;32mfrom\u001b[0m \u001b[0ma\u001b[0m \u001b[0mfile\u001b[0m \u001b[0minto\u001b[0m \u001b[0man\u001b[0m \u001b[0marray\u001b[0m\u001b[0;34m.\u001b[0m\u001b[0;34m\u001b[0m\u001b[0;34m\u001b[0m\u001b[0m\n\u001b[0m\u001b[1;32m   1475\u001b[0m \u001b[0;34m\u001b[0m\u001b[0m\n\u001b[1;32m   1476\u001b[0m     \u001b[0;34m.\u001b[0m\u001b[0;34m.\u001b[0m \u001b[0mnote\u001b[0m\u001b[0;34m:\u001b[0m\u001b[0;34m:\u001b[0m\u001b[0;34m\u001b[0m\u001b[0;34m\u001b[0m\u001b[0m\n",
            "\u001b[0;32m/usr/lib/python3.7/contextlib.py\u001b[0m in \u001b[0;36m__enter__\u001b[0;34m(self)\u001b[0m\n\u001b[1;32m    110\u001b[0m         \u001b[0;32mdel\u001b[0m \u001b[0mself\u001b[0m\u001b[0;34m.\u001b[0m\u001b[0margs\u001b[0m\u001b[0;34m,\u001b[0m \u001b[0mself\u001b[0m\u001b[0;34m.\u001b[0m\u001b[0mkwds\u001b[0m\u001b[0;34m,\u001b[0m \u001b[0mself\u001b[0m\u001b[0;34m.\u001b[0m\u001b[0mfunc\u001b[0m\u001b[0;34m\u001b[0m\u001b[0;34m\u001b[0m\u001b[0m\n\u001b[1;32m    111\u001b[0m         \u001b[0;32mtry\u001b[0m\u001b[0;34m:\u001b[0m\u001b[0;34m\u001b[0m\u001b[0;34m\u001b[0m\u001b[0m\n\u001b[0;32m--> 112\u001b[0;31m             \u001b[0;32mreturn\u001b[0m \u001b[0mnext\u001b[0m\u001b[0;34m(\u001b[0m\u001b[0mself\u001b[0m\u001b[0;34m.\u001b[0m\u001b[0mgen\u001b[0m\u001b[0;34m)\u001b[0m\u001b[0;34m\u001b[0m\u001b[0;34m\u001b[0m\u001b[0m\n\u001b[0m\u001b[1;32m    113\u001b[0m         \u001b[0;32mexcept\u001b[0m \u001b[0mStopIteration\u001b[0m\u001b[0;34m:\u001b[0m\u001b[0;34m\u001b[0m\u001b[0;34m\u001b[0m\u001b[0m\n\u001b[1;32m    114\u001b[0m             \u001b[0;32mraise\u001b[0m \u001b[0mRuntimeError\u001b[0m\u001b[0;34m(\u001b[0m\u001b[0;34m\"generator didn't yield\"\u001b[0m\u001b[0;34m)\u001b[0m \u001b[0;32mfrom\u001b[0m \u001b[0;32mNone\u001b[0m\u001b[0;34m\u001b[0m\u001b[0;34m\u001b[0m\u001b[0m\n",
            "\u001b[0;32m/usr/local/lib/python3.7/dist-packages/matplotlib/cbook/__init__.py\u001b[0m in \u001b[0;36mopen_file_cm\u001b[0;34m(path_or_file, mode, encoding)\u001b[0m\n\u001b[1;32m    416\u001b[0m     \u001b[0mnewly\u001b[0m \u001b[0mcreated\u001b[0m \u001b[0mfile\u001b[0m \u001b[0mobjects\u001b[0m \u001b[0mmore\u001b[0m \u001b[0measily\u001b[0m\u001b[0;34m.\u001b[0m\u001b[0;34m\u001b[0m\u001b[0;34m\u001b[0m\u001b[0m\n\u001b[1;32m    417\u001b[0m \u001b[0;34m\u001b[0m\u001b[0m\n\u001b[0;32m--> 418\u001b[0;31m     \u001b[0mParameters\u001b[0m\u001b[0;34m\u001b[0m\u001b[0;34m\u001b[0m\u001b[0m\n\u001b[0m\u001b[1;32m    419\u001b[0m     \u001b[0;34m-\u001b[0m\u001b[0;34m-\u001b[0m\u001b[0;34m-\u001b[0m\u001b[0;34m-\u001b[0m\u001b[0;34m-\u001b[0m\u001b[0;34m-\u001b[0m\u001b[0;34m-\u001b[0m\u001b[0;34m-\u001b[0m\u001b[0;34m-\u001b[0m\u001b[0;34m-\u001b[0m\u001b[0;34m\u001b[0m\u001b[0;34m\u001b[0m\u001b[0m\n\u001b[1;32m    420\u001b[0m     \u001b[0mfname\u001b[0m \u001b[0;34m:\u001b[0m \u001b[0mstr\u001b[0m \u001b[0;32mor\u001b[0m \u001b[0mpath\u001b[0m\u001b[0;34m-\u001b[0m\u001b[0mlike\u001b[0m \u001b[0;32mor\u001b[0m \u001b[0mfile\u001b[0m\u001b[0;34m-\u001b[0m\u001b[0mlike\u001b[0m\u001b[0;34m\u001b[0m\u001b[0;34m\u001b[0m\u001b[0m\n",
            "\u001b[0;32m/usr/local/lib/python3.7/dist-packages/matplotlib/cbook/__init__.py\u001b[0m in \u001b[0;36mto_filehandle\u001b[0;34m(fname, flag, return_opened, encoding)\u001b[0m\n\u001b[1;32m    401\u001b[0m     \u001b[0mwritten\u001b[0m \u001b[0mto\u001b[0m \u001b[0mit\u001b[0m\u001b[0;34m.\u001b[0m\u001b[0;34m\u001b[0m\u001b[0;34m\u001b[0m\u001b[0m\n\u001b[1;32m    402\u001b[0m     \"\"\"\n\u001b[0;32m--> 403\u001b[0;31m     \u001b[0;32mtry\u001b[0m\u001b[0;34m:\u001b[0m\u001b[0;34m\u001b[0m\u001b[0;34m\u001b[0m\u001b[0m\n\u001b[0m\u001b[1;32m    404\u001b[0m         \u001b[0mx\u001b[0m\u001b[0;34m.\u001b[0m\u001b[0mwrite\u001b[0m\u001b[0;34m(\u001b[0m\u001b[0;34mb''\u001b[0m\u001b[0;34m)\u001b[0m\u001b[0;34m\u001b[0m\u001b[0;34m\u001b[0m\u001b[0m\n\u001b[1;32m    405\u001b[0m     \u001b[0;32mexcept\u001b[0m \u001b[0mTypeError\u001b[0m\u001b[0;34m:\u001b[0m\u001b[0;34m\u001b[0m\u001b[0;34m\u001b[0m\u001b[0m\n",
            "\u001b[0;31mFileNotFoundError\u001b[0m: [Errno 2] No such file or directory: '/content/img/marg_y.png'"
          ]
        }
      ],
      "source": [
        "show_marginals()"
      ]
    },
    {
      "cell_type": "code",
      "execution_count": null,
      "metadata": {
        "id": "HN561VPTO0jQ",
        "colab": {
          "base_uri": "https://localhost:8080/",
          "height": 392
        },
        "outputId": "b53f97b1-953a-4dc0-de85-5f3ae084f1cd"
      },
      "outputs": [
        {
          "output_type": "display_data",
          "data": {
            "text/plain": [
              "<Figure size 720x432 with 1 Axes>"
            ],
            "image/png": "[encoded data removed]"
          },
          "metadata": {
            "needs_background": "light"
          }
        }
      ],
      "source": [
        "# Some code to test if you've marginalized distribution C correctly\n",
        "marg_C = gaussian_C.marginalize(dim=1)\n",
        "\n",
        "plot_gaussian(marg_C)"
      ]
    },
    {
      "cell_type": "markdown",
      "metadata": {
        "id": "i0latlxKO0jQ"
      },
      "source": [
        "### Exercise 1.3\n",
        "__Task__: Implement the `get_conditional` function of the class GaussianDistribution, as specified in Lecture 2 on Gaussians. Test, for the Gaussians __C__ and __D__ from 1.1, that your resulting conditional looks like the ones in the plots, when conditioning on $x=2$ and $y=4$, respectively. \n",
        "\n",
        "__Hint 1__: Use the numpy arrays to retrieve the right dimensions when performing the computation (`cond_dims` are the dimensions we condition on - $y$ in the lecture notes, `non_cond_dims` are the non-conditioned dimensions - $x$ in the lectures). Example:\n",
        "\n",
        "$\\Sigma_{yx} = $ `self.cov[cond_dims, non_cond_dims][:, np.newaxis]`\n",
        "\n",
        "__Hint 2__: Use either np.matmul, np.dot or the @ operator to perform matrix matrix multiplications."
      ]
    },
    {
      "cell_type": "code",
      "execution_count": null,
      "metadata": {
        "id": "-uzy4zZcO0jQ",
        "colab": {
          "base_uri": "https://localhost:8080/",
          "height": 323
        },
        "outputId": "563108fe-eb01-46fe-c57f-f4f423d36fb2"
      },
      "outputs": [
        {
          "output_type": "error",
          "ename": "FileNotFoundError",
          "evalue": "ignored",
          "traceback": [
            "\u001b[0;31m---------------------------------------------------------------------------\u001b[0m",
            "\u001b[0;31mFileNotFoundError\u001b[0m                         Traceback (most recent call last)",
            "\u001b[0;32m<ipython-input-19-1b173cd6f70f>\u001b[0m in \u001b[0;36m<module>\u001b[0;34m\u001b[0m\n\u001b[0;32m----> 1\u001b[0;31m \u001b[0mshow_images\u001b[0m\u001b[0;34m(\u001b[0m\u001b[0;34m)\u001b[0m\u001b[0;34m\u001b[0m\u001b[0;34m\u001b[0m\u001b[0m\n\u001b[0m",
            "\u001b[0;32m/content/utils.py\u001b[0m in \u001b[0;36mshow_images\u001b[0;34m()\u001b[0m\n\u001b[1;32m     95\u001b[0m \u001b[0;34m\u001b[0m\u001b[0m\n\u001b[1;32m     96\u001b[0m     \u001b[0;31m# read images\u001b[0m\u001b[0;34m\u001b[0m\u001b[0;34m\u001b[0m\u001b[0;34m\u001b[0m\u001b[0m\n\u001b[0;32m---> 97\u001b[0;31m     \u001b[0mimg_A\u001b[0m \u001b[0;34m=\u001b[0m \u001b[0mmpimg\u001b[0m\u001b[0;34m.\u001b[0m\u001b[0mimread\u001b[0m\u001b[0;34m(\u001b[0m\u001b[0mos\u001b[0m\u001b[0;34m.\u001b[0m\u001b[0mpath\u001b[0m\u001b[0;34m.\u001b[0m\u001b[0mjoin\u001b[0m\u001b[0;34m(\u001b[0m\u001b[0mos\u001b[0m\u001b[0;34m.\u001b[0m\u001b[0mgetcwd\u001b[0m\u001b[0;34m(\u001b[0m\u001b[0;34m)\u001b[0m\u001b[0;34m,\u001b[0m \u001b[0;34m'img/test_conditional_x.png'\u001b[0m\u001b[0;34m)\u001b[0m\u001b[0;34m)\u001b[0m\u001b[0;34m\u001b[0m\u001b[0;34m\u001b[0m\u001b[0m\n\u001b[0m\u001b[1;32m     98\u001b[0m     \u001b[0mimg_B\u001b[0m \u001b[0;34m=\u001b[0m \u001b[0mmpimg\u001b[0m\u001b[0;34m.\u001b[0m\u001b[0mimread\u001b[0m\u001b[0;34m(\u001b[0m\u001b[0mos\u001b[0m\u001b[0;34m.\u001b[0m\u001b[0mpath\u001b[0m\u001b[0;34m.\u001b[0m\u001b[0mjoin\u001b[0m\u001b[0;34m(\u001b[0m\u001b[0mos\u001b[0m\u001b[0;34m.\u001b[0m\u001b[0mgetcwd\u001b[0m\u001b[0;34m(\u001b[0m\u001b[0;34m)\u001b[0m\u001b[0;34m,\u001b[0m \u001b[0;34m'img/test_conditional_y.png'\u001b[0m\u001b[0;34m)\u001b[0m\u001b[0;34m)\u001b[0m\u001b[0;34m\u001b[0m\u001b[0;34m\u001b[0m\u001b[0m\n\u001b[1;32m     99\u001b[0m \u001b[0;34m\u001b[0m\u001b[0m\n",
            "\u001b[0;32m/usr/local/lib/python3.7/dist-packages/matplotlib/image.py\u001b[0m in \u001b[0;36mimread\u001b[0;34m(fname, format)\u001b[0m\n\u001b[1;32m   1472\u001b[0m             \u001b[0mfd\u001b[0m \u001b[0;34m=\u001b[0m \u001b[0mBytesIO\u001b[0m\u001b[0;34m(\u001b[0m\u001b[0mrequest\u001b[0m\u001b[0;34m.\u001b[0m\u001b[0murlopen\u001b[0m\u001b[0;34m(\u001b[0m\u001b[0mfname\u001b[0m\u001b[0;34m)\u001b[0m\u001b[0;34m.\u001b[0m\u001b[0mread\u001b[0m\u001b[0;34m(\u001b[0m\u001b[0;34m)\u001b[0m\u001b[0;34m)\u001b[0m\u001b[0;34m\u001b[0m\u001b[0;34m\u001b[0m\u001b[0m\n\u001b[1;32m   1473\u001b[0m             \u001b[0;32mreturn\u001b[0m \u001b[0m_png\u001b[0m\u001b[0;34m.\u001b[0m\u001b[0mread_png\u001b[0m\u001b[0;34m(\u001b[0m\u001b[0mfd\u001b[0m\u001b[0;34m)\u001b[0m\u001b[0;34m\u001b[0m\u001b[0;34m\u001b[0m\u001b[0m\n\u001b[0;32m-> 1474\u001b[0;31m     \u001b[0;32mwith\u001b[0m \u001b[0mcbook\u001b[0m\u001b[0;34m.\u001b[0m\u001b[0mopen_file_cm\u001b[0m\u001b[0;34m(\u001b[0m\u001b[0mfname\u001b[0m\u001b[0;34m,\u001b[0m \u001b[0;34m\"rb\"\u001b[0m\u001b[0;34m)\u001b[0m \u001b[0;32mas\u001b[0m \u001b[0mfile\u001b[0m\u001b[0;34m:\u001b[0m\u001b[0;34m\u001b[0m\u001b[0;34m\u001b[0m\u001b[0m\n\u001b[0m\u001b[1;32m   1475\u001b[0m         \u001b[0;32mreturn\u001b[0m \u001b[0m_png\u001b[0m\u001b[0;34m.\u001b[0m\u001b[0mread_png\u001b[0m\u001b[0;34m(\u001b[0m\u001b[0mfile\u001b[0m\u001b[0;34m)\u001b[0m\u001b[0;34m\u001b[0m\u001b[0;34m\u001b[0m\u001b[0m\n\u001b[1;32m   1476\u001b[0m \u001b[0;34m\u001b[0m\u001b[0m\n",
            "\u001b[0;32m/usr/lib/python3.7/contextlib.py\u001b[0m in \u001b[0;36m__enter__\u001b[0;34m(self)\u001b[0m\n\u001b[1;32m    110\u001b[0m         \u001b[0;32mdel\u001b[0m \u001b[0mself\u001b[0m\u001b[0;34m.\u001b[0m\u001b[0margs\u001b[0m\u001b[0;34m,\u001b[0m \u001b[0mself\u001b[0m\u001b[0;34m.\u001b[0m\u001b[0mkwds\u001b[0m\u001b[0;34m,\u001b[0m \u001b[0mself\u001b[0m\u001b[0;34m.\u001b[0m\u001b[0mfunc\u001b[0m\u001b[0;34m\u001b[0m\u001b[0;34m\u001b[0m\u001b[0m\n\u001b[1;32m    111\u001b[0m         \u001b[0;32mtry\u001b[0m\u001b[0;34m:\u001b[0m\u001b[0;34m\u001b[0m\u001b[0;34m\u001b[0m\u001b[0m\n\u001b[0;32m--> 112\u001b[0;31m             \u001b[0;32mreturn\u001b[0m \u001b[0mnext\u001b[0m\u001b[0;34m(\u001b[0m\u001b[0mself\u001b[0m\u001b[0;34m.\u001b[0m\u001b[0mgen\u001b[0m\u001b[0;34m)\u001b[0m\u001b[0;34m\u001b[0m\u001b[0;34m\u001b[0m\u001b[0m\n\u001b[0m\u001b[1;32m    113\u001b[0m         \u001b[0;32mexcept\u001b[0m \u001b[0mStopIteration\u001b[0m\u001b[0;34m:\u001b[0m\u001b[0;34m\u001b[0m\u001b[0;34m\u001b[0m\u001b[0m\n\u001b[1;32m    114\u001b[0m             \u001b[0;32mraise\u001b[0m \u001b[0mRuntimeError\u001b[0m\u001b[0;34m(\u001b[0m\u001b[0;34m\"generator didn't yield\"\u001b[0m\u001b[0;34m)\u001b[0m \u001b[0;32mfrom\u001b[0m \u001b[0;32mNone\u001b[0m\u001b[0;34m\u001b[0m\u001b[0;34m\u001b[0m\u001b[0m\n",
            "\u001b[0;32m/usr/local/lib/python3.7/dist-packages/matplotlib/cbook/__init__.py\u001b[0m in \u001b[0;36mopen_file_cm\u001b[0;34m(path_or_file, mode, encoding)\u001b[0m\n\u001b[1;32m    416\u001b[0m \u001b[0;32mdef\u001b[0m \u001b[0mopen_file_cm\u001b[0m\u001b[0;34m(\u001b[0m\u001b[0mpath_or_file\u001b[0m\u001b[0;34m,\u001b[0m \u001b[0mmode\u001b[0m\u001b[0;34m=\u001b[0m\u001b[0;34m\"r\"\u001b[0m\u001b[0;34m,\u001b[0m \u001b[0mencoding\u001b[0m\u001b[0;34m=\u001b[0m\u001b[0;32mNone\u001b[0m\u001b[0;34m)\u001b[0m\u001b[0;34m:\u001b[0m\u001b[0;34m\u001b[0m\u001b[0;34m\u001b[0m\u001b[0m\n\u001b[1;32m    417\u001b[0m     \u001b[0;34mr\"\"\"Pass through file objects and context-manage `.PathLike`\\s.\"\"\"\u001b[0m\u001b[0;34m\u001b[0m\u001b[0;34m\u001b[0m\u001b[0m\n\u001b[0;32m--> 418\u001b[0;31m     \u001b[0mfh\u001b[0m\u001b[0;34m,\u001b[0m \u001b[0mopened\u001b[0m \u001b[0;34m=\u001b[0m \u001b[0mto_filehandle\u001b[0m\u001b[0;34m(\u001b[0m\u001b[0mpath_or_file\u001b[0m\u001b[0;34m,\u001b[0m \u001b[0mmode\u001b[0m\u001b[0;34m,\u001b[0m \u001b[0;32mTrue\u001b[0m\u001b[0;34m,\u001b[0m \u001b[0mencoding\u001b[0m\u001b[0;34m)\u001b[0m\u001b[0;34m\u001b[0m\u001b[0;34m\u001b[0m\u001b[0m\n\u001b[0m\u001b[1;32m    419\u001b[0m     \u001b[0;32mif\u001b[0m \u001b[0mopened\u001b[0m\u001b[0;34m:\u001b[0m\u001b[0;34m\u001b[0m\u001b[0;34m\u001b[0m\u001b[0m\n\u001b[1;32m    420\u001b[0m         \u001b[0;32mwith\u001b[0m \u001b[0mfh\u001b[0m\u001b[0;34m:\u001b[0m\u001b[0;34m\u001b[0m\u001b[0;34m\u001b[0m\u001b[0m\n",
            "\u001b[0;32m/usr/local/lib/python3.7/dist-packages/matplotlib/cbook/__init__.py\u001b[0m in \u001b[0;36mto_filehandle\u001b[0;34m(fname, flag, return_opened, encoding)\u001b[0m\n\u001b[1;32m    401\u001b[0m             \u001b[0mfh\u001b[0m \u001b[0;34m=\u001b[0m \u001b[0mbz2\u001b[0m\u001b[0;34m.\u001b[0m\u001b[0mBZ2File\u001b[0m\u001b[0;34m(\u001b[0m\u001b[0mfname\u001b[0m\u001b[0;34m,\u001b[0m \u001b[0mflag\u001b[0m\u001b[0;34m)\u001b[0m\u001b[0;34m\u001b[0m\u001b[0;34m\u001b[0m\u001b[0m\n\u001b[1;32m    402\u001b[0m         \u001b[0;32melse\u001b[0m\u001b[0;34m:\u001b[0m\u001b[0;34m\u001b[0m\u001b[0;34m\u001b[0m\u001b[0m\n\u001b[0;32m--> 403\u001b[0;31m             \u001b[0mfh\u001b[0m \u001b[0;34m=\u001b[0m \u001b[0mopen\u001b[0m\u001b[0;34m(\u001b[0m\u001b[0mfname\u001b[0m\u001b[0;34m,\u001b[0m \u001b[0mflag\u001b[0m\u001b[0;34m,\u001b[0m \u001b[0mencoding\u001b[0m\u001b[0;34m=\u001b[0m\u001b[0mencoding\u001b[0m\u001b[0;34m)\u001b[0m\u001b[0;34m\u001b[0m\u001b[0;34m\u001b[0m\u001b[0m\n\u001b[0m\u001b[1;32m    404\u001b[0m         \u001b[0mopened\u001b[0m \u001b[0;34m=\u001b[0m \u001b[0;32mTrue\u001b[0m\u001b[0;34m\u001b[0m\u001b[0;34m\u001b[0m\u001b[0m\n\u001b[1;32m    405\u001b[0m     \u001b[0;32melif\u001b[0m \u001b[0mhasattr\u001b[0m\u001b[0;34m(\u001b[0m\u001b[0mfname\u001b[0m\u001b[0;34m,\u001b[0m \u001b[0;34m'seek'\u001b[0m\u001b[0;34m)\u001b[0m\u001b[0;34m:\u001b[0m\u001b[0;34m\u001b[0m\u001b[0;34m\u001b[0m\u001b[0m\n",
            "\u001b[0;31mFileNotFoundError\u001b[0m: [Errno 2] No such file or directory: '/content/img/test_conditional_x.png'"
          ]
        }
      ],
      "source": [
        "show_images()"
      ]
    },
    {
      "cell_type": "code",
      "execution_count": null,
      "metadata": {
        "id": "LlCqhIqUO0jR",
        "colab": {
          "base_uri": "https://localhost:8080/",
          "height": 457
        },
        "outputId": "4ebf63d0-0325-4528-d8f4-33b072259fb7"
      },
      "outputs": [
        {
          "output_type": "display_data",
          "data": {
            "text/plain": [
              "<Figure size 1080x432 with 2 Axes>"
            ],
            "image/png": "[encoded data removed]"
          },
          "metadata": {
            "needs_background": "light"
          }
        }
      ],
      "source": [
        "# Test that this produces the same plot (including the colors, which indicates the computed pdf)\n",
        "gaussian_C = GaussianDistribution(mean=np.array([1, 0]), cov=np.array([[1, 0.9], [0.9, 2]]))\n",
        "\n",
        "# Use these lines to compute the conditionals\n",
        "conditional_C = gaussian_C.get_conditional(dim=0, value=2)\n",
        "\n",
        "# Use these lines to generate the plots - plots both the initial distribution and the conditional along the right axis\n",
        "plot_gaussian(gaussian_C, conditional_dist=conditional_C, condition_axis=0, condition_value=2)"
      ]
    },
    {
      "cell_type": "markdown",
      "metadata": {
        "id": "u7iZiyFYO0jR"
      },
      "source": [
        "# Exercise 2: Conjugate Priors\n",
        "\n",
        "Here, we will consider the example of flipping a coin. The coin may be biased, and has a probability $\\mu$ of heads. The probability of m number of heads in $N$ flips of a coin is a typical case of a *Binomial* distribution, with parameters $\\mu, N$.\n",
        "\n",
        "We would like to infer the probability $\\mu$ of getting heads. We know the following in advance:\n",
        "- A normal coin should have $\\mu=0.5$\n",
        "- The coin is weird in some way, so we cannot be sure that $\\mu=0.5$ \n",
        "\n",
        "To model this problem using Bayesian Inference, we want two things:\n",
        "- A prior probability distribution over $\\mu$ (our belief of $\\mu$ before seeing it)\n",
        "- A likelihood function - a probability distribution over our number of observed heads (which are *$Bin(m|N, \\mu$)*)\n",
        "\n",
        "In this case, the typical choice of prior probability distribution would be a *Beta* prior (with parameters $\\alpha$, $\\beta$), like the one below:"
      ]
    },
    {
      "cell_type": "code",
      "execution_count": null,
      "metadata": {
        "id": "fNUyRVbKO0jR",
        "colab": {
          "base_uri": "https://localhost:8080/",
          "height": 281
        },
        "outputId": "aa390f61-ad05-403a-9ef0-b5bfc9d8ba08"
      },
      "outputs": [
        {
          "output_type": "display_data",
          "data": {
            "text/plain": [
              "<Figure size 432x288 with 1 Axes>"
            ],
            "image/png": "[encoded data removed]"
          },
          "metadata": {
            "needs_background": "light"
          }
        }
      ],
      "source": [
        "prior_alpha, prior_beta = 1, 1\n",
        "pi_heads_prior = beta_dist(prior_alpha, prior_beta)\n",
        "\n",
        "x = np.linspace(0, 1, 101)\n",
        "y = pi_heads_prior.pdf(x)\n",
        "fig2, ax2 = plt.subplots()\n",
        "ax2.plot(x, y)\n",
        "ax2.set_ylim(0)\n",
        "ax2.set_title('Prior distribution over pi')\n",
        "plt.show()"
      ]
    },
    {
      "cell_type": "markdown",
      "metadata": {
        "id": "XScT6WkdO0jR"
      },
      "source": [
        "**Note**\n",
        "A draw from the Beta distribution is always a number between 0 and 1, and represents our belief of the probability that we will get heads. In the example above, it says that you still think that the coin has $\\mu=0.5$ of heads (as that's where the probability mass is the largest).\n"
      ]
    },
    {
      "cell_type": "markdown",
      "metadata": {
        "id": "_ca6zDRFO0jS"
      },
      "source": [
        "## Exercise 2.1"
      ]
    },
    {
      "cell_type": "markdown",
      "metadata": {
        "id": "njPo5RJGO0jS"
      },
      "source": [
        "**Question**:\n",
        "Toy around with the parameters of the beta distribution above. Approximately which parameters would indicate that\n",
        "\n",
        "a. You you think that $\\mu = 0.8$? (name one combination of alpha and beta)\n",
        "\n",
        "b. You you think that $\\mu = 0.2$? (name one combination of alpha and beta)\n",
        "\n",
        "c. You are almost certain that $\\mu = 0.5$?\n",
        "\n",
        "d. You genuinely have no idea?"
      ]
    },
    {
      "cell_type": "markdown",
      "metadata": {
        "id": "unimfTs8O0jS"
      },
      "source": [
        "**Answer**:\n",
        "\n",
        "a. α = 6, β = 2\n",
        "\n",
        "b. α = 2, β = 6\n",
        "\n",
        "c. α = 1000000000, β = 1000000000\n",
        "\n",
        "d. α = 1, β = 1"
      ]
    },
    {
      "cell_type": "markdown",
      "metadata": {
        "id": "C2Pbw8mwO0jS"
      },
      "source": [
        "## Exercise 2.2"
      ]
    },
    {
      "cell_type": "markdown",
      "metadata": {
        "id": "F4Hazc_hO0jS"
      },
      "source": [
        "For the choices of distributions above (*Beta* prior, *Binomial* likelihood), the *Beta* distributions is a **conjugate prior**. This means that the posterior distribution will be of the same form as the prior. As such, when we observe our coinflips, we will update the *Beta* distribution we started with to reflect what we have learned from our observations.\n",
        "\n",
        "**Task**: For the two coin flip datasets, compute the posterior over $\\mu$ using the prior in 2.1 and the updating described in Lecture 2 on Beta-Binomial conjugacy. This method of updating the posterior distribution in closed form is unique for conjugate priors. "
      ]
    },
    {
      "cell_type": "code",
      "execution_count": null,
      "metadata": {
        "id": "gJGoSUPAO0jT",
        "colab": {
          "base_uri": "https://localhost:8080/",
          "height": 363
        },
        "outputId": "d4cb5da8-fd06-4624-c195-c888b190ea71"
      },
      "outputs": [
        {
          "output_type": "execute_result",
          "data": {
            "text/plain": [
              "   head\n",
              "0     0\n",
              "1     1\n",
              "2     1\n",
              "3     1\n",
              "4     1\n",
              "5     0\n",
              "6     1\n",
              "7     1\n",
              "8     1\n",
              "9     1"
            ],
            "text/html": [
              "\n",
              "  <div id=\"df-08c397d2-b7f5-4535-a726-90134e28e4fa\">\n",
              "    <div class=\"colab-df-container\">\n",
              "      <div>\n",
              "<style scoped>\n",
              "    .dataframe tbody tr th:only-of-type {\n",
              "        vertical-align: middle;\n",
              "    }\n",
              "\n",
              "    .dataframe tbody tr th {\n",
              "        vertical-align: top;\n",
              "    }\n",
              "\n",
              "    .dataframe thead th {\n",
              "        text-align: right;\n",
              "    }\n",
              "</style>\n",
              "<table border=\"1\" class=\"dataframe\">\n",
              "  <thead>\n",
              "    <tr style=\"text-align: right;\">\n",
              "      <th></th>\n",
              "      <th>head</th>\n",
              "    </tr>\n",
              "  </thead>\n",
              "  <tbody>\n",
              "    <tr>\n",
              "      <th>0</th>\n",
              "      <td>0</td>\n",
              "    </tr>\n",
              "    <tr>\n",
              "      <th>1</th>\n",
              "      <td>1</td>\n",
              "    </tr>\n",
              "    <tr>\n",
              "      <th>2</th>\n",
              "      <td>1</td>\n",
              "    </tr>\n",
              "    <tr>\n",
              "      <th>3</th>\n",
              "      <td>1</td>\n",
              "    </tr>\n",
              "    <tr>\n",
              "      <th>4</th>\n",
              "      <td>1</td>\n",
              "    </tr>\n",
              "    <tr>\n",
              "      <th>5</th>\n",
              "      <td>0</td>\n",
              "    </tr>\n",
              "    <tr>\n",
              "      <th>6</th>\n",
              "      <td>1</td>\n",
              "    </tr>\n",
              "    <tr>\n",
              "      <th>7</th>\n",
              "      <td>1</td>\n",
              "    </tr>\n",
              "    <tr>\n",
              "      <th>8</th>\n",
              "      <td>1</td>\n",
              "    </tr>\n",
              "    <tr>\n",
              "      <th>9</th>\n",
              "      <td>1</td>\n",
              "    </tr>\n",
              "  </tbody>\n",
              "</table>\n",
              "</div>\n",
              "      <button class=\"colab-df-convert\" onclick=\"convertToInteractive('df-08c397d2-b7f5-4535-a726-90134e28e4fa')\"\n",
              "              title=\"Convert this dataframe to an interactive table.\"\n",
              "              style=\"display:none;\">\n",
              "        \n",
              "  <svg xmlns=\"http://www.w3.org/2000/svg\" height=\"24px\"viewBox=\"0 0 24 24\"\n",
              "       width=\"24px\">\n",
              "    <path d=\"M0 0h24v24H0V0z\" fill=\"none\"/>\n",
              "    <path d=\"M18.56 5.44l.94 2.06.94-2.06 2.06-.94-2.06-.94-.94-2.06-.94 2.06-2.06.94zm-11 1L8.5 8.5l.94-2.06 2.06-.94-2.06-.94L8.5 2.5l-.94 2.06-2.06.94zm10 10l.94 2.06.94-2.06 2.06-.94-2.06-.94-.94-2.06-.94 2.06-2.06.94z\"/><path d=\"M17.41 7.96l-1.37-1.37c-.4-.4-.92-.59-1.43-.59-.52 0-1.04.2-1.43.59L10.3 9.45l-7.72 7.72c-.78.78-.78 2.05 0 2.83L4 21.41c.39.39.9.59 1.41.59.51 0 1.02-.2 1.41-.59l7.78-7.78 2.81-2.81c.8-.78.8-2.07 0-2.86zM5.41 20L4 18.59l7.72-7.72 1.47 1.35L5.41 20z\"/>\n",
              "  </svg>\n",
              "      </button>\n",
              "      \n",
              "  <style>\n",
              "    .colab-df-container {\n",
              "      display:flex;\n",
              "      flex-wrap:wrap;\n",
              "      gap: 12px;\n",
              "    }\n",
              "\n",
              "    .colab-df-convert {\n",
              "      background-color: #E8F0FE;\n",
              "      border: none;\n",
              "      border-radius: 50%;\n",
              "      cursor: pointer;\n",
              "      display: none;\n",
              "      fill: #1967D2;\n",
              "      height: 32px;\n",
              "      padding: 0 0 0 0;\n",
              "      width: 32px;\n",
              "    }\n",
              "\n",
              "    .colab-df-convert:hover {\n",
              "      background-color: #E2EBFA;\n",
              "      box-shadow: 0px 1px 2px rgba(60, 64, 67, 0.3), 0px 1px 3px 1px rgba(60, 64, 67, 0.15);\n",
              "      fill: #174EA6;\n",
              "    }\n",
              "\n",
              "    [theme=dark] .colab-df-convert {\n",
              "      background-color: #3B4455;\n",
              "      fill: #D2E3FC;\n",
              "    }\n",
              "\n",
              "    [theme=dark] .colab-df-convert:hover {\n",
              "      background-color: #434B5C;\n",
              "      box-shadow: 0px 1px 3px 1px rgba(0, 0, 0, 0.15);\n",
              "      filter: drop-shadow(0px 1px 2px rgba(0, 0, 0, 0.3));\n",
              "      fill: #FFFFFF;\n",
              "    }\n",
              "  </style>\n",
              "\n",
              "      <script>\n",
              "        const buttonEl =\n",
              "          document.querySelector('#df-08c397d2-b7f5-4535-a726-90134e28e4fa button.colab-df-convert');\n",
              "        buttonEl.style.display =\n",
              "          google.colab.kernel.accessAllowed ? 'block' : 'none';\n",
              "\n",
              "        async function convertToInteractive(key) {\n",
              "          const element = document.querySelector('#df-08c397d2-b7f5-4535-a726-90134e28e4fa');\n",
              "          const dataTable =\n",
              "            await google.colab.kernel.invokeFunction('convertToInteractive',\n",
              "                                                     [key], {});\n",
              "          if (!dataTable) return;\n",
              "\n",
              "          const docLinkHtml = 'Like what you see? Visit the ' +\n",
              "            '<a target=\"_blank\" href=https://colab.research.google.com/notebooks/data_table.ipynb>data table notebook</a>'\n",
              "            + ' to learn more about interactive tables.';\n",
              "          element.innerHTML = '';\n",
              "          dataTable['output_type'] = 'display_data';\n",
              "          await google.colab.output.renderOutput(dataTable, element);\n",
              "          const docLink = document.createElement('div');\n",
              "          docLink.innerHTML = docLinkHtml;\n",
              "          element.appendChild(docLink);\n",
              "        }\n",
              "      </script>\n",
              "    </div>\n",
              "  </div>\n",
              "  "
            ]
          },
          "metadata": {},
          "execution_count": 71
        }
      ],
      "source": [
        "# read the data and change the coin index\n",
        "coin_index = 1\n",
        "#coin_flips = pd.read_csv(f'data/coin_{coin_index}.csv')\n",
        "coin_flips = pd.read_csv(f'coin_{coin_index}.csv')\n",
        "coin_flips_np = coin_flips.to_numpy()\n",
        "coin_flips.head(10)"
      ]
    },
    {
      "cell_type": "markdown",
      "metadata": {
        "id": "dNyfVYI8O0jT"
      },
      "source": [
        "**Note:** The following widget might be somewhat unresponsive. Try the text input if it does not work properly. The text input only accepts integers."
      ]
    },
    {
      "cell_type": "code",
      "source": [
        "!pip install ipympl "
      ],
      "metadata": {
        "id": "ZmcGQdZOtQcJ"
      },
      "execution_count": null,
      "outputs": []
    },
    {
      "cell_type": "code",
      "source": [
        "# coin_flips = pd.read_csv(f'coin_{1}.csv')\n",
        "# coin_flips_np = coin_flips.to_numpy()\n",
        "# coin_flips.head(10)\n",
        "\n",
        "coin_flips = pd.read_csv(f'coin_{2}.csv')\n",
        "coin_flips_np = coin_flips.to_numpy()"
      ],
      "metadata": {
        "id": "oVYn6ClC06cB"
      },
      "execution_count": null,
      "outputs": []
    },
    {
      "cell_type": "code",
      "source": [
        "import matplotlib as mpl\n",
        "from matplotlib import cm\n",
        "\n",
        "cmap=cm.get_cmap(\"viridis\")\n",
        "\n",
        "fig_27, ax_27 = plt.subplots()\n",
        "\n",
        "x = np.linspace(0, 1, 1001)\n",
        "\n",
        "for n_iterations in range(101):\n",
        "    \n",
        "    posterior_alpha, posterior_beta = 3, 3 # prior\n",
        "    \n",
        "    # EXPECTED SPACE FOR STUDENT CODE - START\n",
        "    \n",
        "    # here, you perform the posterior updating\n",
        "\n",
        "    #heads = len([value == 1 for value in coin_flips_np[:n_iterations]])\n",
        "\n",
        "    flips_thus_far = coin_flips_np[:n_iterations]\n",
        "    \n",
        "    heads = flips_thus_far[flips_thus_far == 1]\n",
        "    tails = flips_thus_far[flips_thus_far == 0]\n",
        "\n",
        "    posterior_alpha += len(heads)\n",
        "    posterior_beta += len(tails)\n",
        "\n",
        "    posterior = beta_dist(posterior_alpha, posterior_beta)\n",
        "    \n",
        "    # EXPECTED SPACE FOR STUDENT CODE - END\n",
        "            \n",
        "    y = posterior.pdf(x)\n",
        "    if n_iterations % 10 == 0:\n",
        "    #if n_iterations == 37:\n",
        "        ax_27.plot(x, y, label=rf\"$i$={n_iterations}, $\\alpha$={posterior_alpha}, $\\beta$={posterior_beta}\", color = cmap(n_iterations/100))\n",
        "    plt.legend()\n",
        "    \n",
        "plt.show()"
      ],
      "metadata": {
        "id": "eepqfvrZrRqq",
        "colab": {
          "base_uri": "https://localhost:8080/",
          "height": 265
        },
        "outputId": "a3f6eeca-5441-4a55-a078-c61c0c86e642"
      },
      "execution_count": null,
      "outputs": [
        {
          "output_type": "display_data",
          "data": {
            "text/plain": [
              "<Figure size 432x288 with 1 Axes>"
            ],
            "image/png": "[encoded data removed]"
          },
          "metadata": {
            "needs_background": "light"
          }
        }
      ]
    },
    {
      "cell_type": "markdown",
      "metadata": {
        "id": "j3qvI2JWO0jT"
      },
      "source": [
        "**Question**:\n",
        "What posterior parameters $\\alpha$, $\\beta$ did you recieve for:\n",
        "\n",
        "a. Coin index 1 using 10 flips?\n",
        "\n",
        "b. Coin index 1 using 100 flips?\n",
        "\n",
        "c. Coin index 2 using 10 flips?\n",
        "\n",
        "d. Does the choice of prior matter for the the posterior distribution? When does it, and when does it not? Try for different priors and numbers of iterations."
      ]
    },
    {
      "cell_type": "markdown",
      "metadata": {
        "id": "CMCihftvO0jU"
      },
      "source": [
        "**Answer**:\n",
        "\n",
        "a. alpha = 11, beta = 5\n",
        "\n",
        "b. alpha = 72, beta = 34\n",
        "\n",
        "c. alpha = 4, beta = 12\n",
        "\n",
        "d. Prior matters more when there is little data to update our model with"
      ]
    },
    {
      "cell_type": "markdown",
      "metadata": {
        "id": "knS5s7fYO0jU"
      },
      "source": [
        "## Exercise 2.3"
      ]
    },
    {
      "cell_type": "markdown",
      "metadata": {
        "id": "r6ZqaRGAO0jU"
      },
      "source": [
        "In the previous exercise, we learned about the conjugate prior of the Bernoulli distribution. There is a [long list](https://en.wikipedia.org/wiki/Conjugate_prior#Table_of_conjugate_distributions) of distributions with their conjugate prior. \n",
        "\n",
        "**Assume you want to place sport bets for the English Football League Fourth Division.** You want to bet on how many goals are scored in the next match. You want to maximize your chances and therefore use a datadriven approach. Let's first load some soccer data from English football leagues. We believe that — on average — there are around 2-3 goals per match.\n",
        "\n",
        "It is known that the number of goals in a football match roughly follows a Poisson distribution. \n",
        "\n",
        "The Poisson distribution can be used to model rare events (like number of meteor strikes in a year or number of goals in a soccer match). It has probability mass function ($x$ is the number of goals, hence the Poisson distribution is a discrete distribution)\n",
        "$$\n",
        "    f(x;\\lambda)=p_{\\lambda}(x)=\\frac{\\lambda^xe^{-\\lambda}}{x!}.\n",
        "$$\n",
        "\n",
        "The conjugate prior distribution of the Poisson distribution is the Gamma distribution with probability mass function (the Gamma distribution is continuous)\n",
        "$$\n",
        "    f(\\lambda;\\alpha,\\beta)=p_{\\alpha, \\beta}(\\lambda)=\\frac{\\beta^{\\alpha}}{\\Gamma(\\alpha)}\\lambda^{\\alpha-1}e^{-\\beta \\lambda},\n",
        "$$\n",
        "where $\\Gamma$ is the Gamma function which has the property $\\Gamma(n)=(n-1)!$ for positive integers $n$, where $n! = \\prod_{i=1}^n i$ is the *factorial* of $n$.\n",
        "\n"
      ]
    },
    {
      "cell_type": "code",
      "execution_count": null,
      "metadata": {
        "id": "Uj7G4EXuO0jU",
        "colab": {
          "base_uri": "https://localhost:8080/",
          "height": 206
        },
        "outputId": "c0d50bbc-b631-44f1-b7fb-b8e49f03512d"
      },
      "outputs": [
        {
          "output_type": "execute_result",
          "data": {
            "text/plain": [
              "             Date  Season                  home         visitor   FT  hgoal  \\\n",
              "74234  1958-08-23    1958                Barrow       Gateshead  0-3      0   \n",
              "74235  1958-08-23    1958  Bradford Park Avenue      Workington  3-2      3   \n",
              "74236  1958-08-23    1958       Carlisle United       Aldershot  1-0      1   \n",
              "74237  1958-08-23    1958               Chester  Torquay United  0-2      0   \n",
              "74238  1958-08-23    1958         Coventry City      Darlington  0-0      0   \n",
              "\n",
              "       vgoal division  tier  totgoal  goaldif result  \n",
              "74234      3        4     4        3       -3      A  \n",
              "74235      2        4     4        5        1      H  \n",
              "74236      0        4     4        1        1      H  \n",
              "74237      2        4     4        2       -2      A  \n",
              "74238      0        4     4        0        0      D  "
            ],
            "text/html": [
              "\n",
              "  <div id=\"df-8fd8f228-2502-4bdf-ad5f-f923956594ec\">\n",
              "    <div class=\"colab-df-container\">\n",
              "      <div>\n",
              "<style scoped>\n",
              "    .dataframe tbody tr th:only-of-type {\n",
              "        vertical-align: middle;\n",
              "    }\n",
              "\n",
              "    .dataframe tbody tr th {\n",
              "        vertical-align: top;\n",
              "    }\n",
              "\n",
              "    .dataframe thead th {\n",
              "        text-align: right;\n",
              "    }\n",
              "</style>\n",
              "<table border=\"1\" class=\"dataframe\">\n",
              "  <thead>\n",
              "    <tr style=\"text-align: right;\">\n",
              "      <th></th>\n",
              "      <th>Date</th>\n",
              "      <th>Season</th>\n",
              "      <th>home</th>\n",
              "      <th>visitor</th>\n",
              "      <th>FT</th>\n",
              "      <th>hgoal</th>\n",
              "      <th>vgoal</th>\n",
              "      <th>division</th>\n",
              "      <th>tier</th>\n",
              "      <th>totgoal</th>\n",
              "      <th>goaldif</th>\n",
              "      <th>result</th>\n",
              "    </tr>\n",
              "  </thead>\n",
              "  <tbody>\n",
              "    <tr>\n",
              "      <th>74234</th>\n",
              "      <td>1958-08-23</td>\n",
              "      <td>1958</td>\n",
              "      <td>Barrow</td>\n",
              "      <td>Gateshead</td>\n",
              "      <td>0-3</td>\n",
              "      <td>0</td>\n",
              "      <td>3</td>\n",
              "      <td>4</td>\n",
              "      <td>4</td>\n",
              "      <td>3</td>\n",
              "      <td>-3</td>\n",
              "      <td>A</td>\n",
              "    </tr>\n",
              "    <tr>\n",
              "      <th>74235</th>\n",
              "      <td>1958-08-23</td>\n",
              "      <td>1958</td>\n",
              "      <td>Bradford Park Avenue</td>\n",
              "      <td>Workington</td>\n",
              "      <td>3-2</td>\n",
              "      <td>3</td>\n",
              "      <td>2</td>\n",
              "      <td>4</td>\n",
              "      <td>4</td>\n",
              "      <td>5</td>\n",
              "      <td>1</td>\n",
              "      <td>H</td>\n",
              "    </tr>\n",
              "    <tr>\n",
              "      <th>74236</th>\n",
              "      <td>1958-08-23</td>\n",
              "      <td>1958</td>\n",
              "      <td>Carlisle United</td>\n",
              "      <td>Aldershot</td>\n",
              "      <td>1-0</td>\n",
              "      <td>1</td>\n",
              "      <td>0</td>\n",
              "      <td>4</td>\n",
              "      <td>4</td>\n",
              "      <td>1</td>\n",
              "      <td>1</td>\n",
              "      <td>H</td>\n",
              "    </tr>\n",
              "    <tr>\n",
              "      <th>74237</th>\n",
              "      <td>1958-08-23</td>\n",
              "      <td>1958</td>\n",
              "      <td>Chester</td>\n",
              "      <td>Torquay United</td>\n",
              "      <td>0-2</td>\n",
              "      <td>0</td>\n",
              "      <td>2</td>\n",
              "      <td>4</td>\n",
              "      <td>4</td>\n",
              "      <td>2</td>\n",
              "      <td>-2</td>\n",
              "      <td>A</td>\n",
              "    </tr>\n",
              "    <tr>\n",
              "      <th>74238</th>\n",
              "      <td>1958-08-23</td>\n",
              "      <td>1958</td>\n",
              "      <td>Coventry City</td>\n",
              "      <td>Darlington</td>\n",
              "      <td>0-0</td>\n",
              "      <td>0</td>\n",
              "      <td>0</td>\n",
              "      <td>4</td>\n",
              "      <td>4</td>\n",
              "      <td>0</td>\n",
              "      <td>0</td>\n",
              "      <td>D</td>\n",
              "    </tr>\n",
              "  </tbody>\n",
              "</table>\n",
              "</div>\n",
              "      <button class=\"colab-df-convert\" onclick=\"convertToInteractive('df-8fd8f228-2502-4bdf-ad5f-f923956594ec')\"\n",
              "              title=\"Convert this dataframe to an interactive table.\"\n",
              "              style=\"display:none;\">\n",
              "        \n",
              "  <svg xmlns=\"http://www.w3.org/2000/svg\" height=\"24px\"viewBox=\"0 0 24 24\"\n",
              "       width=\"24px\">\n",
              "    <path d=\"M0 0h24v24H0V0z\" fill=\"none\"/>\n",
              "    <path d=\"M18.56 5.44l.94 2.06.94-2.06 2.06-.94-2.06-.94-.94-2.06-.94 2.06-2.06.94zm-11 1L8.5 8.5l.94-2.06 2.06-.94-2.06-.94L8.5 2.5l-.94 2.06-2.06.94zm10 10l.94 2.06.94-2.06 2.06-.94-2.06-.94-.94-2.06-.94 2.06-2.06.94z\"/><path d=\"M17.41 7.96l-1.37-1.37c-.4-.4-.92-.59-1.43-.59-.52 0-1.04.2-1.43.59L10.3 9.45l-7.72 7.72c-.78.78-.78 2.05 0 2.83L4 21.41c.39.39.9.59 1.41.59.51 0 1.02-.2 1.41-.59l7.78-7.78 2.81-2.81c.8-.78.8-2.07 0-2.86zM5.41 20L4 18.59l7.72-7.72 1.47 1.35L5.41 20z\"/>\n",
              "  </svg>\n",
              "      </button>\n",
              "      \n",
              "  <style>\n",
              "    .colab-df-container {\n",
              "      display:flex;\n",
              "      flex-wrap:wrap;\n",
              "      gap: 12px;\n",
              "    }\n",
              "\n",
              "    .colab-df-convert {\n",
              "      background-color: #E8F0FE;\n",
              "      border: none;\n",
              "      border-radius: 50%;\n",
              "      cursor: pointer;\n",
              "      display: none;\n",
              "      fill: #1967D2;\n",
              "      height: 32px;\n",
              "      padding: 0 0 0 0;\n",
              "      width: 32px;\n",
              "    }\n",
              "\n",
              "    .colab-df-convert:hover {\n",
              "      background-color: #E2EBFA;\n",
              "      box-shadow: 0px 1px 2px rgba(60, 64, 67, 0.3), 0px 1px 3px 1px rgba(60, 64, 67, 0.15);\n",
              "      fill: #174EA6;\n",
              "    }\n",
              "\n",
              "    [theme=dark] .colab-df-convert {\n",
              "      background-color: #3B4455;\n",
              "      fill: #D2E3FC;\n",
              "    }\n",
              "\n",
              "    [theme=dark] .colab-df-convert:hover {\n",
              "      background-color: #434B5C;\n",
              "      box-shadow: 0px 1px 3px 1px rgba(0, 0, 0, 0.15);\n",
              "      filter: drop-shadow(0px 1px 2px rgba(0, 0, 0, 0.3));\n",
              "      fill: #FFFFFF;\n",
              "    }\n",
              "  </style>\n",
              "\n",
              "      <script>\n",
              "        const buttonEl =\n",
              "          document.querySelector('#df-8fd8f228-2502-4bdf-ad5f-f923956594ec button.colab-df-convert');\n",
              "        buttonEl.style.display =\n",
              "          google.colab.kernel.accessAllowed ? 'block' : 'none';\n",
              "\n",
              "        async function convertToInteractive(key) {\n",
              "          const element = document.querySelector('#df-8fd8f228-2502-4bdf-ad5f-f923956594ec');\n",
              "          const dataTable =\n",
              "            await google.colab.kernel.invokeFunction('convertToInteractive',\n",
              "                                                     [key], {});\n",
              "          if (!dataTable) return;\n",
              "\n",
              "          const docLinkHtml = 'Like what you see? Visit the ' +\n",
              "            '<a target=\"_blank\" href=https://colab.research.google.com/notebooks/data_table.ipynb>data table notebook</a>'\n",
              "            + ' to learn more about interactive tables.';\n",
              "          element.innerHTML = '';\n",
              "          dataTable['output_type'] = 'display_data';\n",
              "          await google.colab.output.renderOutput(dataTable, element);\n",
              "          const docLink = document.createElement('div');\n",
              "          docLink.innerHTML = docLinkHtml;\n",
              "          element.appendChild(docLink);\n",
              "        }\n",
              "      </script>\n",
              "    </div>\n",
              "  </div>\n",
              "  "
            ]
          },
          "metadata": {},
          "execution_count": 25
        }
      ],
      "source": [
        "df = pd.read_csv(\"https://raw.githubusercontent.com/jalapic/engsoccerdata/11f9d9b7a091001e8ef8ea3a1523f4ce7fb4e897/data-raw/england.csv \", on_bad_lines=\"warn\", low_memory=False)\n",
        "\n",
        "df = df[(df['Date'] >= '1950-01-01')] # Let's only consider somewhat recent matches\n",
        "\n",
        "df_first_tier  = df[df[\"tier\"] == 1]\n",
        "df_second_tier = df[df[\"tier\"] == 2]\n",
        "df_third_tier  = df[df[\"tier\"] == 3]\n",
        "df_fourth_tier = df[df[\"tier\"] == 4]\n",
        "df_fourth_tier.head()"
      ]
    },
    {
      "cell_type": "code",
      "execution_count": null,
      "metadata": {
        "id": "a43-AVDZO0jV",
        "colab": {
          "base_uri": "https://localhost:8080/"
        },
        "outputId": "1ff0c52c-2309-4c92-f219-131512901b23"
      },
      "outputs": [
        {
          "output_type": "execute_result",
          "data": {
            "text/plain": [
              "array([3, 5, 1, ..., 2, 4, 2])"
            ]
          },
          "metadata": {},
          "execution_count": 26
        }
      ],
      "source": [
        "goals = df_fourth_tier[\"totgoal\"].to_numpy()\n",
        "goals"
      ]
    },
    {
      "cell_type": "markdown",
      "metadata": {
        "id": "c2cpwIqQO0jV"
      },
      "source": [
        "We know that the conjugate distribution for the Poisson distribution is the Gamma distribution. As before, we want to start with some prior but we don't know yet a lot about the Gamma distribution. Let's visualize it for some values."
      ]
    },
    {
      "cell_type": "code",
      "execution_count": null,
      "metadata": {
        "id": "L_i9UbvZO0jV",
        "colab": {
          "base_uri": "https://localhost:8080/",
          "height": 285
        },
        "outputId": "e6403f73-2a85-4b39-8f96-5ac8fa7f8a13"
      },
      "outputs": [
        {
          "output_type": "display_data",
          "data": {
            "text/plain": [
              "<Figure size 432x288 with 1 Axes>"
            ],
            "image/png": "[encoded data removed]"
          },
          "metadata": {
            "needs_background": "light"
          }
        }
      ],
      "source": [
        "alphas = [1, 2, 3, 5, 8, 7.5, 0.5]\n",
        "betas  = [0.5, 0.5, 0.5, 1, 2, 1, 1]\n",
        "\n",
        "fig23, ax23 = plt.subplots()\n",
        "for _alpha, _beta in zip(alphas, betas):\n",
        "    ax23.plot(np.linspace(0,20,200), gamma_dist(a=_alpha, scale=1/_beta).pdf(np.linspace(0,20,200)), label=rf\"$\\alpha$={_alpha}, $\\beta$={_beta}\")\n",
        "ax23.set_ylim([0, 1])\n",
        "ax23.set_xlabel(r\"$\\lambda$\")\n",
        "ax23.set_ylabel(r\"$p_{\\alpha, \\beta}(\\lambda)$\")\n",
        "ax23.set_xlim([-0.5, 12])\n",
        "ax23.legend()\n",
        "plt.show()"
      ]
    },
    {
      "cell_type": "markdown",
      "metadata": {
        "id": "LN6oTs7uO0jV"
      },
      "source": [
        "Looking at this plot, maybe $\\alpha=2$ and $\\beta=0.5$ is a suitable prior — the **distribution parameter $\\lambda$** of the Poisson distribution is **ideally the true mean of goals** and two goals in a match might be a reasonable guess with more goals becoming less likely.\n",
        "\n",
        "For pedagogical reasons, let's assume you have only very limited data, i.e., **only the goals for five matches**. There certainly is a lot of uncertainty in your bet, but you still want to try your best.\n",
        "\n",
        "To calculate the posterior of the Gamma distribution with prior distribution parameters $\\alpha_0$ and $\\beta_0$, we use the following [rule](https://en.wikipedia.org/wiki/Conjugate_prior#Table_of_conjugate_distributions):\n",
        "\n",
        "$$\n",
        "    \\alpha'=\\alpha_0+\\sum_{i=1}^n x_i,\\quad \\beta' = \\beta_0+n,\n",
        "$$\n",
        "\n",
        "where $\\alpha_0$ and $\\beta_0$ are the priors of the distribution parameters, $n$ is the number of data points, $x_i$ is the number of goals in the $i$-th match, and $\\alpha'$ and $\\beta'$ are the posteriors.\n",
        "\n",
        "**Task:** Find the posterior values $\\alpha'$ and $\\beta'$."
      ]
    },
    {
      "cell_type": "code",
      "execution_count": null,
      "metadata": {
        "id": "scQEFfGdO0jW",
        "colab": {
          "base_uri": "https://localhost:8080/",
          "height": 281
        },
        "outputId": "b6d083ab-0db2-477f-fd98-c3161cfe2562"
      },
      "outputs": [
        {
          "output_type": "display_data",
          "data": {
            "text/plain": [
              "<Figure size 432x288 with 1 Axes>"
            ],
            "image/png": "[encoded data removed]"
          },
          "metadata": {
            "needs_background": "light"
          }
        }
      ],
      "source": [
        "goals_limited = goals[np.random.RandomState(seed=356).permutation(len(goals))[:5]]\n",
        "\n",
        "# EXPECTED SPACE FOR STUDENT CODE - START\n",
        "\n",
        "alpha_prior, beta_prior = 2, 0.5\n",
        "\n",
        "alpha_limited = alpha_prior\n",
        "beta_limited = beta_prior\n",
        "\n",
        "for i in range(len(goals_limited)):\n",
        "  alpha_limited += goals_limited[i]\n",
        "  beta_limited += 1\n",
        "\n",
        "#alpha_limited = alpha_prior + sum(goals_limited) # loopa?\n",
        "#beta_limited = beta_prior + len(goals_limited)\n",
        "\n",
        "# EXPECTED SPACE FOR STUDENT CODE - END\n",
        "\n",
        "fig23_1, ax23_1 = plt.subplots()\n",
        "ax23_1.plot(np.linspace(0,20,200), gamma_dist(a=alpha_limited, scale=1/beta_limited).pdf(np.linspace(0,20,200)), label=rf\"$\\alpha$={alpha_limited}, $\\beta$={beta_limited}\")\n",
        "\n",
        "ax23_1.legend()\n",
        "ax23_1.set_xlabel(r\"$\\lambda$\")\n",
        "ax23_1.set_ylabel(r\"$p(\\lambda|\\mathcal{D})$\")\n",
        "plt.show()"
      ]
    },
    {
      "cell_type": "markdown",
      "metadata": {
        "id": "USopo9szO0jW"
      },
      "source": [
        "**Question:** If you computed `alpha_limited` and `beta_limited` in the previous code cell without using any loops, how could you update $\\alpha$ and $\\beta$ iteratively, for example if you get a stream of data? Otherwise, how could you set $\\alpha'$ and $\\beta'$ without using any loops? \n",
        "\n",
        "**Answer:** You can sum them all at once."
      ]
    },
    {
      "cell_type": "markdown",
      "metadata": {
        "id": "SWG1UdbFO0jW"
      },
      "source": [
        "Now that you found a suitable prior, you might wonder if you rather want to place your bet using only the very limited data from five goals or if you also want to incorporate your prior belief that - on average - there are less than five goals in a match. \n",
        "\n",
        "In particular, you have two options:\n",
        "\n",
        "- You approximate the goal distribution using the empirical mean as the distribution parameter (**MLE**)\n",
        "- You use the point that maximizes the probability density function of your posterior distribution as the distribution parameter (**MAP**)\n",
        "\n",
        "Points that maximize the probability density function or the probability mass function are called \"modes\". While in general, there might be more than one mode, for the Gamma-distribution there is only one and it can easily be found as\n",
        "\n",
        "$$\n",
        "    \\hat{\\lambda} = \\frac{\\alpha'-1}{\\beta'}.\n",
        "$$\n",
        "\n",
        "**Task:** Find the mode of the posterior distribution and the empirical mean of the data."
      ]
    },
    {
      "cell_type": "code",
      "execution_count": null,
      "metadata": {
        "id": "o1aRVvlnO0jW",
        "colab": {
          "base_uri": "https://localhost:8080/",
          "height": 301
        },
        "outputId": "cc61e09f-eb65-4cad-ce42-06c0466cf6bf"
      },
      "outputs": [
        {
          "output_type": "stream",
          "name": "stdout",
          "text": [
            "lambda hat: 4.73\n"
          ]
        },
        {
          "output_type": "display_data",
          "data": {
            "text/plain": [
              "<Figure size 432x288 with 1 Axes>"
            ],
            "image/png": "[encoded data removed]"
          },
          "metadata": {
            "needs_background": "light"
          }
        }
      ],
      "source": [
        "# EXPECTED SPACE FOR STUDENT CODE - START\n",
        "\n",
        "def mode(alpha, beta):\n",
        "  return (alpha - 1) / beta\n",
        "\n",
        "mean_limited = sum(goals_limited) / len(goals_limited)\n",
        "\n",
        "# EXPECTED SPACE FOR STUDENT CODE - END\n",
        "\n",
        "print(f\"lambda hat: {mode(alpha_limited, beta_limited):.3}\")\n",
        "\n",
        "fig23_6, ax23_6 = plt.subplots()\n",
        "ax23_6.scatter(np.arange(10), poisson_dist(mean_limited).pmf(np.arange(10)), marker=\"+\", label = r\"Poisson with $\\lambda=$mean (MLE)\")\n",
        "ax23_6.scatter(np.arange(10), poisson_dist(mode(alpha_limited, beta_limited)).pmf(np.arange(10)), marker=\"*\", label = r\"Poisson with $\\lambda=$posterior mode (MAP)\")\n",
        "ax23_6.set_xlabel(r\"$x$ (number of goals)\")\n",
        "ax23_6.set_ylabel(r\"$p(x)$\")\n",
        "ax23_6.legend()\n",
        "plt.show()"
      ]
    },
    {
      "cell_type": "markdown",
      "metadata": {
        "id": "VO1vINFVO0jX"
      },
      "source": [
        "<div class=\"alert alert-block alert-success\">\n",
        "We see that the MLE model predicts a higher probability for higher numbers of goals. The reason is that for our small subset of data, the mean is quite high and the MLE estimate is not influenced by prior belief. The MAP estimate is biased towards the prior belief of two goals per match.\n",
        "</div>\n",
        "\n",
        "Finally, for your bet, you probably want to predict the number of goals where the Poisson distribution has maximum probability mass function (again, the mode). The mode of the Poisson distribution can easily be found by\n",
        "\n",
        "$$\n",
        "    \\hat{x} = \\lfloor \\lambda \\rfloor\n",
        "$$\n",
        "\n",
        "where $\\lfloor x \\rfloor$ is the largest integer smaller than $x$ (or $x$, if $x$ is an integer itself, i.e., $\\lfloor x \\rfloor = x$ if $x\\in \\mathbb{N}$). This operation is called \"floor function\". It is implemented in Python by `math.floor`.\n",
        "\n",
        "**Task:** Find the number of goals with the highest probability mass for the MLE and the MAP model:"
      ]
    },
    {
      "cell_type": "code",
      "execution_count": null,
      "metadata": {
        "id": "JSAkkalMO0jX",
        "colab": {
          "base_uri": "https://localhost:8080/"
        },
        "outputId": "30043944-3ef1-4dbe-b417-79e0be0ec279"
      },
      "outputs": [
        {
          "output_type": "stream",
          "name": "stdout",
          "text": [
            "Optimal number of goals (MLE): 5\n",
            "Optimal number of goals (MAP): 4\n"
          ]
        }
      ],
      "source": [
        "# EXPECTED SPACE FOR STUDENT CODE - START\n",
        "\n",
        "max_goals_mle = math.floor(sum(goals_limited) / len(goals_limited))\n",
        "max_goals_map = math.floor(mode(alpha_limited, beta_limited))\n",
        "\n",
        "# EXPECTED SPACE FOR STUDENT CODE - END\n",
        "\n",
        "print(f\"Optimal number of goals (MLE): {max_goals_mle}\\nOptimal number of goals (MAP): {max_goals_map}\")"
      ]
    },
    {
      "cell_type": "markdown",
      "metadata": {
        "id": "sM8F9UpFO0jX"
      },
      "source": [
        "Ideally, you find that the two approaches give a different prediction. \n",
        "\n",
        "**Question:** When should you use MAP and when MLE? When are the two approaches equivalent?\n",
        "\n",
        "**Answer:** MLE should be used when the sample size is large due to how unreliable the results are. This stems from how MLE comes from frequency statistics where the likelihood \"speaks for itself\". MAP, on the other hand, should be used when the sample size is small as it stems from Bayesian statistics where prior beliefs limits the result within a range.\n",
        "\n",
        "Knowing all this, when the prior beliefs are within the range of the likelihood, the two approaches should be equivalent."
      ]
    },
    {
      "cell_type": "markdown",
      "metadata": {
        "id": "wluc5nTVO0jX"
      },
      "source": [
        "### Exercise 2.3.1 (Optional): Fully-Bayesian Treatment"
      ]
    },
    {
      "cell_type": "markdown",
      "metadata": {
        "id": "XLA-JLbqO0jX"
      },
      "source": [
        "Okay, we now have a suitable posterior distribution $p(\\lambda | \\mathcal{D})$ - the probability of a certain $\\lambda$, given our data $\\mathcal{D}$. Now, in the MAP approach, we have considered prior knowledge but only up to a certain point. In particular, we used a point estimate $\\hat{\\lambda}$ that maximized the posterior distribution. \n",
        "\n",
        "But our posterior distribution allows to predict a probability for *any* $\\lambda$. Can't we marginalize over all $\\lambda$ to get an even better prediction, using our posterior to the full extent?\n",
        "\n",
        "For this, we need the *posterior predictive distribution*\n",
        "\n",
        "$$\n",
        "    p(x|\\mathcal{D}) = \\int_{\\lambda} \\underbrace{p(x|\\lambda)}_{\\rm Poisson}\\underbrace{p(\\lambda|\\mathcal{D})}_{\\rm Gamma}dk.\n",
        "$$\n",
        "\n",
        "The posterior predictive distribution tells us how likely a datapoint is, given the data $\\mathcal{D}$ we observed by considering the likelihood of $x$ given $\\lambda$ (here, Poisson distribution) and the likelihood of $\\lambda$ by our posterior distribution.\n",
        "\n",
        "Luckily, we do not have to derive the probability above ourselves but there is a closed-form solution for this: the [*Negative Binomial*](https://en.wikipedia.org/wiki/Negative_binomial_distribution) distribution\n",
        "\n",
        "$$\n",
        "    \\text{NB}\\left (x|\\alpha', \\frac{1}{1+\\beta'} \\right ).\n",
        "$$"
      ]
    },
    {
      "cell_type": "markdown",
      "metadata": {
        "id": "aRHPDNo-O0jY"
      },
      "source": [
        "Let us plot the probability mass function for this probability distribution with the posteriors we derived above:"
      ]
    },
    {
      "cell_type": "code",
      "execution_count": null,
      "metadata": {
        "id": "_a_QyO06O0jY"
      },
      "outputs": [],
      "source": [
        "fig23_2, ax23_2 = plt.subplots()\n",
        "ax23_2.scatter(np.arange(10), nbinom_dist(n=alpha_limited, p=1/(1+(1/beta_limited))).pmf(np.arange(10)))\n",
        "ax23_2.set_xlabel(r\"$x$ (number of goals)\")\n",
        "ax23_2.set_ylabel(r\"$p(x|\\mathcal{D})$\")\n",
        "plt.show()"
      ]
    },
    {
      "cell_type": "markdown",
      "metadata": {
        "id": "1IYSkvFpO0jY"
      },
      "source": [
        "This looks very similar to a Poisson distribution we had earlier. Let's compare the different approaches:"
      ]
    },
    {
      "cell_type": "code",
      "execution_count": null,
      "metadata": {
        "id": "rqenQfU8O0jY"
      },
      "outputs": [],
      "source": [
        "fig23_3, ax23_3 = plt.subplots()\n",
        "ax23_3.scatter(np.arange(10), nbinom_dist(n=alpha_limited, p=1/(1+(1/beta_limited))).pmf(np.arange(10)), marker=\"x\", label = \"Negative Binomial (Fully-Bayesian)\")\n",
        "ax23_3.scatter(np.arange(10), poisson_dist(mean_limited).pmf(np.arange(10)), marker=\"+\", label = r\"Poisson with $\\lambda=$mean (MLE)\")\n",
        "ax23_3.scatter(np.arange(10), poisson_dist(mode(alpha_limited, beta_limited)).pmf(np.arange(10)), marker=\"*\", label = r\"Poisson with $\\lambda=$mode of posterior (MAP)\")\n",
        "ax23_3.set_xlabel(r\"$x$ (number of goals)\")\n",
        "ax23_3.set_ylabel(r\"$p(x|\\mathcal{D})$\")\n",
        "ax23_3.legend()\n",
        "plt.show()"
      ]
    },
    {
      "cell_type": "markdown",
      "metadata": {
        "id": "OIOSkagJO0jY"
      },
      "source": [
        "<div class=\"alert alert-block alert-success\">\n",
        "The fully-Bayesian model considers the posterior distribution over $\\lambda$, which looks like a Gaussian around the mode $\\lambda'$ but slightly right-skewed. Hence, the fully-Bayesian model predicts slightly higher probabilities than the MAP model for $\\lambda$ that are more distant to $\\lambda'$ and lower probabilities for $\\lambda$ that are close to $\\lambda'$ (as the probabilities need to sum to 1). Moreover, due to the right-skewedness, the difference is more distinct for high numbers of goals than for low numbers.\n",
        "</div>\n",
        "\n",
        "Let's find the point of maximum probability in the fully-Bayesian case. The mode for the Negative Binomial distribution can be found by\n",
        "\n",
        "$$\n",
        "    \\hat{x} = \\begin{cases}\\left \\lfloor \\frac{\\alpha'-1}{\\beta'} \\right \\rfloor & \\text{if } \\alpha'>1 \\\\ 0 & \\text{otherwise}\\end{cases}\n",
        "$$\n",
        "\n",
        "Assume that $\\alpha'>1$.\n",
        "\n",
        "**Task:** Find the number of goals with maximum probability mass for the fully-Bayesian approach (using math, not the figure)."
      ]
    },
    {
      "cell_type": "code",
      "execution_count": null,
      "metadata": {
        "id": "hnt4Rj5hO0jY"
      },
      "outputs": [],
      "source": [
        "# EXPECTED SPACE FOR STUDENT CODE - START\n",
        "\n",
        "# max_goals_fully_bayesian = ...\n",
        "\n",
        "# EXPECTED SPACE FOR STUDENT CODE - END\n",
        "\n",
        "print(f\"Optimal number of goals (MLE): {max_goals_mle}\\nOptimal number of goals (MAP): {max_goals_map}\\nOptimal number of goals (Fully Bayesian):{max_goals_fully_bayesian}\")"
      ]
    },
    {
      "cell_type": "markdown",
      "metadata": {
        "id": "N3H-MqX9O0jZ"
      },
      "source": [
        "**Question:** What do you think which model you should use?\n",
        "\n",
        "**Answer:**"
      ]
    },
    {
      "cell_type": "markdown",
      "metadata": {
        "id": "aoqXHwnIO0jZ"
      },
      "source": [
        "But what happens if we use all the data?\n",
        "\n",
        "**Task:** Find the posterior values $\\alpha'$ and $\\beta'$ when using the entire dataset."
      ]
    },
    {
      "cell_type": "code",
      "execution_count": null,
      "metadata": {
        "id": "DDAHQCh1O0jZ"
      },
      "outputs": [],
      "source": [
        "# EXPECTED SPACE FOR STUDENT CODE - START\n",
        "\n",
        "# alpha_full = ...\n",
        "# beta_full = ...\n",
        "\n",
        "# EXPECTED SPACE FOR STUDENT CODE - END\n",
        "\n",
        "fig23_4, ax23_4 = plt.subplots()\n",
        "ax23_4.plot(np.linspace(2,3,1000), gamma_dist(a=alpha_full, scale=1/beta_full).pdf(np.linspace(2,3,1000)), label=rf\"$\\alpha$={alpha_full}, $\\beta$={beta_full}\")\n",
        "ax23_4.set_xlabel(r\"$\\lambda$\")\n",
        "ax23_4.set_ylabel(r\"$p(\\lambda|\\mathcal{D})$\")\n",
        "ax23_4.legend()\n",
        "plt.show()"
      ]
    },
    {
      "cell_type": "markdown",
      "metadata": {
        "id": "4rn4fhMvO0jZ"
      },
      "source": [
        "Now, the conjugate posterior is very peaked at one point. What could this point be? \n",
        "\n",
        "**Task:** Find the mysterious point."
      ]
    },
    {
      "cell_type": "code",
      "execution_count": null,
      "metadata": {
        "id": "_RKDeHX4O0jZ"
      },
      "outputs": [],
      "source": [
        "# EXPECTED SPACE FOR STUDENT CODE - START\n",
        "\n",
        "# mysterious_point = ...\n",
        "\n",
        "# EXPECTED SPACE FOR STUDENT CODE - END\n",
        "\n",
        "mysterious_point"
      ]
    },
    {
      "cell_type": "markdown",
      "metadata": {
        "id": "Sng71n_YO0jZ"
      },
      "source": [
        "And what is the mean of the data?\n",
        "\n",
        "**Task:** Find the mean of the `goals` data."
      ]
    },
    {
      "cell_type": "code",
      "execution_count": null,
      "metadata": {
        "id": "l-JDrHDMO0ja"
      },
      "outputs": [],
      "source": [
        "# EXPECTED SPACE FOR STUDENT CODE - START\n",
        "\n",
        "# mean_full = ...\n",
        "\n",
        "# EXPECTED SPACE FOR STUDENT CODE - END\n",
        "mean_full"
      ]
    },
    {
      "cell_type": "markdown",
      "metadata": {
        "id": "VI3YTBXrO0ja"
      },
      "source": [
        "**Question:** Why does this happen?\n",
        "\n",
        "**Answer:**"
      ]
    },
    {
      "cell_type": "markdown",
      "metadata": {
        "id": "FbJm7d6iO0ja"
      },
      "source": [
        "Now, there should be no difference between the three approaches anymore, right?"
      ]
    },
    {
      "cell_type": "code",
      "execution_count": null,
      "metadata": {
        "id": "ya4SyJK_O0ja"
      },
      "outputs": [],
      "source": [
        "fig23_5, ax23_5 = plt.subplots()\n",
        "ax23_5.scatter(np.arange(10),nbinom_dist(n=alpha_full, p=1/(1+(1/beta_full))).pmf(np.arange(10)), marker=\"x\", label = \"Negative Binomial (Fully Bayesian)\")\n",
        "ax23_5.scatter(np.arange(10),poisson_dist(mean_full).pmf(np.arange(10)), marker=\"+\", label = \"Poisson (MLE)\")\n",
        "ax23_5.scatter(np.arange(10),poisson_dist((alpha_full-1)/beta_full).pmf(np.arange(10)), marker=\"*\", label = r\"Poisson with $\\lambda=$mode of posterior (MAP)\")\n",
        "ax23_5.set_xlabel(r\"$x$ (number of goals)\")\n",
        "ax23_5.set_ylabel(r\"$p(x|\\mathcal{D})$\")\n",
        "ax23_5.legend()\n",
        "plt.show()"
      ]
    },
    {
      "cell_type": "markdown",
      "metadata": {
        "id": "OTT92h9zO0ja"
      },
      "source": [
        "Yes, the two plots overlap - which is what we expect. The posterior is very peaky and the empirical mean is close to the true mean. Note that we most likely see two goals in a match whereas we predicted 4 or 5 before."
      ]
    },
    {
      "cell_type": "markdown",
      "metadata": {
        "id": "rzKX_8O-O0ja"
      },
      "source": [
        "# Exercise 3 - MLE, Overfitting and Cross-validation\n",
        "Here, we are going to look at a synthetic regression problem, and how under- and overfitting can occur through better or worse model parameterizations. We will also look at the most common mean of evaluating model performance, namely cross-validation. We'll consider learning the function below through polynomial regression on a number of given data points:"
      ]
    },
    {
      "cell_type": "code",
      "execution_count": null,
      "metadata": {
        "id": "o0BCLBDdO0jb",
        "colab": {
          "base_uri": "https://localhost:8080/",
          "height": 265
        },
        "outputId": "f8dcb4ba-05c1-4953-be2c-63e6e2c005a0"
      },
      "outputs": [
        {
          "output_type": "display_data",
          "data": {
            "text/plain": [
              "<Figure size 432x288 with 1 Axes>"
            ],
            "image/png": "[encoded data removed]"
          },
          "metadata": {
            "needs_background": "light"
          }
        }
      ],
      "source": [
        "def true_function(X):\n",
        "    return 12 * np.exp(-1e6 * np.power(1.2 * (X - 0.5), 16)) * np.sin((X - 0.5))\n",
        "\n",
        "def noisy_function(X):\n",
        "    return true_function(X) + np.random.randn(X.size) * 0.04\n",
        "\n",
        "eval_points = np.array([0.01, 0.1, 0.21, 0.52, 0.61, 0.78, 0.80, 0.81, 0.99])\n",
        "X_plot = np.linspace(0, 1, 101)\n",
        "\n",
        "fig3, ax3 = plt.subplots()\n",
        "ax3.plot(X_plot, true_function(X_plot), label='True function')\n",
        "ax3.scatter(eval_points, noisy_function(eval_points), c='r', label='Training points')\n",
        "ax3.legend()\n",
        "ax3.set_ylim(-5, 5)\n",
        "plt.show()"
      ]
    },
    {
      "cell_type": "markdown",
      "metadata": {
        "id": "qoDM9ywxO0jb"
      },
      "source": [
        "## Exercise 3.1\n",
        "Look at the class `PolynomialRegression` (a type of Generalized Linear Model) and pay attention to its attributes and _predict_ method. This class is intended to fit a polynomial of a given degree to the data points, by calling some method to fit the data points.\n",
        "\n",
        "__Task__: Implement the closed-form Maximum Likelihood parameter estimation in the `fit_MLE` method. The closed-form expression for the optimal parameters can be found in Lecture 3, on the section on Maximum Likelihood. Ensure it works by fitting a polynomial of degree 10 to the data points - it should fit most data points reasonably well.\n",
        "\n",
        "__Hint__: Keep in mind that a polynomial of degree 2 has 3 coefficients."
      ]
    },
    {
      "cell_type": "code",
      "execution_count": null,
      "metadata": {
        "id": "kEeQOgs8O0jb"
      },
      "outputs": [],
      "source": [
        "class PolynomialRegression:\n",
        "    \n",
        "    def __init__(self, degree):\n",
        "        \"\"\"\n",
        "        A Polynomial Regression model of a given degree,\n",
        "\n",
        "        Args:\n",
        "            degree (int): The degree of the polynomial regression.\n",
        "        \"\"\"        \n",
        "        self.degree = degree\n",
        "        self.weights = None\n",
        "        \n",
        "    def fit_MLE(self, X, y):\n",
        "        \"\"\"\n",
        "        Fits the weights of the model according to the Maximum Likelihood.\n",
        "\n",
        "        Args:\n",
        "            X ([type]): The explanatory variables of the data.\n",
        "            y ([type]): The dependent variables of the data.\n",
        "        \"\"\"\n",
        "        # EXPECTED SPACE FOR STUDENT CODE - START\n",
        "\n",
        "        # here, you fit the weights closed-form according to MLE\n",
        "        # maximize sum i to n log(P(yi|xi ; h)) where h is the linear regression model ???\n",
        "        # theta = np.power(X[:, np.newaxis], np.arange(self.degree+1))\n",
        "        \n",
        "        polyX = np.power(X[:, np.newaxis], np.arange(self.degree + 1))\n",
        "        \n",
        "        theta = np.linalg.inv(polyX.T @ polyX) @ polyX.T @ y\n",
        "\n",
        "        self.weights = theta\n",
        "\n",
        "        return \n",
        "\n",
        "        # EXPECTED SPACE FOR STUDENT CODE - END\n",
        "    \n",
        "    \n",
        "    def predict(self, X):\n",
        "        \"\"\"\n",
        "        Predicts the output value(s) of a fitted model on the data point(s) X,\n",
        "\n",
        "        Args:\n",
        "            X ([type]): The explanatory variables of the data point(s) that is to \n",
        "            be predicted..\n",
        "\n",
        "        Raises:\n",
        "            ValueError: If no model is fitted (self.weights are None), no prediction\n",
        "            can be made and an error is raised.\n",
        "\n",
        "        Returns:\n",
        "            np.ndarray: The predicted output value of the data point(s) X.\n",
        "        \"\"\"        \n",
        "\n",
        "        if self.weights is None:\n",
        "            raise ValueError('Need to fit the model before predicting!')\n",
        "\n",
        "        theta = np.power(X[:, np.newaxis], np.arange(self.degree+1))\n",
        "        preds = theta.dot(self.weights)\n",
        "        return preds\n",
        "            \n",
        "    def print_weights(self):\n",
        "        \"\"\"\n",
        "        Prints the weights of the model in a structured format.\n",
        "        \"\"\"        \n",
        "        for i in range(self.degree):\n",
        "            print('Coeff. theta^{}:   {:.2f}'.format(i, self.weights[i]))"
      ]
    },
    {
      "cell_type": "code",
      "source": [
        "polynomial_degree = 3\n",
        "\n",
        "pr = PolynomialRegression(polynomial_degree)\n",
        "X_eval = np.array([0.01, 0.05, 0.1, 0.21, 0.27, 0.32, 0.34, 0.52, 0.55, 0.68, 0.78, 0.80, 0.87, 0.97, 0.99])\n",
        "y_eval = noisy_function(X_eval)\n",
        "pr.fit_MLE(X_eval, y_eval)"
      ],
      "metadata": {
        "id": "X-Vbv0mSoqsV"
      },
      "execution_count": null,
      "outputs": []
    },
    {
      "cell_type": "code",
      "execution_count": null,
      "metadata": {
        "id": "dllHzroIO0jb",
        "colab": {
          "base_uri": "https://localhost:8080/",
          "height": 265
        },
        "outputId": "02249edb-741d-48d8-96f9-01302f5a1872"
      },
      "outputs": [
        {
          "output_type": "display_data",
          "data": {
            "text/plain": [
              "<Figure size 432x288 with 1 Axes>"
            ],
            "image/png": "[encoded data removed]"
          },
          "metadata": {
            "needs_background": "light"
          }
        }
      ],
      "source": [
        "#polynomial_degree = 7\n",
        "\n",
        "# pr = PolynomialRegression(polynomial_degree)\n",
        "\n",
        "# X_eval = np.array([0.01, 0.05, 0.1, 0.21, 0.27, 0.32, 0.34, 0.52, 0.55, 0.68, 0.78, 0.80, 0.87, 0.97, 0.99])\n",
        "# # calling noisy_function will sample new noise for each point!\n",
        "# y_eval = noisy_function(X_eval)\n",
        "# pr.fit_MLE(X_eval, y_eval)\n",
        "\n",
        "# Plotting\n",
        "X_plot = np.linspace(-0.0, 1.0, 101)\n",
        "fig3_1, ax3_1 = plt.subplots()\n",
        "ax3_1.plot(X_plot, true_function(X_plot), label='True function')\n",
        "\n",
        "ax3_1.scatter(X_eval, y_eval, c='r', label='Training points')\n",
        "ax3_1.plot(X_plot, pr.predict(X_plot), label=f'Learned function of degree {polynomial_degree}')\n",
        "ax3_1.set_ylim(-5, 5)\n",
        "ax3_1.legend()\n",
        "plt.show()"
      ]
    },
    {
      "cell_type": "markdown",
      "metadata": {
        "id": "M-4kxziBO0jc"
      },
      "source": [
        "## Exercise 3.2\n",
        "We will now discover what happens if we under- and overfit parameters, as well as how additional data helps counteract overfitting. \n",
        "\n",
        "__Task__: Toy around with the fit of the generalized linear model below to find degrees where it under- and overfits. Try polynomials of different orders by changing the _polynomial_degree_ parameter. When you overfit, try change the _added_samples_ parameter.\n",
        "\n",
        "\n",
        "__Questions__:\n",
        "\n",
        "1. Judging by eye, which degree seems to consistently give the best fit?\n",
        "2. How can one tell, only by looking at the parameter values of the model, if overfitting has occured?"
      ]
    },
    {
      "cell_type": "markdown",
      "metadata": {
        "id": "YQC_d-F1O0jc"
      },
      "source": [
        "__Answer__:\n",
        "\n",
        "1. Degree 5\n",
        "2. One or several parameter values skyrockets up or down. There is great fluctuation between parameters."
      ]
    },
    {
      "cell_type": "code",
      "execution_count": null,
      "metadata": {
        "id": "P1ZCkTiUO0jc",
        "colab": {
          "base_uri": "https://localhost:8080/"
        },
        "outputId": "1fb82610-f5ef-43c7-92be-02b3541520e0"
      },
      "outputs": [
        {
          "output_type": "stream",
          "name": "stdout",
          "text": [
            "Coeff. theta^0:   -0.06\n",
            "Coeff. theta^1:   -3.74\n",
            "Coeff. theta^2:   551.97\n",
            "Coeff. theta^3:   -9717.21\n",
            "Coeff. theta^4:   60069.77\n",
            "Coeff. theta^5:   -182180.14\n",
            "Coeff. theta^6:   298196.66\n",
            "Coeff. theta^7:   -255248.70\n",
            "Coeff. theta^8:   85266.45\n",
            "Coeff. theta^9:   16564.38\n"
          ]
        }
      ],
      "source": [
        "# Test out these parameters to answer the questions!\n",
        "polynomial_degree = 10\n",
        "added_samples = 100\n",
        "\n",
        "pr = PolynomialRegression(polynomial_degree)\n",
        "X_added = np.random.uniform(size=added_samples)\n",
        "# calling noisy_function will sample new noise for each point!\n",
        "y_eval = noisy_function(X_eval)\n",
        "y_added = noisy_function(X_added)\n",
        "\n",
        "all_X = np.append(X_eval, X_added, axis=0)\n",
        "all_y = np.append(y_eval, y_added, axis=0)\n",
        "\n",
        "pr.fit_MLE(all_X, all_y)\n",
        "pr.print_weights()"
      ]
    },
    {
      "cell_type": "code",
      "execution_count": null,
      "metadata": {
        "id": "iXHmQlzCO0jc",
        "colab": {
          "base_uri": "https://localhost:8080/",
          "height": 265
        },
        "outputId": "38e58c99-698b-40c1-8701-8073c2326f86"
      },
      "outputs": [
        {
          "output_type": "display_data",
          "data": {
            "text/plain": [
              "<Figure size 432x288 with 1 Axes>"
            ],
            "image/png": "[encoded data removed]"
          },
          "metadata": {
            "needs_background": "light"
          }
        }
      ],
      "source": [
        "X_plot = np.linspace(0, 1, 101)\n",
        "fig3_2, ax3_2 = plt.subplots()\n",
        "\n",
        "ax3_2.plot(X_plot, true_function(X_plot), label='True function')\n",
        "\n",
        "ax3_2.scatter(X_eval, y_eval, c='r', label='Training points')\n",
        "if added_samples > 0:\n",
        "    ax3_2.scatter(X_added, y_added, c='g', label='Additional points')\n",
        "ax3_2.plot(X_plot, pr.predict(X_plot), label=f'Learned function of degree {polynomial_degree}')\n",
        "ax3_2.set_ylim(-5, 5)\n",
        "ax3_2.legend()\n",
        "plt.show()"
      ]
    },
    {
      "cell_type": "markdown",
      "metadata": {
        "id": "EOjur1FxO0jd"
      },
      "source": [
        "## Exercise 3.3\n",
        "To evaluate the models produced, one commonly uses cross-validation. \n",
        "\n",
        "__Task__: Implement K-fold cross validation and find your best model with RMSE as your metric. Plot the best model. Use only the initial data, without additional samples. Implement yourself or use an existing tool, e.g.  <a href=\"http://scikit-learn.org/stable/modules/cross_validation.html\" title=\"Scikit-Learn Cross Validation\">Scikit-Learn</a>.\n",
        "\n",
        "__Tip__: Ensure nearby points don't go in the same batch, so that every model has data from the entire space.\n",
        "\n",
        "__Question__:\n",
        "What performance (RMSE, average on the test sets) did your top-performing model yield for K = 5?"
      ]
    },
    {
      "cell_type": "markdown",
      "metadata": {
        "id": "bIw2LEruO0jd"
      },
      "source": [
        "__Answer__:"
      ]
    },
    {
      "cell_type": "code",
      "source": [
        "def rmse(y, prediction):\n",
        "  diffArr = np.array([a**2 for a in (y - prediction)])\n",
        "  return math.sqrt(sum(diffArr)/len(diffArr))"
      ],
      "metadata": {
        "id": "9L11J52QIeAJ"
      },
      "execution_count": null,
      "outputs": []
    },
    {
      "cell_type": "code",
      "execution_count": null,
      "metadata": {
        "id": "ITpCoYfVO0jd",
        "colab": {
          "base_uri": "https://localhost:8080/"
        },
        "outputId": "e2419fac-0818-43c7-ce22-1953825b5bb0"
      },
      "outputs": [
        {
          "output_type": "execute_result",
          "data": {
            "text/plain": [
              "array([2.22026431, 1.8701809 , 1.84156172, 1.12169712, 1.33420174,\n",
              "       1.039818  , 1.07525421, 0.90089414, 1.03147934, 0.47722243,\n",
              "       1.50528237])"
            ]
          },
          "metadata": {},
          "execution_count": 81
        }
      ],
      "source": [
        "# EXPECTED SPACE FOR STUDENT CODE - START\n",
        "\n",
        "models = np.arange(11)\n",
        "model_results = np.zeros(11)\n",
        "\n",
        "X_eval = np.array([0.01, 0.05, 0.1, 0.21, 0.27, 0.32, 0.34, 0.52, 0.55, 0.68, 0.78, 0.80, 0.87, 0.97, 0.99])\n",
        "\n",
        "K = 5\n",
        "last_K_i = math.floor(len(X_eval) * (K-1)/K) \n",
        "\n",
        "np.random.shuffle(X_eval)\n",
        "\n",
        "sklearn.model_selection.KFold(n_splits=5, *, shuffle=False, random_state=None)[source]\n",
        "\n",
        "for model in models:\n",
        "  pr = PolynomialRegression(model)\n",
        "  summed_model_results = 0\n",
        "  for i in range(5):\n",
        "    y_eval = noisy_function(X_eval)\n",
        "\n",
        "    X_training = X_eval[:last_K_i]\n",
        "    y_training = y_eval[:last_K_i]\n",
        "    X_test = X_eval[last_K_i:]\n",
        "    y_test = y_eval[last_K_i:]\n",
        "\n",
        "    pr.fit_MLE(X_training, y_training)\n",
        "    prediction = pr.predict(X_test)\n",
        "\n",
        "    summed_model_results += rmse(y_test, prediction)\n",
        "\n",
        "  model_results[model] = summed_model_results / 5\n",
        "\n",
        "\n",
        "model_results\n",
        "# EXPECTED SPACE FOR STUDENT CODE - END"
      ]
    },
    {
      "cell_type": "code",
      "source": [
        "pr = PolynomialRegression(5)\n",
        "\n",
        "X_training = X_eval[:last_K_i]\n",
        "y_training = y_eval[:last_K_i]\n",
        "X_test = X_eval[last_K_i:]\n",
        "y_test = y_eval[last_K_i:]\n",
        "\n",
        "pr.fit_MLE(X_training, y_training)\n",
        "\n",
        "X_plot = np.linspace(0, 1, 101)\n",
        "fig3_2, ax3_2 = plt.subplots()\n",
        "\n",
        "ax3_2.plot(X_plot, true_function(X_plot), label='True function')\n",
        "\n",
        "ax3_2.scatter(X_eval, y_eval, c='r', label='Training points')\n",
        "\n",
        "ax3_2.plot(X_plot, pr.predict(X_plot), label=f'Learned function of degree {5}')\n",
        "ax3_2.set_ylim(-5, 5)\n",
        "ax3_2.legend()\n",
        "plt.show()"
      ],
      "metadata": {
        "colab": {
          "base_uri": "https://localhost:8080/",
          "height": 265
        },
        "id": "pdpsuuYjSx5L",
        "outputId": "5357dfb9-86e1-47be-8e1a-d0df2e86342c"
      },
      "execution_count": null,
      "outputs": [
        {
          "output_type": "display_data",
          "data": {
            "text/plain": [
              "<Figure size 432x288 with 1 Axes>"
            ],
            "image/png": "[encoded data removed]"
          },
          "metadata": {
            "needs_background": "light"
          }
        }
      ]
    },
    {
      "cell_type": "code",
      "source": [
        "arr = np.zeros(10)\n",
        "len(arr)"
      ],
      "metadata": {
        "colab": {
          "base_uri": "https://localhost:8080/"
        },
        "id": "nhHluN0NPh_R",
        "outputId": "54270e4f-29e1-4475-b289-f76339890618"
      },
      "execution_count": null,
      "outputs": [
        {
          "output_type": "execute_result",
          "data": {
            "text/plain": [
              "10"
            ]
          },
          "metadata": {},
          "execution_count": 18
        }
      ]
    },
    {
      "cell_type": "markdown",
      "metadata": {
        "id": "kbWROXSUO0jd"
      },
      "source": [
        "## Exercise 3.4 (Optional)\n",
        "\n",
        "You might have noticed that when you set the polynomial degree higher than the number of data points, the polynomial does not fit the data perfectly. However, this is what you would expect as the linear system of equations is overconstrained (test this by, e.g., using a polynomial of degree 100):"
      ]
    },
    {
      "cell_type": "code",
      "execution_count": null,
      "metadata": {
        "id": "mTJJ3IwAO0jd"
      },
      "outputs": [],
      "source": [
        "polynomial_degree = 100\n",
        "\n",
        "pr = PolynomialRegression(polynomial_degree)\n",
        "\n",
        "X_eval = np.array([0.01, 0.05, 0.1, 0.21, 0.27, 0.32, 0.34, 0.52, 0.55, 0.68, 0.78, 0.80, 0.87, 0.97, 0.99])\n",
        "# calling noisy_function will sample new noise for each point!\n",
        "y_eval = noisy_function(X_eval)\n",
        "pr.fit_MLE(X_eval, y_eval)\n",
        "\n",
        "# Plotting\n",
        "X_plot = np.linspace(-0.0, 1.0, 101)\n",
        "fig3_3, ax3_3 = plt.subplots()\n",
        "ax3_3.plot(X_plot, true_function(X_plot), label='True function')\n",
        "\n",
        "ax3_3.scatter(X_eval, y_eval, c='r', label='Training points')\n",
        "ax3_3.plot(X_plot, pr.predict(X_plot), label=f'Learned function of degree {polynomial_degree}')\n",
        "ax3_3.set_ylim(-5, 5)\n",
        "ax3_3.legend()\n",
        "plt.show()"
      ]
    },
    {
      "cell_type": "markdown",
      "metadata": {
        "id": "WgdapCSqO0jd"
      },
      "source": [
        "In the lecture, you learned about the closed-form MLE solution which you probably used to solve above question. However, note that our original problem is a least squares problem:\n",
        "\n",
        "$$\n",
        "   \\min_{\\mathbf{\\beta}} || \\mathbf{y} - \\theta\\beta  ||^{2}\n",
        "$$\n",
        "\n",
        "You might have noticed that for high polynomial degrees, the polynomial does not fit the datapoints perfectly - even though this is what you would expect. This is because using the closed-form solution is numerically unstable. In fact, we are better off using NumPy's `numpy.linalg.lstsq` which takes the coefficient matrix $\\theta$ and the vector $\\mathbf{y}$ as input and returns a $\\beta$ that satisfies above formula. `numpy.linalg.lstsq` uses an iterative approach for solving the problem and is much more stable.\n",
        "\n",
        "**Task:** Change the `fit_MLE` function to use `numpy.linalg.lstsq` and see how the solution gets more stable by using polynomials of high degrees. Note that `numpy.linalg.lstsq` returns a tuple from which you need the first element, also you might want to set `rcond=None` when calling `numpy.linalg.lstsq` to suppress warnings.\n",
        "\n",
        "After changing the `fit_MLE` function, the polynomial of degree 100 should fit all points perfectly."
      ]
    },
    {
      "cell_type": "code",
      "execution_count": null,
      "metadata": {
        "id": "ydZWiQFsO0je"
      },
      "outputs": [],
      "source": []
    }
  ],
  "metadata": {
    "kernelspec": {
      "display_name": "Python 3 (ipykernel)",
      "language": "python",
      "name": "python3"
    },
    "language_info": {
      "codemirror_mode": {
        "name": "ipython",
        "version": 3
      },
      "file_extension": ".py",
      "mimetype": "text/x-python",
      "name": "python",
      "nbconvert_exporter": "python",
      "pygments_lexer": "ipython3",
      "version": "3.10.6"
    },
    "colab": {
      "provenance": [],
      "collapsed_sections": [
        "wluc5nTVO0jX"
      ]
    }
  },
  "nbformat": 4,
  "nbformat_minor": 0
}